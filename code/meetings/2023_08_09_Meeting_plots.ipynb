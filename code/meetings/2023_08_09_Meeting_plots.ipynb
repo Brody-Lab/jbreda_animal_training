{
 "cells": [
  {
   "cell_type": "code",
   "execution_count": 2,
   "metadata": {},
   "outputs": [
    {
     "ename": "ModuleNotFoundError",
     "evalue": "No module named 'create_trials_df'",
     "output_type": "error",
     "traceback": [
      "\u001b[1;31m---------------------------------------------------------------------------\u001b[0m",
      "\u001b[1;31mModuleNotFoundError\u001b[0m                       Traceback (most recent call last)",
      "Cell \u001b[1;32mIn[2], line 11\u001b[0m\n\u001b[0;32m      8\u001b[0m \u001b[39mimport\u001b[39;00m \u001b[39mdatajoint\u001b[39;00m \u001b[39mas\u001b[39;00m \u001b[39mdj\u001b[39;00m\n\u001b[0;32m      9\u001b[0m dj\u001b[39m.\u001b[39mblob\u001b[39m.\u001b[39muse_32bit_dims \u001b[39m=\u001b[39m \u001b[39mTrue\u001b[39;00m \u001b[39m# necessary for pd.blob read\u001b[39;00m\n\u001b[1;32m---> 11\u001b[0m \u001b[39mfrom\u001b[39;00m \u001b[39mcreate_trials_df\u001b[39;00m \u001b[39mimport\u001b[39;00m create_trials_df_from_dj\n\u001b[0;32m     12\u001b[0m \u001b[39mfrom\u001b[39;00m \u001b[39mcreate_days_df\u001b[39;00m \u001b[39mimport\u001b[39;00m create_days_df_from_dj, lazy_load_days_summary_df\n\u001b[0;32m     13\u001b[0m \u001b[39m# from plot_trials_info import *\u001b[39;00m\n",
      "\u001b[1;31mModuleNotFoundError\u001b[0m: No module named 'create_trials_df'"
     ]
    }
   ],
   "source": [
    "import sys\n",
    "\n",
    "sys.path.insert(0, \"..\")  # if you don't find it here, look one above\n",
    "\n",
    "import platform\n",
    "from pathlib import Path\n",
    "from datetime import datetime, timedelta\n",
    "import datajoint as dj\n",
    "dj.blob.use_32bit_dims = True # necessary for pd.blob read\n",
    "\n",
    "from create_trials_df import create_trials_df_from_dj\n",
    "from create_days_df import create_days_df_from_dj, lazy_load_days_summary_df\n",
    "\n",
    "from multiplot_summaries import *\n",
    "\n",
    "import plot_utils as pu\n",
    "import dj_utils as dju\n",
    "import dir_utils as du\n",
    "\n",
    "from plot_trials_info import *\n",
    "from plot_days_info import *\n",
    "\n",
    "# settings\n",
    "%load_ext autoreload\n",
    "%autoreload 2\n",
    "sns.set_context(\"talk\")"
   ]
  }
 ],
 "metadata": {
  "kernelspec": {
   "display_name": "bl_dj_310",
   "language": "python",
   "name": "python3"
  },
  "language_info": {
   "codemirror_mode": {
    "name": "ipython",
    "version": 3
   },
   "file_extension": ".py",
   "mimetype": "text/x-python",
   "name": "python",
   "nbconvert_exporter": "python",
   "pygments_lexer": "ipython3",
   "version": "3.10.0"
  },
  "orig_nbformat": 4
 },
 "nbformat": 4,
 "nbformat_minor": 2
}
