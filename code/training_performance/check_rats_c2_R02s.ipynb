{
 "cells": [
  {
   "cell_type": "code",
   "execution_count": 10,
   "metadata": {},
   "outputs": [
    {
     "name": "stdout",
     "output_type": "stream",
     "text": [
      "The autoreload extension is already loaded. To reload it, use:\n",
      "  %reload_ext autoreload\n"
     ]
    }
   ],
   "source": [
    "import platform\n",
    "from pathlib import Path\n",
    "from datetime import datetime, timedelta\n",
    "import datajoint as dj\n",
    "dj.blob.use_32bit_dims = True # necessary for pd.blob read\n",
    "\n",
    "\n",
    "from create_trials_df import create_trials_df_from_dj\n",
    "from create_days_df import create_days_df_from_dj, lazy_load_days_summary_df\n",
    "\n",
    "from plot_trials_info import *\n",
    "from plot_days_info import *\n",
    "from multiplot_summaries import *\n",
    "\n",
    "import plot_utils as pu\n",
    "import dj_utils as dju\n",
    "import dir_utils as du\n",
    "FIGURES_PATH = du.get_figures_path(\"rats\", \"cohort2\")\n",
    "\n",
    "# settings\n",
    "%load_ext autoreload\n",
    "%autoreload 2\n",
    "sns.set_context(\"talk\")"
   ]
  },
  {
   "cell_type": "code",
   "execution_count": 3,
   "metadata": {},
   "outputs": [],
   "source": [
    "# ANIMALS\n",
    "ANIMAL_IDS = [\"R020\", \"R021\", \"R022\", \"R023\", \"R024\", \"R025\", \"R026\", \"R027\", \"R028\", \"R029\"]\n",
    "\n",
    "# DATES\n",
    "date_min, date_max = dju.return_date_window(latest_date=None, n_days_back=20)\n",
    "few_days_ago = (datetime.today() - timedelta(days=5)).strftime(\"%Y-%m-%d\")\n",
    "today = datetime.today().date()"
   ]
  },
  {
   "cell_type": "code",
   "execution_count": null,
   "metadata": {},
   "outputs": [],
   "source": [
    "# LOAD IN TRIALS DATA\n",
    "trials_df = create_trials_df_from_dj(animal_ids=ANIMAL_IDS, date_min=date_min)"
   ]
  },
  {
   "cell_type": "code",
   "execution_count": null,
   "metadata": {},
   "outputs": [],
   "source": [
    "# LOAD IN DAYS DATA\n",
    "days_df = create_days_df_from_dj(\n",
    "    animal_ids=ANIMAL_IDS, date_min=date_min, date_max=date_max\n",
    ")\n",
    "f_name = \"R02s_days_df.csv\"\n",
    "\n",
    "days_df.to_csv(du.DATA_PATH / f_name, index=False)\n",
    "\n",
    "\n",
    "# days_df = lazy_load_days_summary_df(\n",
    "#     date_min=date_min,\n",
    "#     date_max=date_max,\n",
    "#     animal_ids=ANIMAL_IDS,\n",
    "#     save_dir=du.DATA_PATH,\n",
    "#     f_name=f_name,\n",
    "#     save_out=True,\n",
    "# )\n",
    "\n",
    "# days_df = pd.read_csv(DATA_PATH / f_name)"
   ]
  },
  {
   "cell_type": "code",
   "execution_count": null,
   "metadata": {},
   "outputs": [],
   "source": [
    "# PLOT DAYS DATA\n",
    "for animal_id, animal_days_df in days_df.groupby(\"animal_id\"):\n",
    "    animal_trials_df = trials_df.query(\"animal_id == @animal_id\")\n",
    "    multiplot_multi_day_summary(animal_id, animal_days_df, animal_trials_df)"
   ]
  },
  {
   "cell_type": "code",
   "execution_count": null,
   "metadata": {},
   "outputs": [],
   "source": [
    "# PLOT TRIALS DATA\n",
    "multiplot_single_day_summaries(\n",
    "    trials_df, figures_path=FIGURES_PATH, save_out=True, overwrite=False\n",
    ")"
   ]
  }
 ],
 "metadata": {
  "kernelspec": {
   "display_name": "bl_dj_310",
   "language": "python",
   "name": "python3"
  },
  "language_info": {
   "codemirror_mode": {
    "name": "ipython",
    "version": 3
   },
   "file_extension": ".py",
   "mimetype": "text/x-python",
   "name": "python",
   "nbconvert_exporter": "python",
   "pygments_lexer": "ipython3",
   "version": "3.10.0"
  },
  "orig_nbformat": 4
 },
 "nbformat": 4,
 "nbformat_minor": 2
}
