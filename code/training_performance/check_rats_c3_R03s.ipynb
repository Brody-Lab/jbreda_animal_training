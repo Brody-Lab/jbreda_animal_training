{
 "cells": [
  {
   "cell_type": "code",
   "execution_count": 1,
   "metadata": {},
   "outputs": [
    {
     "name": "stderr",
     "output_type": "stream",
     "text": [
      "[2023-12-29 14:56:03,659][INFO]: Connecting jbreda@bdata00.pni.princeton.edu:3306\n",
      "[2023-12-29 14:56:04,912][INFO]: Connected jbreda@bdata00.pni.princeton.edu:3306\n"
     ]
    }
   ],
   "source": [
    "import platform\n",
    "from pathlib import Path\n",
    "from datetime import datetime, timedelta\n",
    "import datajoint as dj\n",
    "dj.blob.use_32bit_dims = True # necessary for pd.blob read\n",
    "\n",
    "\n",
    "from create_trials_df import create_trials_df_from_dj\n",
    "from create_days_df import create_days_df_from_dj, lazy_load_days_summary_df\n",
    "\n",
    "from plot_trials_info import *\n",
    "from multiplot_summaries import *\n",
    "\n",
    "import plot_utils as pu\n",
    "import dj_utils as dju\n",
    "import dir_utils as du\n",
    "FIGURES_PATH = du.get_figures_path(\"rats\", \"cohort3\")\n",
    "\n",
    "# settings\n",
    "%load_ext autoreload\n",
    "%autoreload 2\n",
    "sns.set_context(\"talk\")"
   ]
  },
  {
   "cell_type": "code",
   "execution_count": 4,
   "metadata": {},
   "outputs": [],
   "source": [
    "# ANIMALS\n",
    "ANIMAL_IDS = [\n",
    "    \"R030\",\n",
    "    \"R031\",\n",
    "    \"R032\",\n",
    "    \"R033\",\n",
    "    \"R034\",\n",
    "    \"R035\",\n",
    "    \"R036\",\n",
    "    \"R037\",\n",
    "    \"R038\",\n",
    "    \"R039\",\n",
    "]\n",
    "mode = \"yesterday\"\n",
    "\n",
    "if mode == \"today\":\n",
    "    date = datetime.today().date()\n",
    "    latest_date = None\n",
    "elif mode == \"yesterday\":\n",
    "    date = datetime.today().date() - timedelta(days=1)\n",
    "    latest_date = date.strftime(\"%Y-%m-%d\")\n",
    "\n",
    "# DATES\n",
    "date_min, date_max = dju.return_date_window(latest_date=latest_date, n_days_back=20)"
   ]
  },
  {
   "cell_type": "code",
   "execution_count": 5,
   "metadata": {},
   "outputs": [
    {
     "name": "stdout",
     "output_type": "stream",
     "text": [
      "no sessions found for R030 between 2023-12-08 and 2030-01-01\n",
      "no sessions found for R031 between 2023-12-08 and 2030-01-01\n",
      "no sessions found for R032 between 2023-12-08 and 2030-01-01\n",
      "no sessions found for R033 between 2023-12-08 and 2030-01-01\n",
      "no sessions found for R034 between 2023-12-08 and 2030-01-01\n",
      "no sessions found for R035 between 2023-12-08 and 2030-01-01\n",
      "no sessions found for R036 between 2023-12-08 and 2030-01-01\n",
      "no sessions found for R037 between 2023-12-08 and 2030-01-01\n",
      "no sessions found for R038 between 2023-12-08 and 2030-01-01\n",
      "no sessions found for R039 between 2023-12-08 and 2030-01-01\n"
     ]
    },
    {
     "ename": "ValueError",
     "evalue": "No objects to concatenate",
     "output_type": "error",
     "traceback": [
      "\u001b[0;31m---------------------------------------------------------------------------\u001b[0m",
      "\u001b[0;31mValueError\u001b[0m                                Traceback (most recent call last)",
      "\u001b[1;32m/Users/jessbreda/Desktop/github/jbreda_animal_training/code/training_performance/check_rats_c3_R03s.ipynb Cell 3\u001b[0m line \u001b[0;36m2\n\u001b[1;32m      <a href='vscode-notebook-cell:/Users/jessbreda/Desktop/github/jbreda_animal_training/code/training_performance/check_rats_c3_R03s.ipynb#W2sZmlsZQ%3D%3D?line=0'>1</a>\u001b[0m \u001b[39m# LOAD IN TRIALS DATA\u001b[39;00m\n\u001b[0;32m----> <a href='vscode-notebook-cell:/Users/jessbreda/Desktop/github/jbreda_animal_training/code/training_performance/check_rats_c3_R03s.ipynb#W2sZmlsZQ%3D%3D?line=1'>2</a>\u001b[0m trials_df \u001b[39m=\u001b[39m create_trials_df_from_dj(animal_ids\u001b[39m=\u001b[39;49mANIMAL_IDS, date_min\u001b[39m=\u001b[39;49mdate_min)\n",
      "File \u001b[0;32m~/Desktop/github/jbreda_animal_training/code/training_performance/create_trials_df.py:83\u001b[0m, in \u001b[0;36mcreate_trials_df_from_dj\u001b[0;34m(animal_ids, date_min, date_max, verbose)\u001b[0m\n\u001b[1;32m     76\u001b[0m     \u001b[39m## Format\u001b[39;00m\n\u001b[1;32m     77\u001b[0m     animals_trials_df\u001b[39m.\u001b[39mappend(\n\u001b[1;32m     78\u001b[0m         create_animals_trials_df(\n\u001b[1;32m     79\u001b[0m             animal_id, protocol_blobs, sess_ids, dates, trials, verbose\u001b[39m=\u001b[39mverbose\n\u001b[1;32m     80\u001b[0m         )\n\u001b[1;32m     81\u001b[0m     )\n\u001b[0;32m---> 83\u001b[0m trials_df \u001b[39m=\u001b[39m pd\u001b[39m.\u001b[39;49mconcat(animals_trials_df)\n\u001b[1;32m     85\u001b[0m \u001b[39mreturn\u001b[39;00m trials_df\n",
      "File \u001b[0;32m~/anaconda3/envs/bl_dj_310/lib/python3.10/site-packages/pandas/core/reshape/concat.py:372\u001b[0m, in \u001b[0;36mconcat\u001b[0;34m(objs, axis, join, ignore_index, keys, levels, names, verify_integrity, sort, copy)\u001b[0m\n\u001b[1;32m    369\u001b[0m \u001b[39melif\u001b[39;00m copy \u001b[39mand\u001b[39;00m using_copy_on_write():\n\u001b[1;32m    370\u001b[0m     copy \u001b[39m=\u001b[39m \u001b[39mFalse\u001b[39;00m\n\u001b[0;32m--> 372\u001b[0m op \u001b[39m=\u001b[39m _Concatenator(\n\u001b[1;32m    373\u001b[0m     objs,\n\u001b[1;32m    374\u001b[0m     axis\u001b[39m=\u001b[39;49maxis,\n\u001b[1;32m    375\u001b[0m     ignore_index\u001b[39m=\u001b[39;49mignore_index,\n\u001b[1;32m    376\u001b[0m     join\u001b[39m=\u001b[39;49mjoin,\n\u001b[1;32m    377\u001b[0m     keys\u001b[39m=\u001b[39;49mkeys,\n\u001b[1;32m    378\u001b[0m     levels\u001b[39m=\u001b[39;49mlevels,\n\u001b[1;32m    379\u001b[0m     names\u001b[39m=\u001b[39;49mnames,\n\u001b[1;32m    380\u001b[0m     verify_integrity\u001b[39m=\u001b[39;49mverify_integrity,\n\u001b[1;32m    381\u001b[0m     copy\u001b[39m=\u001b[39;49mcopy,\n\u001b[1;32m    382\u001b[0m     sort\u001b[39m=\u001b[39;49msort,\n\u001b[1;32m    383\u001b[0m )\n\u001b[1;32m    385\u001b[0m \u001b[39mreturn\u001b[39;00m op\u001b[39m.\u001b[39mget_result()\n",
      "File \u001b[0;32m~/anaconda3/envs/bl_dj_310/lib/python3.10/site-packages/pandas/core/reshape/concat.py:429\u001b[0m, in \u001b[0;36m_Concatenator.__init__\u001b[0;34m(self, objs, axis, join, keys, levels, names, ignore_index, verify_integrity, copy, sort)\u001b[0m\n\u001b[1;32m    426\u001b[0m     objs \u001b[39m=\u001b[39m \u001b[39mlist\u001b[39m(objs)\n\u001b[1;32m    428\u001b[0m \u001b[39mif\u001b[39;00m \u001b[39mlen\u001b[39m(objs) \u001b[39m==\u001b[39m \u001b[39m0\u001b[39m:\n\u001b[0;32m--> 429\u001b[0m     \u001b[39mraise\u001b[39;00m \u001b[39mValueError\u001b[39;00m(\u001b[39m\"\u001b[39m\u001b[39mNo objects to concatenate\u001b[39m\u001b[39m\"\u001b[39m)\n\u001b[1;32m    431\u001b[0m \u001b[39mif\u001b[39;00m keys \u001b[39mis\u001b[39;00m \u001b[39mNone\u001b[39;00m:\n\u001b[1;32m    432\u001b[0m     objs \u001b[39m=\u001b[39m \u001b[39mlist\u001b[39m(com\u001b[39m.\u001b[39mnot_none(\u001b[39m*\u001b[39mobjs))\n",
      "\u001b[0;31mValueError\u001b[0m: No objects to concatenate"
     ]
    }
   ],
   "source": [
    "# LOAD IN TRIALS DATA\n",
    "trials_df = create_trials_df_from_dj(animal_ids=ANIMAL_IDS, date_min=date_min)"
   ]
  },
  {
   "cell_type": "code",
   "execution_count": 6,
   "metadata": {},
   "outputs": [],
   "source": [
    "# LOAD IN DAYS DATA\n",
    "# days_df = create_days_df_from_dj(\n",
    "#     animal_ids=ANIMAL_IDS, date_min=date_min, date_max=date_max\n",
    "# )\n",
    "f_name = \"R3s_days_df.csv\"\n",
    "\n",
    "# days_df.to_csv(du.DATA_PATH / f_name, index=False)\n",
    "\n",
    "\n",
    "days_df = lazy_load_days_summary_df(\n",
    "    date_min=date_min,\n",
    "    date_max=date_max,\n",
    "    animal_ids=ANIMAL_IDS,\n",
    "    save_dir=du.DATA_PATH,\n",
    "    f_name=f_name,\n",
    "    save_out=True,\n",
    ")\n",
    "\n",
    "# days_df = pd.read_csv(du.DATA_PATH / f_name)"
   ]
  },
  {
   "cell_type": "code",
   "execution_count": 7,
   "metadata": {},
   "outputs": [
    {
     "ename": "NameError",
     "evalue": "name 'trials_df' is not defined",
     "output_type": "error",
     "traceback": [
      "\u001b[0;31m---------------------------------------------------------------------------\u001b[0m",
      "\u001b[0;31mNameError\u001b[0m                                 Traceback (most recent call last)",
      "\u001b[1;32m/Users/jessbreda/Desktop/github/jbreda_animal_training/code/training_performance/check_rats_c3_R03s.ipynb Cell 5\u001b[0m line \u001b[0;36m2\n\u001b[1;32m      <a href='vscode-notebook-cell:/Users/jessbreda/Desktop/github/jbreda_animal_training/code/training_performance/check_rats_c3_R03s.ipynb#W4sZmlsZQ%3D%3D?line=0'>1</a>\u001b[0m \u001b[39mfor\u001b[39;00m animal_id, animal_days_df \u001b[39min\u001b[39;00m days_df\u001b[39m.\u001b[39mgroupby(\u001b[39m\"\u001b[39m\u001b[39manimal_id\u001b[39m\u001b[39m\"\u001b[39m):\n\u001b[0;32m----> <a href='vscode-notebook-cell:/Users/jessbreda/Desktop/github/jbreda_animal_training/code/training_performance/check_rats_c3_R03s.ipynb#W4sZmlsZQ%3D%3D?line=1'>2</a>\u001b[0m     animal_trials_df \u001b[39m=\u001b[39m trials_df\u001b[39m.\u001b[39mquery(\u001b[39m\"\u001b[39m\u001b[39manimal_id == @animal_id\u001b[39m\u001b[39m\"\u001b[39m)\n\u001b[1;32m      <a href='vscode-notebook-cell:/Users/jessbreda/Desktop/github/jbreda_animal_training/code/training_performance/check_rats_c3_R03s.ipynb#W4sZmlsZQ%3D%3D?line=2'>3</a>\u001b[0m     multiplot_multi_day_summary(\n\u001b[1;32m      <a href='vscode-notebook-cell:/Users/jessbreda/Desktop/github/jbreda_animal_training/code/training_performance/check_rats_c3_R03s.ipynb#W4sZmlsZQ%3D%3D?line=3'>4</a>\u001b[0m         animal_id, animal_days_df, animal_trials_df\u001b[39m.\u001b[39mreset_index()\n\u001b[1;32m      <a href='vscode-notebook-cell:/Users/jessbreda/Desktop/github/jbreda_animal_training/code/training_performance/check_rats_c3_R03s.ipynb#W4sZmlsZQ%3D%3D?line=4'>5</a>\u001b[0m     )\n",
      "\u001b[0;31mNameError\u001b[0m: name 'trials_df' is not defined"
     ]
    }
   ],
   "source": [
    "for animal_id, animal_days_df in days_df.groupby(\"animal_id\"):\n",
    "    animal_trials_df = trials_df.query(\"animal_id == @animal_id\")\n",
    "    multiplot_multi_day_summary(\n",
    "        animal_id, animal_days_df, animal_trials_df.reset_index()\n",
    "    )"
   ]
  },
  {
   "cell_type": "code",
   "execution_count": 76,
   "metadata": {},
   "outputs": [
    {
     "name": "stdout",
     "output_type": "stream",
     "text": [
      "making C214_2023-12-22_day_summary\n",
      "['s_a', 'delay', 's_b', 'post', 'go']\n",
      "making C215_2023-12-22_day_summary\n",
      "['s_a', 'go']\n",
      "making C220_2023-12-22_day_summary\n",
      "['s_a', 'delay', 's_b', 'post', 'go']\n",
      "making C221_2023-12-22_day_summary\n",
      "['s_a', 'go']\n",
      "making C222_2023-12-22_day_summary\n",
      "['s_a', 'go']\n",
      "skipping anti give del metrics\n",
      "making C223_2023-12-22_day_summary\n",
      "['s_a', 'delay', 's_b', 'post']\n"
     ]
    }
   ],
   "source": [
    "# PLOT TRIALS DATA\n",
    "multiplot_single_day_summaries(\n",
    "    trials_df, figures_path=FIGURES_PATH, save_out=True, overwrite=False\n",
    ")"
   ]
  }
 ],
 "metadata": {
  "kernelspec": {
   "display_name": "bl_dj_310",
   "language": "python",
   "name": "python3"
  },
  "language_info": {
   "codemirror_mode": {
    "name": "ipython",
    "version": 3
   },
   "file_extension": ".py",
   "mimetype": "text/x-python",
   "name": "python",
   "nbconvert_exporter": "python",
   "pygments_lexer": "ipython3",
   "version": "3.10.0"
  },
  "orig_nbformat": 4
 },
 "nbformat": 4,
 "nbformat_minor": 2
}
