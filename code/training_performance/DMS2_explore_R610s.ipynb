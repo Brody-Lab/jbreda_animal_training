{
 "cells": [
  {
   "cell_type": "code",
   "execution_count": 1,
   "metadata": {},
   "outputs": [
    {
     "name": "stderr",
     "output_type": "stream",
     "text": [
      "[2023-05-26 16:28:25,831][INFO]: Connecting jbreda@bdata00.pni.princeton.edu:3306\n",
      "[2023-05-26 16:28:26,019][INFO]: Connected jbreda@bdata00.pni.princeton.edu:3306\n"
     ]
    }
   ],
   "source": [
    "import matplotlib.pyplot as plt\n",
    "import datajoint as dj\n",
    "import numpy as np\n",
    "\n",
    "import seaborn as sns\n",
    "import pandas as pd\n",
    "from DMS2_utils import *\n",
    "from DMS2_fetch_protocol_data import *\n",
    "from dj_utils import return_date_window\n",
    "from DMS2_fetch_daily_summary_data import fetch_daily_summary_info\n",
    "\n",
    "# settings\n",
    "%load_ext autoreload\n",
    "%autoreload 2\n",
    "dj.blob.use_32bit_dims = True # necessary for pd.blob read\n",
    "sns.set_context(\"talk\")\n"
   ]
  },
  {
   "cell_type": "code",
   "execution_count": 2,
   "metadata": {},
   "outputs": [],
   "source": [
    "date_min, date_max = return_date_window(latest_date=None, n_days_back=20)"
   ]
  },
  {
   "cell_type": "code",
   "execution_count": 3,
   "metadata": {},
   "outputs": [
    {
     "name": "stdout",
     "output_type": "stream",
     "text": [
      "fetched 5 sessions for R610 between 2023-05-22 and 2023-05-26\n",
      "fetched 5 sessions for R611 between 2023-05-22 and 2023-05-26\n",
      "fetched 5 sessions for R612 between 2023-05-22 and 2023-05-26\n",
      "fetched 5 sessions for R613 between 2023-05-22 and 2023-05-26\n",
      "fetched 5 sessions for R614 between 2023-05-22 and 2023-05-26\n"
     ]
    }
   ],
   "source": [
    "df = fetch_latest_trials_data(date_min=\"2023-05-22\")"
   ]
  },
  {
   "cell_type": "code",
   "execution_count": 13,
   "metadata": {},
   "outputs": [
    {
     "name": "stdout",
     "output_type": "stream",
     "text": [
      "plotting stage 3 / 4 plot R610 on 2023-05-26\n",
      "plotting stage 3 / 4 plot R611 on 2023-05-26\n",
      "plotting stage 3 / 4 plot R612 on 2023-05-26\n",
      "plotting stage 3 / 4 plot R613 on 2023-05-26\n",
      "plotting stage 3 / 4 plot R614 on 2023-05-26\n"
     ]
    }
   ],
   "source": [
    "make_daily_stage_plots(df, overwrite=False)"
   ]
  },
  {
   "cell_type": "code",
   "execution_count": 10,
   "metadata": {},
   "outputs": [
    {
     "name": "stdout",
     "output_type": "stream",
     "text": [
      "fetched 35 daily summaries for R610 between 2023-04-13 and 2023-05-20\n",
      "mass data not found for R611 on 2023-05-15, using previous days mass\n",
      "fetched 34 daily summaries for R611 between 2023-04-13 and 2023-05-20\n",
      "fetched 35 daily summaries for R612 between 2023-04-13 and 2023-05-20\n",
      "fetched 35 daily summaries for R613 between 2023-04-13 and 2023-05-20\n",
      "fetched 35 daily summaries for R614 between 2023-04-13 and 2023-05-20\n"
     ]
    }
   ],
   "source": [
    "summary_df = fetch_daily_summary_info()"
   ]
  }
 ],
 "metadata": {
  "kernelspec": {
   "display_name": "bl_pipeline_python_env",
   "language": "python",
   "name": "python3"
  },
  "language_info": {
   "codemirror_mode": {
    "name": "ipython",
    "version": 3
   },
   "file_extension": ".py",
   "mimetype": "text/x-python",
   "name": "python",
   "nbconvert_exporter": "python",
   "pygments_lexer": "ipython3",
   "version": "3.10.0"
  },
  "orig_nbformat": 4
 },
 "nbformat": 4,
 "nbformat_minor": 2
}
