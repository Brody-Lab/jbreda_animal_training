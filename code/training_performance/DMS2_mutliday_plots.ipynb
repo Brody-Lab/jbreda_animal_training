{
 "cells": [
  {
   "cell_type": "code",
   "execution_count": 34,
   "metadata": {},
   "outputs": [
    {
     "name": "stdout",
     "output_type": "stream",
     "text": [
      "The autoreload extension is already loaded. To reload it, use:\n",
      "  %reload_ext autoreload\n"
     ]
    }
   ],
   "source": [
    "import pandas as pd\n",
    "import numpy as np\n",
    "import seaborn as sns\n",
    "\n",
    "from DMS2_multiday_plots_utils import *\n",
    "from DMS2_fetch_protocol_data import *\n",
    "# settings\n",
    "%load_ext autoreload\n",
    "%autoreload 2\n",
    "\n",
    "sns.set_context(\"talk\")"
   ]
  },
  {
   "cell_type": "code",
   "execution_count": 42,
   "metadata": {},
   "outputs": [],
   "source": [
    "date_min, date_max = return_date_window(latest_date=None, n_days_back=20)"
   ]
  },
  {
   "cell_type": "code",
   "execution_count": 43,
   "metadata": {},
   "outputs": [
    {
     "name": "stdout",
     "output_type": "stream",
     "text": [
      "fetched 6 sessions for R610 between 2023-04-13 and 2023-04-19\n",
      "fetched 5 sessions for R611 between 2023-04-13 and 2023-04-19\n",
      "fetched 6 sessions for R612 between 2023-04-13 and 2023-04-19\n",
      "fetched 6 sessions for R613 between 2023-04-13 and 2023-04-19\n",
      "fetched 6 sessions for R614 between 2023-04-13 and 2023-04-19\n"
     ]
    }
   ],
   "source": [
    "df = fetch_latest_training_data(\n",
    "    animal_ids=None, \n",
    "    date_min=date_min, \n",
    "    date_max=date_max\n",
    ")"
   ]
  }
 ],
 "metadata": {
  "kernelspec": {
   "display_name": "bl_test6",
   "language": "python",
   "name": "python3"
  },
  "language_info": {
   "codemirror_mode": {
    "name": "ipython",
    "version": 3
   },
   "file_extension": ".py",
   "mimetype": "text/x-python",
   "name": "python",
   "nbconvert_exporter": "python",
   "pygments_lexer": "ipython3",
   "version": "3.7.0"
  },
  "orig_nbformat": 4
 },
 "nbformat": 4,
 "nbformat_minor": 2
}
