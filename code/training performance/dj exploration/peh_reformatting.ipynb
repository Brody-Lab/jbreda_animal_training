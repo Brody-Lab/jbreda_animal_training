{
 "cells": [
  {
   "cell_type": "code",
   "execution_count": 5,
   "metadata": {},
   "outputs": [],
   "source": [
    "import numpy as np\n",
    "import datajoint as dj\n",
    "import blob_transformation as bt\n",
    "import pandas as pd\n",
    "dj.blob.use_32bit_dims = True"
   ]
  },
  {
   "cell_type": "code",
   "execution_count": 6,
   "metadata": {},
   "outputs": [],
   "source": [
    "# grab a session to play with\n",
    "sess_id = 897749\n",
    "animal_id = 'R502'\n",
    "date = pd.Timestamp(\"2022-11-30\")"
   ]
  },
  {
   "cell_type": "code",
   "execution_count": 20,
   "metadata": {},
   "outputs": [],
   "source": [
    "# import peh & transform blob -> dict\n",
    "session_key = {'sessid': sess_id}\n",
    "bdata = dj.create_virtual_module(\"bdata\", \"bdata\")\n",
    "peh_blob = (bdata.ParsedEvents & session_key).fetch(as_dict=True)\n",
    "peh_dict = bt.transform_blob(peh_blob[0]['peh'])"
   ]
  },
  {
   "cell_type": "code",
   "execution_count": 66,
   "metadata": {},
   "outputs": [
    {
     "data": {
      "text/plain": [
       "{'pokes': {'C': array([459.670004, 459.762304]),\n",
       "  'L': array([457.195704, 458.241504]),\n",
       "  'R': array([[       nan, 451.626404],\n",
       "         [458.748004, 459.464804],\n",
       "         [459.925704,        nan]]),\n",
       "  'starting_state': {'C': 'out', 'L': 'out', 'R': 'in'},\n",
       "  'ending_state': {'C': 'out', 'L': 'out', 'R': 'in'}},\n",
       " 'waves': {'cp_fixation_wave': array([], shape=(0, 2), dtype=float64),\n",
       "  'sa_sound_wave': array([459.770004, 460.070004]),\n",
       "  'sb_sound_wave': array([460.170004, 460.470004]),\n",
       "  'go_sound_wave': array([460.480004, 462.480004]),\n",
       "  'starting_state': {'cp_fixation_wave': array([], shape=(0, 0), dtype=float64),\n",
       "   'sa_sound_wave': 'out',\n",
       "   'sb_sound_wave': 'out',\n",
       "   'go_sound_wave': 'out'},\n",
       "  'ending_state': {'cp_fixation_wave': array([], shape=(0, 0), dtype=float64),\n",
       "   'sa_sound_wave': 'out',\n",
       "   'sb_sound_wave': 'out',\n",
       "   'go_sound_wave': 'out'}},\n",
       " 'states': {'state_0': array([[       nan, 448.424204],\n",
       "         [462.970704,        nan]]),\n",
       "  'check_next_trial_ready': array([[       nan, 448.424304],\n",
       "         [462.970704, 462.970704]]),\n",
       "  'wait_for_cpoke': array([[448.424204,        nan],\n",
       "         [448.424304, 459.670004]]),\n",
       "  'cpoke': array([459.670004, 459.812304]),\n",
       "  'wait_for_sounds_to_end': array([459.812304, 459.925704]),\n",
       "  'early_spoke_state': array([459.925704, 460.480104]),\n",
       "  'give_reward': array([], shape=(0, 2), dtype=float64),\n",
       "  'wait_for_spoke': array([460.480104, 460.480204]),\n",
       "  'hit_state': array([460.480204, 460.532604]),\n",
       "  'drink_state': array([460.532604, 462.532604]),\n",
       "  'temp_error_state': array([], shape=(0, 2), dtype=float64),\n",
       "  'wait_for_spoke_retry': array([], shape=(0, 2), dtype=float64),\n",
       "  'retry_hit_state': array([], shape=(0, 2), dtype=float64),\n",
       "  'error_state': array([], shape=(0, 2), dtype=float64),\n",
       "  'violation_state': array([], shape=(0, 2), dtype=float64),\n",
       "  'violation_penalty_state': array([], shape=(0, 2), dtype=float64),\n",
       "  'general_final_state': array([462.532604, 462.970704]),\n",
       "  'hit_final_state': array([], shape=(0, 2), dtype=float64),\n",
       "  'error_final_state': array([], shape=(0, 2), dtype=float64),\n",
       "  'violation_final_state': array([], shape=(0, 2), dtype=float64),\n",
       "  'starting_state': 'state_0',\n",
       "  'ending_state': 'state_0'}}"
      ]
     },
     "execution_count": 66,
     "metadata": {},
     "output_type": "execute_result"
    }
   ],
   "source": [
    "peh_dict[0] # events for a single trial"
   ]
  },
  {
   "cell_type": "code",
   "execution_count": 33,
   "metadata": {},
   "outputs": [
    {
     "name": "stdout",
     "output_type": "stream",
     "text": [
      "1st level key: pokes\n",
      "1st level key: waves\n",
      "1st level key: states\n",
      "2nd level key: C\n",
      "2nd level key: L\n",
      "2nd level key: R\n",
      "2nd level key: starting_state\n",
      "2nd level key: ending_state\n",
      "2nd level key: cp_fixation_wave\n",
      "2nd level key: sa_sound_wave\n",
      "2nd level key: sb_sound_wave\n",
      "2nd level key: go_sound_wave\n",
      "2nd level key: starting_state\n",
      "2nd level key: ending_state\n",
      "2nd level key: state_0\n",
      "2nd level key: check_next_trial_ready\n",
      "2nd level key: wait_for_cpoke\n",
      "2nd level key: cpoke\n",
      "2nd level key: wait_for_sounds_to_end\n",
      "2nd level key: early_spoke_state\n",
      "2nd level key: give_reward\n",
      "2nd level key: wait_for_spoke\n",
      "2nd level key: hit_state\n",
      "2nd level key: drink_state\n",
      "2nd level key: temp_error_state\n",
      "2nd level key: wait_for_spoke_retry\n",
      "2nd level key: retry_hit_state\n",
      "2nd level key: error_state\n",
      "2nd level key: violation_state\n",
      "2nd level key: violation_penalty_state\n",
      "2nd level key: general_final_state\n",
      "2nd level key: hit_final_state\n",
      "2nd level key: error_final_state\n",
      "2nd level key: violation_final_state\n",
      "2nd level key: starting_state\n",
      "2nd level key: ending_state\n",
      "3rd level key + val: C, out\n",
      "3rd level key + val: L, out\n",
      "3rd level key + val: R, in\n",
      "3rd level key + val: C, out\n",
      "3rd level key + val: L, out\n",
      "3rd level key + val: R, in\n",
      "3rd level key + val: cp_fixation_wave, []\n",
      "3rd level key + val: sa_sound_wave, out\n",
      "3rd level key + val: sb_sound_wave, out\n",
      "3rd level key + val: go_sound_wave, out\n",
      "3rd level key + val: cp_fixation_wave, []\n",
      "3rd level key + val: sa_sound_wave, out\n",
      "3rd level key + val: sb_sound_wave, out\n",
      "3rd level key + val: go_sound_wave, out\n"
     ]
    }
   ],
   "source": [
    "# get some info on the peh dict (print in order of hierarchy)\n",
    "itrial = 0\n",
    "for key, value in peh_dict[itrial].items():\n",
    "    print(f\"1st level key: {key}\")\n",
    "\n",
    "for key, value in peh_dict[itrial].items():\n",
    "    for key2, value2 in value.items():\n",
    "        print(f\"2nd level key: {key2}\")\n",
    "\n",
    "for key, value in peh_dict[itrial].items():\n",
    "    for key2, value2 in value.items():\n",
    "        try: \n",
    "            for key3, value3 in value2.items():\n",
    "                print(f\"3rd level key + val: {key3}, {value3}\")\n",
    "        except:\n",
    "            None"
   ]
  },
  {
   "cell_type": "code",
   "execution_count": 49,
   "metadata": {},
   "outputs": [
    {
     "name": "stdout",
     "output_type": "stream",
     "text": [
      "1st level key: pokes\n",
      "2nd level key: C\n",
      "2nd level key: L\n",
      "2nd level key: R\n",
      "2nd level key: starting_state\n",
      "3rd level key + val: C, out\n",
      "3rd level key + val: L, out\n",
      "3rd level key + val: R, in\n",
      "2nd level key: ending_state\n",
      "3rd level key + val: C, out\n",
      "3rd level key + val: L, out\n",
      "3rd level key + val: R, in\n",
      "1st level key: waves\n",
      "2nd level key: cp_fixation_wave\n",
      "2nd level key: sa_sound_wave\n",
      "2nd level key: sb_sound_wave\n",
      "2nd level key: go_sound_wave\n",
      "2nd level key: starting_state\n",
      "3rd level key + val: cp_fixation_wave, []\n",
      "3rd level key + val: sa_sound_wave, out\n",
      "3rd level key + val: sb_sound_wave, out\n",
      "3rd level key + val: go_sound_wave, out\n",
      "2nd level key: ending_state\n",
      "3rd level key + val: cp_fixation_wave, []\n",
      "3rd level key + val: sa_sound_wave, out\n",
      "3rd level key + val: sb_sound_wave, out\n",
      "3rd level key + val: go_sound_wave, out\n",
      "1st level key: states\n",
      "2nd level key: state_0\n",
      "2nd level key: check_next_trial_ready\n",
      "2nd level key: wait_for_cpoke\n",
      "2nd level key: cpoke\n",
      "2nd level key: wait_for_sounds_to_end\n",
      "2nd level key: early_spoke_state\n",
      "2nd level key: give_reward\n",
      "2nd level key: wait_for_spoke\n",
      "2nd level key: hit_state\n",
      "2nd level key: drink_state\n",
      "2nd level key: temp_error_state\n",
      "2nd level key: wait_for_spoke_retry\n",
      "2nd level key: retry_hit_state\n",
      "2nd level key: error_state\n",
      "2nd level key: violation_state\n",
      "2nd level key: violation_penalty_state\n",
      "2nd level key: general_final_state\n",
      "2nd level key: hit_final_state\n",
      "2nd level key: error_final_state\n",
      "2nd level key: violation_final_state\n",
      "2nd level key: starting_state\n",
      "2nd level key: ending_state\n"
     ]
    }
   ],
   "source": [
    "# get some info on the peh dict (print in order of nested struture)\n",
    "itrial = 0\n",
    "counter = 0\n",
    "for key, value in peh_dict[itrial].items():\n",
    "    print(f\"1st level key: {key}\")\n",
    "    counter +=1\n",
    "    for key2, value2 in value.items():\n",
    "        print(f\"2nd level key: {key2}\")\n",
    "        counter+=1\n",
    "        try: \n",
    "            for key3, value3 in value2.items():\n",
    "                print(f\"3rd level key + val: {key3}, {value3}\")\n",
    "                counter+=1\n",
    "        except:\n",
    "            None"
   ]
  },
  {
   "cell_type": "markdown",
   "metadata": {},
   "source": [
    "Looking at the large print statement above, the `starting` and `ending` state dictionaries output to strings rather than poke, state, or wave in/out time integers. And for `pokes` and `waves` are nested into a third dictionary."
   ]
  },
  {
   "cell_type": "code",
   "execution_count": 51,
   "metadata": {},
   "outputs": [
    {
     "name": "stdout",
     "output_type": "stream",
     "text": [
      "Number of events on a single trial: 50\n"
     ]
    }
   ],
   "source": [
    "print(f\"Number of events on a single trial: {counter}\")"
   ]
  },
  {
   "cell_type": "markdown",
   "metadata": {},
   "source": [
    "## Example moving from dict values --> long form table\n"
   ]
  },
  {
   "cell_type": "code",
   "execution_count": 59,
   "metadata": {},
   "outputs": [
    {
     "data": {
      "text/plain": [
       "array([459.670004, 459.762304])"
      ]
     },
     "execution_count": 59,
     "metadata": {},
     "output_type": "execute_result"
    }
   ],
   "source": [
    "peh_dict[itrial]['pokes']['C'] # one center poke on this trial"
   ]
  },
  {
   "cell_type": "code",
   "execution_count": 60,
   "metadata": {},
   "outputs": [
    {
     "data": {
      "text/plain": [
       "'out'"
      ]
     },
     "execution_count": 60,
     "metadata": {},
     "output_type": "execute_result"
    }
   ],
   "source": [
    "peh_dict[itrial]['pokes']['starting_state']['C'] # center poke is out at end of trial"
   ]
  },
  {
   "cell_type": "code",
   "execution_count": 64,
   "metadata": {},
   "outputs": [
    {
     "data": {
      "text/plain": [
       "array([[448.424204,        nan],\n",
       "       [448.424304, 459.670004]])"
      ]
     },
     "execution_count": 64,
     "metadata": {},
     "output_type": "execute_result"
    }
   ],
   "source": [
    "peh_dict[itrial]['states']['wait_for_cpoke'] # two entries into wait_for_cpoke state this trial"
   ]
  },
  {
   "cell_type": "code",
   "execution_count": 65,
   "metadata": {},
   "outputs": [
    {
     "data": {
      "text/plain": [
       "'state_0'"
      ]
     },
     "execution_count": 65,
     "metadata": {},
     "output_type": "execute_result"
    }
   ],
   "source": [
    "peh_dict[itrial]['states']['ending_state'] # the ending state is state0"
   ]
  },
  {
   "cell_type": "markdown",
   "metadata": {},
   "source": [
    "Possible long-format [table](https://www.tablesgenerator.com/markdown_tables#):\n",
    "\n",
    "\n",
    "\n",
    "| animal_id           | sessid                  | date                       | trial                   | event_type                           | event_name                               | entry_num                                     | in_time                    | out_time                 | subevent_name                             | subevent_status                         |\n",
    "|---------------------|-------------------------|----------------------------|-------------------------|--------------------------------------|------------------------------------------|-----------------------------------------------|----------------------------|--------------------------|-------------------------------------------|-----------------------------------------|\n",
    "| `str` of  animal id | `int` indicating sessid | `datetime`of  session date | `int` ntrial in session | `str`:  `pokes`, `waves` or `states` | `str`: any 2nd  level key  in `peh_dict` | `int`: size of  time array in 2nd level value | `int`: start time of event | `int`: end time of event | `str`: any 3rd level  key in `peh_dict`** | `str`: value of 3rd level in `peh_dict` |\n",
    "| R502                | 897749                  | 2022-11-30                 | 1                       | pokes                                | C                                        | 1                                             | 459.6                      | 459.7                    | nan                                       | nan                                     |\n",
    "| R502                | 897749                  | 2022-11-30                 | 1                       | pokes                                | ending_state                             | 1                                             | nan                        | nan                      | C                                         | out                                     |\n",
    "| R502                | 897749                  | 2022-11-30                 | 1                       | states                               | wait_for_cpoke                           | 1                                             | 448.4                      | nan                      | nan                                       | nan                                     |\n",
    "| R502                | 897749                  | 2022-11-30                 | 1                       | states                               | wait_for_cpoke                           | 2                                             | 448.4                      | 459.6                    | nan                                       | nan                                     |\n",
    "| R502                | 897749                  | 2022-11-30                 | 1                       | states                               | ending_state                             | 1                                             | nan                        | nan                      | state_0                                   | nan                                     |"
   ]
  }
 ],
 "metadata": {
  "kernelspec": {
   "display_name": "Python 3.7.0 ('bl_pipeline_python_env')",
   "language": "python",
   "name": "python3"
  },
  "language_info": {
   "codemirror_mode": {
    "name": "ipython",
    "version": 3
   },
   "file_extension": ".py",
   "mimetype": "text/x-python",
   "name": "python",
   "nbconvert_exporter": "python",
   "pygments_lexer": "ipython3",
   "version": "3.7.0"
  },
  "orig_nbformat": 4,
  "vscode": {
   "interpreter": {
    "hash": "0ec6688778bd9047196320f397d807773899ee0db7462e335e13c74021d5b49d"
   }
  }
 },
 "nbformat": 4,
 "nbformat_minor": 2
}
