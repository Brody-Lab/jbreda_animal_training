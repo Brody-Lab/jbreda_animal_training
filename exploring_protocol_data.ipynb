{
 "cells": [
  {
   "cell_type": "markdown",
   "metadata": {},
   "source": [
    "# Protocol Data Blob \n",
    "\n",
    "Goal: load protocol data blob in from matlab & unpack\n",
    "\n",
    "Protocol Data structure for DMS:\n",
    "\n",
    "| variable             | values          | key                                                 |\n",
    "|----------------------|-----------------|-----------------------------------------------------|\n",
    "| `hit_history`        | [0, 1, NaN]     | [error, hit, violation]                             |\n",
    "| `temp_error_history` | [0, 1, NaN]     | [no terror, terror, violation]                      |\n",
    "| `side_history`       | [l, r]          | [left, right]                                       |\n",
    "| `result_history`     | [1, 2, 3, 4, 5] | [hit, error, violation, terror, crash]              |\n",
    "| `sa`                 | float           | value of sa in Hz                                   |\n",
    "| `sb`                 | float           | value of sb in Hz                                   |\n",
    "| `dms_type`           | [0, 1]          | [nonmatch, match]                                   |\n",
    "| `delay`              | float           | duration of delay between sa/sb in s                |\n",
    "| `fixation`           | float           | duration of pre --> go (fixation required or not)   |\n",
    "| `timeouts`           | float           | duration of timeout in s                            |\n",
    "| `helper`             | [0, 1]          | if trial was in helper block (not in use currently) |\n",
    "| `stage`              | float           | stage number                                        |\n"
   ]
  },
  {
   "cell_type": "code",
   "execution_count": 150,
   "metadata": {},
   "outputs": [
    {
     "name": "stdout",
     "output_type": "stream",
     "text": [
      "The autoreload extension is already loaded. To reload it, use:\n",
      "  %reload_ext autoreload\n"
     ]
    }
   ],
   "source": [
    "import numpy as np\n",
    "import matplotlib.pyplot as plt\n",
    "import datajoint as dj\n",
    "import pandas as pd\n",
    "import os\n",
    "import seaborn as sns\n",
    "import pandas as pd\n",
    "\n",
    "from io_utils import *\n",
    "\n",
    "# settings\n",
    "%load_ext autoreload\n",
    "%autoreload \n",
    "dj.blob.use_32bit_dims = True # necessary for pd.blob read\n",
    " "
   ]
  },
  {
   "cell_type": "code",
   "execution_count": 151,
   "metadata": {},
   "outputs": [],
   "source": [
    "# grab protocol data from a session\n",
    "bdata = dj.create_virtual_module('new_acquisition', 'bdatatest')\n",
    "session_key = {'sessid': 880487}\n",
    "session_data = (bdata.Sessions & session_key).fetch('protocol_data', as_dict=True)"
   ]
  },
  {
   "cell_type": "code",
   "execution_count": 154,
   "metadata": {},
   "outputs": [
    {
     "name": "stdout",
     "output_type": "stream",
     "text": [
      "updating sb values to be correct\n"
     ]
    },
    {
     "data": {
      "text/html": [
       "<div>\n",
       "<style scoped>\n",
       "    .dataframe tbody tr th:only-of-type {\n",
       "        vertical-align: middle;\n",
       "    }\n",
       "\n",
       "    .dataframe tbody tr th {\n",
       "        vertical-align: top;\n",
       "    }\n",
       "\n",
       "    .dataframe thead th {\n",
       "        text-align: right;\n",
       "    }\n",
       "</style>\n",
       "<table border=\"1\" class=\"dataframe\">\n",
       "  <thead>\n",
       "    <tr style=\"text-align: right;\">\n",
       "      <th></th>\n",
       "      <th>trial</th>\n",
       "      <th>hits</th>\n",
       "      <th>temperror</th>\n",
       "      <th>sides</th>\n",
       "      <th>result</th>\n",
       "      <th>sa</th>\n",
       "      <th>sb</th>\n",
       "      <th>dms_type</th>\n",
       "      <th>delay</th>\n",
       "      <th>fixation</th>\n",
       "      <th>timeouts</th>\n",
       "      <th>helper</th>\n",
       "      <th>stage</th>\n",
       "    </tr>\n",
       "  </thead>\n",
       "  <tbody>\n",
       "    <tr>\n",
       "      <th>0</th>\n",
       "      <td>1</td>\n",
       "      <td>1.0</td>\n",
       "      <td>0.0</td>\n",
       "      <td>r</td>\n",
       "      <td>1.0</td>\n",
       "      <td>12000.0</td>\n",
       "      <td>3000.0</td>\n",
       "      <td>False</td>\n",
       "      <td>0.1</td>\n",
       "      <td>1.100000</td>\n",
       "      <td>NaN</td>\n",
       "      <td>0.0</td>\n",
       "      <td>4.0</td>\n",
       "    </tr>\n",
       "    <tr>\n",
       "      <th>1</th>\n",
       "      <td>2</td>\n",
       "      <td>NaN</td>\n",
       "      <td>NaN</td>\n",
       "      <td>r</td>\n",
       "      <td>3.0</td>\n",
       "      <td>12000.0</td>\n",
       "      <td>3000.0</td>\n",
       "      <td>False</td>\n",
       "      <td>0.1</td>\n",
       "      <td>0.455246</td>\n",
       "      <td>0.500</td>\n",
       "      <td>0.0</td>\n",
       "      <td>4.0</td>\n",
       "    </tr>\n",
       "    <tr>\n",
       "      <th>2</th>\n",
       "      <td>3</td>\n",
       "      <td>NaN</td>\n",
       "      <td>NaN</td>\n",
       "      <td>r</td>\n",
       "      <td>3.0</td>\n",
       "      <td>12000.0</td>\n",
       "      <td>3000.0</td>\n",
       "      <td>False</td>\n",
       "      <td>0.1</td>\n",
       "      <td>0.455246</td>\n",
       "      <td>0.525</td>\n",
       "      <td>0.0</td>\n",
       "      <td>4.0</td>\n",
       "    </tr>\n",
       "    <tr>\n",
       "      <th>3</th>\n",
       "      <td>4</td>\n",
       "      <td>0.0</td>\n",
       "      <td>0.0</td>\n",
       "      <td>l</td>\n",
       "      <td>2.0</td>\n",
       "      <td>12000.0</td>\n",
       "      <td>12000.0</td>\n",
       "      <td>True</td>\n",
       "      <td>0.1</td>\n",
       "      <td>0.455246</td>\n",
       "      <td>0.500</td>\n",
       "      <td>0.0</td>\n",
       "      <td>4.0</td>\n",
       "    </tr>\n",
       "    <tr>\n",
       "      <th>4</th>\n",
       "      <td>5</td>\n",
       "      <td>NaN</td>\n",
       "      <td>NaN</td>\n",
       "      <td>r</td>\n",
       "      <td>3.0</td>\n",
       "      <td>3000.0</td>\n",
       "      <td>12000.0</td>\n",
       "      <td>False</td>\n",
       "      <td>0.1</td>\n",
       "      <td>0.460230</td>\n",
       "      <td>0.550</td>\n",
       "      <td>0.0</td>\n",
       "      <td>4.0</td>\n",
       "    </tr>\n",
       "  </tbody>\n",
       "</table>\n",
       "</div>"
      ],
      "text/plain": [
       "   trial  hits  temperror sides  result       sa       sb  dms_type  delay  \\\n",
       "0      1   1.0        0.0     r     1.0  12000.0   3000.0     False    0.1   \n",
       "1      2   NaN        NaN     r     3.0  12000.0   3000.0     False    0.1   \n",
       "2      3   NaN        NaN     r     3.0  12000.0   3000.0     False    0.1   \n",
       "3      4   0.0        0.0     l     2.0  12000.0  12000.0      True    0.1   \n",
       "4      5   NaN        NaN     r     3.0   3000.0  12000.0     False    0.1   \n",
       "\n",
       "   fixation  timeouts  helper  stage  \n",
       "0  1.100000       NaN     0.0    4.0  \n",
       "1  0.455246     0.500     0.0    4.0  \n",
       "2  0.455246     0.525     0.0    4.0  \n",
       "3  0.455246     0.500     0.0    4.0  \n",
       "4  0.460230     0.550     0.0    4.0  "
      ]
     },
     "execution_count": 154,
     "metadata": {},
     "output_type": "execute_result"
    }
   ],
   "source": [
    "protocol_dict = mymblob_to_dict(session_data[0]['protocol_data'])\n",
    "protocol_df = make_protocol_df(protocol_dict)\n",
    "\n",
    "protocol_df.head()"
   ]
  },
  {
   "cell_type": "markdown",
   "metadata": {},
   "source": [
    "#### scraps"
   ]
  },
  {
   "cell_type": "code",
   "execution_count": 157,
   "metadata": {},
   "outputs": [
    {
     "name": "stdout",
     "output_type": "stream",
     "text": [
      "hits type:<class 'numpy.float64'> \n",
      "temperror type:<class 'numpy.float64'> \n",
      "sides type:<class 'str'> \n",
      "result type:<class 'numpy.float64'> \n",
      "sa type:<class 'numpy.float64'> \n",
      "sb type:<class 'numpy.float64'> \n",
      "dms_type type:<class 'numpy.bool_'> \n",
      "delay type:<class 'numpy.float64'> \n",
      "fixation type:<class 'numpy.float64'> \n",
      "timeouts type:<class 'numpy.float64'> \n",
      "helper type:<class 'numpy.float64'> \n",
      "stage type:<class 'numpy.float64'> \n"
     ]
    }
   ],
   "source": [
    "for key in protocol_dict.keys():\n",
    "    print(f\"{key} type:{type(protocol_dict[key][0])} \")"
   ]
  },
  {
   "cell_type": "code",
   "execution_count": 156,
   "metadata": {},
   "outputs": [
    {
     "name": "stdout",
     "output_type": "stream",
     "text": [
      "hits length:45\n",
      "temperror length:45\n",
      "sides length:45\n",
      "result length:45\n",
      "sa length:45\n",
      "sb length:45\n",
      "dms_type length:45\n",
      "delay length:45\n",
      "fixation length:45\n",
      "timeouts length:45\n",
      "helper length:45\n",
      "stage length:45\n"
     ]
    }
   ],
   "source": [
    "for key,value in protocol_dict.items():\n",
    "\n",
    "    print(f\"{key} length:{len(value)}\")"
   ]
  }
 ],
 "metadata": {
  "kernelspec": {
   "display_name": "Python 3.7.0 ('bl_pipeline_python_env')",
   "language": "python",
   "name": "python3"
  },
  "language_info": {
   "codemirror_mode": {
    "name": "ipython",
    "version": 3
   },
   "file_extension": ".py",
   "mimetype": "text/x-python",
   "name": "python",
   "nbconvert_exporter": "python",
   "pygments_lexer": "ipython3",
   "version": "3.7.0"
  },
  "orig_nbformat": 4,
  "vscode": {
   "interpreter": {
    "hash": "0ec6688778bd9047196320f397d807773899ee0db7462e335e13c74021d5b49d"
   }
  }
 },
 "nbformat": 4,
 "nbformat_minor": 2
}
