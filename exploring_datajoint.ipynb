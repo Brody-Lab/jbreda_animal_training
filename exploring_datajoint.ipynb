{
 "cells": [
  {
   "cell_type": "markdown",
   "metadata": {},
   "source": [
    "Jess's attempt for laoding in matlab datablob to python"
   ]
  },
  {
   "cell_type": "code",
   "execution_count": 2,
   "metadata": {},
   "outputs": [
    {
     "data": {
      "text/plain": [
       "'0.13.7'"
      ]
     },
     "execution_count": 2,
     "metadata": {},
     "output_type": "execute_result"
    }
   ],
   "source": [
    "import numpy as np\n",
    "import matplotlib.pyplot as plt\n",
    "import datajoint as dj\n",
    "dj.config[\"enable_python_native_blobs\"] = True\n",
    "import os\n",
    "import seaborn as sns\n",
    "import pandas as pd\n",
    "dj.__version__"
   ]
  },
  {
   "cell_type": "code",
   "execution_count": 3,
   "metadata": {},
   "outputs": [
    {
     "name": "stderr",
     "output_type": "stream",
     "text": [
      "[2022-07-21 12:53:16,301][INFO]: Connecting jbreda@datajoint01.pni.princeton.edu:3306\n",
      "[2022-07-21 12:53:16,497][INFO]: Connected jbreda@datajoint01.pni.princeton.edu:3306\n"
     ]
    },
    {
     "data": {
      "text/plain": [
       "DataJoint connection (connected) jbreda@datajoint01.pni.princeton.edu:3306"
      ]
     },
     "execution_count": 3,
     "metadata": {},
     "output_type": "execute_result"
    }
   ],
   "source": [
    "dj.conn()"
   ]
  },
  {
   "cell_type": "code",
   "execution_count": 4,
   "metadata": {},
   "outputs": [],
   "source": [
    "# grab sessions table\n",
    "acquisition = dj.create_virtual_module('new_acquisition', 'bl_new_acquisition')\n",
    "\n",
    "# select animal\n",
    "subject_session_key = {'session_rat': 'R500'}\n",
    "\n",
    "# make df\n",
    "sessions_df = pd.DataFrame((acquisition.Sessions & subject_session_key).fetch(as_dict=True))\n"
   ]
  },
  {
   "cell_type": "code",
   "execution_count": 5,
   "metadata": {},
   "outputs": [
    {
     "data": {
      "text/html": [
       "<div>\n",
       "<style scoped>\n",
       "    .dataframe tbody tr th:only-of-type {\n",
       "        vertical-align: middle;\n",
       "    }\n",
       "\n",
       "    .dataframe tbody tr th {\n",
       "        vertical-align: top;\n",
       "    }\n",
       "\n",
       "    .dataframe thead th {\n",
       "        text-align: right;\n",
       "    }\n",
       "</style>\n",
       "<table border=\"1\" class=\"dataframe\">\n",
       "  <thead>\n",
       "    <tr style=\"text-align: right;\">\n",
       "      <th></th>\n",
       "      <th>sessid</th>\n",
       "      <th>session_rat</th>\n",
       "      <th>session_userid</th>\n",
       "      <th>session_rigid</th>\n",
       "      <th>session_date</th>\n",
       "      <th>session_starttime</th>\n",
       "      <th>session_endtime</th>\n",
       "      <th>protocol</th>\n",
       "      <th>peh</th>\n",
       "      <th>n_done_trials</th>\n",
       "      <th>...</th>\n",
       "      <th>total_correct</th>\n",
       "      <th>right_correct</th>\n",
       "      <th>left_correct</th>\n",
       "      <th>percent_violations</th>\n",
       "      <th>protocol_data</th>\n",
       "      <th>left_pokes</th>\n",
       "      <th>center_pokes</th>\n",
       "      <th>right_pokes</th>\n",
       "      <th>ip_addr</th>\n",
       "      <th>foodpuck</th>\n",
       "    </tr>\n",
       "  </thead>\n",
       "  <tbody>\n",
       "    <tr>\n",
       "      <th>0</th>\n",
       "      <td>879474</td>\n",
       "      <td>R500</td>\n",
       "      <td>jm62</td>\n",
       "      <td>404</td>\n",
       "      <td>2022-07-19</td>\n",
       "      <td>0 days 10:49:46</td>\n",
       "      <td>0 days 11:57:01</td>\n",
       "      <td>DMS</td>\n",
       "      <td>None</td>\n",
       "      <td>28</td>\n",
       "      <td>...</td>\n",
       "      <td>0.54</td>\n",
       "      <td>0.62</td>\n",
       "      <td>0.47</td>\n",
       "      <td>0.0</td>\n",
       "      <td>None</td>\n",
       "      <td>520</td>\n",
       "      <td>612</td>\n",
       "      <td>704</td>\n",
       "      <td>128.112.222.46</td>\n",
       "      <td>0</td>\n",
       "    </tr>\n",
       "    <tr>\n",
       "      <th>1</th>\n",
       "      <td>879662</td>\n",
       "      <td>R500</td>\n",
       "      <td>jbreda</td>\n",
       "      <td>404</td>\n",
       "      <td>2022-07-20</td>\n",
       "      <td>0 days 11:38:31</td>\n",
       "      <td>0 days 12:27:40</td>\n",
       "      <td>DMS</td>\n",
       "      <td>None</td>\n",
       "      <td>53</td>\n",
       "      <td>...</td>\n",
       "      <td>0.94</td>\n",
       "      <td>0.90</td>\n",
       "      <td>0.99</td>\n",
       "      <td>0.0</td>\n",
       "      <td>None</td>\n",
       "      <td>158</td>\n",
       "      <td>196</td>\n",
       "      <td>172</td>\n",
       "      <td>128.112.222.46</td>\n",
       "      <td>0</td>\n",
       "    </tr>\n",
       "    <tr>\n",
       "      <th>2</th>\n",
       "      <td>879811</td>\n",
       "      <td>R500</td>\n",
       "      <td>jbreda</td>\n",
       "      <td>404</td>\n",
       "      <td>2022-07-21</td>\n",
       "      <td>0 days 10:26:37</td>\n",
       "      <td>0 days 11:27:59</td>\n",
       "      <td>DMS</td>\n",
       "      <td>None</td>\n",
       "      <td>10</td>\n",
       "      <td>...</td>\n",
       "      <td>0.70</td>\n",
       "      <td>0.80</td>\n",
       "      <td>0.60</td>\n",
       "      <td>0.0</td>\n",
       "      <td>None</td>\n",
       "      <td>124</td>\n",
       "      <td>308</td>\n",
       "      <td>112</td>\n",
       "      <td>128.112.222.46</td>\n",
       "      <td>0</td>\n",
       "    </tr>\n",
       "  </tbody>\n",
       "</table>\n",
       "<p>3 rows × 27 columns</p>\n",
       "</div>"
      ],
      "text/plain": [
       "   sessid session_rat session_userid  session_rigid session_date  \\\n",
       "0  879474        R500           jm62            404   2022-07-19   \n",
       "1  879662        R500         jbreda            404   2022-07-20   \n",
       "2  879811        R500         jbreda            404   2022-07-21   \n",
       "\n",
       "  session_starttime session_endtime protocol   peh  n_done_trials  ...  \\\n",
       "0   0 days 10:49:46 0 days 11:57:01      DMS  None             28  ...   \n",
       "1   0 days 11:38:31 0 days 12:27:40      DMS  None             53  ...   \n",
       "2   0 days 10:26:37 0 days 11:27:59      DMS  None             10  ...   \n",
       "\n",
       "  total_correct right_correct left_correct percent_violations protocol_data  \\\n",
       "0          0.54          0.62         0.47                0.0          None   \n",
       "1          0.94          0.90         0.99                0.0          None   \n",
       "2          0.70          0.80         0.60                0.0          None   \n",
       "\n",
       "  left_pokes center_pokes  right_pokes         ip_addr  foodpuck  \n",
       "0        520          612          704  128.112.222.46         0  \n",
       "1        158          196          172  128.112.222.46         0  \n",
       "2        124          308          112  128.112.222.46         0  \n",
       "\n",
       "[3 rows x 27 columns]"
      ]
     },
     "execution_count": 5,
     "metadata": {},
     "output_type": "execute_result"
    }
   ],
   "source": [
    "sessions_df.head()"
   ]
  },
  {
   "cell_type": "code",
   "execution_count": 6,
   "metadata": {},
   "outputs": [
    {
     "data": {
      "text/plain": [
       "0    None\n",
       "1    None\n",
       "2    None\n",
       "Name: protocol_data, dtype: object"
      ]
     },
     "execution_count": 6,
     "metadata": {},
     "output_type": "execute_result"
    }
   ],
   "source": [
    "sessions_df['protocol_data']"
   ]
  },
  {
   "cell_type": "code",
   "execution_count": 7,
   "metadata": {},
   "outputs": [
    {
     "data": {
      "text/plain": [
       "0    None\n",
       "1    None\n",
       "2    None\n",
       "Name: peh, dtype: object"
      ]
     },
     "execution_count": 7,
     "metadata": {},
     "output_type": "execute_result"
    }
   ],
   "source": [
    "sessions_df['peh']"
   ]
  }
 ],
 "metadata": {
  "kernelspec": {
   "display_name": "Python 3.7.0 ('bl_pipeline_python_env')",
   "language": "python",
   "name": "python3"
  },
  "language_info": {
   "codemirror_mode": {
    "name": "ipython",
    "version": 3
   },
   "file_extension": ".py",
   "mimetype": "text/x-python",
   "name": "python",
   "nbconvert_exporter": "python",
   "pygments_lexer": "ipython3",
   "version": "3.7.0"
  },
  "orig_nbformat": 4,
  "vscode": {
   "interpreter": {
    "hash": "0ec6688778bd9047196320f397d807773899ee0db7462e335e13c74021d5b49d"
   }
  }
 },
 "nbformat": 4,
 "nbformat_minor": 2
}
