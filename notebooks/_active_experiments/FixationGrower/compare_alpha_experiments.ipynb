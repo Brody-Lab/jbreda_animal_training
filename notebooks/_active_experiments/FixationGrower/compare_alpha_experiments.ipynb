{
 "cells": [
  {
   "cell_type": "code",
   "execution_count": 2,
   "metadata": {},
   "outputs": [
    {
     "name": "stdout",
     "output_type": "stream",
     "text": [
      "The autoreload extension is already loaded. To reload it, use:\n",
      "  %reload_ext autoreload\n"
     ]
    }
   ],
   "source": [
    "import datajoint as dj\n",
    "import seaborn as sns\n",
    "from datetime import datetime, timedelta\n",
    "sns.set_context(\"talk\")\n",
    "\n",
    "dj.blob.use_32bit_dims = True  # necessary for pd.blob read\n",
    "\n",
    "import behav_viz.ingest as ingest\n",
    "import behav_viz.visualize as viz\n",
    "import behav_viz.utils as utils\n",
    "FIGURES_PATH = utils.dir_utils.get_figures_path(\"rats\", \"alpha\")\n",
    "\n",
    "from config_alpha_experiment import *\n",
    "# settings\n",
    "%load_ext autoreload\n",
    "%autoreload 2"
   ]
  },
  {
   "cell_type": "markdown",
   "metadata": {},
   "source": [
    "## Animals"
   ]
  },
  {
   "cell_type": "markdown",
   "metadata": {},
   "source": [
    "ALPHA_V1, ALPHA_V2, ALPHA_ANIMALS"
   ]
  },
  {
   "cell_type": "markdown",
   "metadata": {},
   "source": [
    "## Load in Trials & Days Data"
   ]
  },
  {
   "cell_type": "code",
   "execution_count": null,
   "metadata": {},
   "outputs": [],
   "source": []
  },
  {
   "cell_type": "markdown",
   "metadata": {},
   "source": [
    "## Plot Over Days Summaries\n",
    "\n",
    "### Spoke Plots"
   ]
  }
 ],
 "metadata": {
  "kernelspec": {
   "display_name": "behav_viz",
   "language": "python",
   "name": "python3"
  },
  "language_info": {
   "codemirror_mode": {
    "name": "ipython",
    "version": 3
   },
   "file_extension": ".py",
   "mimetype": "text/x-python",
   "name": "python",
   "nbconvert_exporter": "python",
   "pygments_lexer": "ipython3",
   "version": "3.10.0"
  }
 },
 "nbformat": 4,
 "nbformat_minor": 2
}
