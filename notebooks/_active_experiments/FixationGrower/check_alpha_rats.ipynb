{
 "cells": [
  {
   "cell_type": "code",
   "execution_count": 18,
   "metadata": {},
   "outputs": [
    {
     "name": "stdout",
     "output_type": "stream",
     "text": [
      "The autoreload extension is already loaded. To reload it, use:\n",
      "  %reload_ext autoreload\n"
     ]
    }
   ],
   "source": [
    "import datajoint as dj\n",
    "import seaborn as sns\n",
    "from datetime import datetime, timedelta\n",
    "sns.set_context(\"talk\")\n",
    "\n",
    "dj.blob.use_32bit_dims = True  # necessary for pd.blob read\n",
    "\n",
    "import behav_viz.ingest as ingest\n",
    "import behav_viz.visualize as viz\n",
    "import behav_viz.utils as utils\n",
    "FIGURES_PATH = utils.dir_utils.get_figures_path(\"rats\", \"alpha\")\n",
    "\n",
    "from config_alpha_experiment import *\n",
    "\n",
    "# settings\n",
    "%load_ext autoreload\n",
    "%autoreload 2"
   ]
  },
  {
   "cell_type": "markdown",
   "metadata": {},
   "source": [
    "# Animals"
   ]
  },
  {
   "cell_type": "code",
   "execution_count": 19,
   "metadata": {},
   "outputs": [],
   "source": [
    "date_min, date_max = utils.dj_utils.return_date_window(n_days_back=30)\n",
    "\n",
    "ANIMAL_IDS = ALPHA_1_ANIMALS"
   ]
  },
  {
   "cell_type": "markdown",
   "metadata": {},
   "source": [
    "## Load in Trials & Days Data"
   ]
  },
  {
   "cell_type": "code",
   "execution_count": null,
   "metadata": {},
   "outputs": [],
   "source": [
    "trials_df = ingest.create_trials_df.create_trials_df_from_dj(\n",
    "    animal_ids=ANIMAL_IDS, date_min=date_min\n",
    ")"
   ]
  },
  {
   "cell_type": "code",
   "execution_count": null,
   "metadata": {},
   "outputs": [],
   "source": [
    "days_df = ingest.create_days_df.create_days_df_from_dj(\n",
    "    animal_ids=ANIMAL_IDS, date_min=date_min, date_max=date_max, verbose=True\n",
    ")"
   ]
  },
  {
   "cell_type": "markdown",
   "metadata": {},
   "source": [
    "# Plot Over Days"
   ]
  },
  {
   "cell_type": "code",
   "execution_count": null,
   "metadata": {},
   "outputs": [],
   "source": [
    "for animal_id, animal_days_df in days_df.groupby(\"animal_id\"):\n",
    "    animal_trials_df = trials_df.query(\"animal_id == @animal_id\")\n",
    "    viz.summarize.over_days_summaries(\n",
    "        animal_id, animal_days_df, animal_trials_df.reset_index()\n",
    "    )"
   ]
  },
  {
   "cell_type": "markdown",
   "metadata": {},
   "source": [
    "# Plot Within Day (Saved Out)"
   ]
  },
  {
   "cell_type": "code",
   "execution_count": null,
   "metadata": {},
   "outputs": [],
   "source": [
    "viz.summarize.single_day_summaries(\n",
    "    trials_df, figures_path=FIGURES_PATH, save_out=True, overwrite=False\n",
    ")"
   ]
  }
 ],
 "metadata": {
  "kernelspec": {
   "display_name": "behav_viz",
   "language": "python",
   "name": "python3"
  },
  "language_info": {
   "codemirror_mode": {
    "name": "ipython",
    "version": 3
   },
   "file_extension": ".py",
   "mimetype": "text/x-python",
   "name": "python",
   "nbconvert_exporter": "python",
   "pygments_lexer": "ipython3",
   "version": "3.10.0"
  }
 },
 "nbformat": 4,
 "nbformat_minor": 2
}
