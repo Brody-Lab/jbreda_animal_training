{
 "cells": [
  {
   "cell_type": "markdown",
   "metadata": {},
   "source": [
    "# Figure 6 Mouse Fixation Data\n"
   ]
  },
  {
   "cell_type": "markdown",
   "metadata": {
    "vscode": {
     "languageId": "plaintext"
    }
   },
   "source": [
    "Animals that started on DMS2:\n",
    "| animal_id | sex | species | genotype | arrival_date | on_citric | training_start | off_citric |\n",
    "|:------------:|:---------:|:----------:|:-----------:|:---------------:|:------------:|:-----------------:|:-------------:|\n",
    "| R511 | male | mouse | cast_het | 4/24/23 | 6/30/23 | 7/12/23 | 7/18/23 |\n",
    "| R512 | male | mouse | cast_het | 4/24/23 | 6/30/23 | 7/12/23 | 7/18/23 |\n",
    "| R513 | male | mouse | cast_het | 4/24/23 | 6/30/23 | 7/12/23 | 7/18/23 |\n",
    "| R621 | female | mouse | cast_het | 4/25/23 | 7/7/23 | 7/26/23 | |\n",
    "| R622 | female | mouse | cast_wt | 4/25/23 | 7/7/23 | 7/26/23 | |\n",
    "| R623 | female | mouse | cast_het | 4/25/23 | 7/7/23 | 7/26/23 | |\n",
    "| R624 | female | mouse | cast_wt | 4/25/23 | 7/7/23 | 7/26/23 | |\n",
    "\n",
    "Mini notebook to use for guidance: https://github.com/Brody-Lab/jbreda_animal_training/blob/main/notebooks/meetings/2023_08_29_Lab_Mini_Plots.ipynb\n",
    "\n",
    "Will want to look at violation rates in stage 8 once the violation penalty is turned on. Don't do any sound things.\n"
   ]
  }
 ],
 "metadata": {
  "language_info": {
   "name": "python"
  }
 },
 "nbformat": 4,
 "nbformat_minor": 2
}
