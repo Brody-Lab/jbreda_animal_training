{
 "cells": [
  {
   "cell_type": "markdown",
   "metadata": {
    "vscode": {
     "languageId": "plaintext"
    }
   },
   "source": [
    "# Figure 5- V2 animals are more motivated\n"
   ]
  },
  {
   "cell_type": "code",
   "execution_count": 149,
   "metadata": {},
   "outputs": [
    {
     "name": "stdout",
     "output_type": "stream",
     "text": [
      "The autoreload extension is already loaded. To reload it, use:\n",
      "  %reload_ext autoreload\n"
     ]
    }
   ],
   "source": [
    "import utils as u\n",
    "import config as c\n",
    "import seaborn as sns\n",
    "import pandas as pd\n",
    "import numpy as np\n",
    "import matplotlib.pyplot as plt\n",
    "from scipy.stats import shapiro, ttest_ind, mannwhitneyu, friedmanchisquare, wilcoxon\n",
    "import statsmodels.formula.api as smf\n",
    "import itertools\n",
    "\n",
    "sns.set_context(\"notebook\")\n",
    "%load_ext autoreload\n",
    "%autoreload 2"
   ]
  },
  {
   "cell_type": "markdown",
   "metadata": {},
   "source": [
    "# Data Load\n"
   ]
  },
  {
   "cell_type": "code",
   "execution_count": 2,
   "metadata": {},
   "outputs": [
    {
     "name": "stdout",
     "output_type": "stream",
     "text": [
      "Loading poke data from directory: /Users/jessbreda/Desktop/github/jbreda_animal_training/notebooks/fixation_publication\n"
     ]
    }
   ],
   "source": [
    "pdf = u.load_poke_df()"
   ]
  },
  {
   "cell_type": "markdown",
   "metadata": {},
   "source": [
    "# Utility Function\n"
   ]
  },
  {
   "cell_type": "code",
   "execution_count": 58,
   "metadata": {},
   "outputs": [],
   "source": [
    "\"\"\"Statistical Functions\"\"\"\n",
    "def check_normality(data, alpha=0.05):\n",
    "    \"\"\"\n",
    "    Returns True if data passes the Shapiro–Wilk test for normality\n",
    "    at the specified alpha level, False otherwise.\n",
    "    \"\"\"\n",
    "    stat, p = shapiro(data)\n",
    "    return p >= alpha\n",
    "\n",
    "def compare_two_groups(v1_values, v2_values, alpha=0.05):\n",
    "    \"\"\"\n",
    "    Given two arrays of values (V1 and V2), checks normality in each group.\n",
    "    If both pass, runs Welch's t-test. Otherwise, runs Mann–Whitney U.\n",
    "    Returns a dict with test results.\n",
    "    \"\"\"\n",
    "    normal_v1 = check_normality(v1_values, alpha=alpha)\n",
    "    normal_v2 = check_normality(v2_values, alpha=alpha)\n",
    "\n",
    "    results = {\n",
    "        \"normality_V1\": normal_v1,\n",
    "        \"normality_V2\": normal_v2,\n",
    "        \"n_V1\": len(v1_values),\n",
    "        \"n_V2\": len(v2_values),\n",
    "    }\n",
    "\n",
    "    if normal_v1 and normal_v2:\n",
    "        # Use Welch’s t-test (two-sample, unequal variance)\n",
    "        stat, p_val = ttest_ind(v1_values, v2_values, equal_var=False)\n",
    "        results[\"test_type\"] = \"welch_t\"\n",
    "        results[\"test_statistic\"] = stat\n",
    "        results[\"p_val_raw\"] = p_val\n",
    "    else:\n",
    "        # Use Mann–Whitney U for non-normal data\n",
    "        stat, p_val = mannwhitneyu(v1_values, v2_values, alternative=\"two-sided\")\n",
    "        results[\"test_type\"] = \"mannwhitney\"\n",
    "        results[\"test_statistic\"] = stat\n",
    "        results[\"p_val_raw\"] = p_val\n",
    "\n",
    "    return results\n",
    "\n",
    "def compare_v1_v2(df, metric_col, alpha=0.05):\n",
    "    \"\"\"\n",
    "    Compare experimental groups V1 and V2 for data in a single stage.\n",
    "    Assumes that the DataFrame `df` contains data for only one stage.\n",
    "    \n",
    "    Parameters\n",
    "    ----------\n",
    "    df : pd.DataFrame\n",
    "        Must contain columns:\n",
    "            'fix_experiment' (with values 'V1' or 'V2')\n",
    "            and the specified metric_col (the numeric variable to compare).\n",
    "    metric_col : str\n",
    "        The numeric variable to compare.\n",
    "    alpha : float, optional\n",
    "        Significance level for normality tests and final threshold (default 0.05).\n",
    "\n",
    "    Returns\n",
    "    -------\n",
    "    pd.DataFrame\n",
    "        A tidy DataFrame with a single row summarizing the test results.\n",
    "    \"\"\"\n",
    "    # Extract data for V1 and V2\n",
    "    v1_data = df.loc[df[\"fix_experiment\"] == \"V1\", metric_col].to_numpy()\n",
    "    v2_data = df.loc[df[\"fix_experiment\"] == \"V2\", metric_col].to_numpy()\n",
    "\n",
    "    # Compare the two groups\n",
    "    result = compare_two_groups(v1_data, v2_data, alpha=alpha)\n",
    "    \n",
    "    # Return the result as a DataFrame with one row.\n",
    "    result_df = pd.DataFrame([result])\n",
    "    return result_df\n",
    "\n",
    "def compare_v1_v2_multi_sample(df, metric_col, alpha=0.05):\n",
    "    \"\"\"\n",
    "    Fit a mixed effects model to compare V1 and V2 for data in a single stage.\n",
    "    Assumes that the DataFrame `df` contains data for only one stage.\n",
    "    \n",
    "    Parameters\n",
    "    ----------\n",
    "    df : pd.DataFrame\n",
    "        Must contain columns:\n",
    "            'animal_id', 'fix_experiment' (with values 'V1' or 'V2'),\n",
    "            and the specified metric_col (the numeric variable to compare).\n",
    "    metric_col : str\n",
    "        The numeric variable to compare.\n",
    "    alpha : float, optional\n",
    "        Significance level for the normality check of residuals (default 0.05).\n",
    "\n",
    "    Returns\n",
    "    -------\n",
    "    pd.DataFrame\n",
    "        A tidy DataFrame with a single row summarizing the mixed model test results.\n",
    "    \"\"\"\n",
    "    required_cols = [\"animal_id\", \"fix_experiment\", metric_col]\n",
    "    for col in required_cols:\n",
    "        if col not in df.columns:\n",
    "            raise ValueError(f\"DataFrame is missing required column: '{col}'\")\n",
    "\n",
    "    # Ensure both groups exist in the data\n",
    "    v1_df = df[df[\"fix_experiment\"] == \"V1\"]\n",
    "    v2_df = df[df[\"fix_experiment\"] == \"V2\"]\n",
    "    if v1_df.empty or v2_df.empty:\n",
    "        raise ValueError(\"Both experimental groups (V1 and V2) must be present in the data.\")\n",
    "\n",
    "    # Fit the mixed effects model: metric_col ~ fix_experiment with a random intercept for animal_id\n",
    "    model = smf.mixedlm(formula=f\"{metric_col} ~ fix_experiment\",\n",
    "                        data=df,\n",
    "                        groups=df[\"animal_id\"])\n",
    "    try:\n",
    "        model_fit = model.fit(method=\"lbfgs\", disp=False)\n",
    "    except Exception as e:\n",
    "        raise RuntimeError(f\"Model fitting failed with error: {e}\")\n",
    "\n",
    "    coef_key = \"fix_experiment[T.V2]\"\n",
    "    if coef_key not in model_fit.params.index:\n",
    "        raise ValueError(\"Coefficient for fix_experiment[T.V2] not found in model fit.\")\n",
    "\n",
    "    t_val = model_fit.tvalues[coef_key]\n",
    "    p_val = model_fit.pvalues[coef_key]\n",
    "\n",
    "    # Check normality of the residuals from the model\n",
    "    residuals = model_fit.resid\n",
    "    residuals_are_normal = check_normality(residuals, alpha=alpha)\n",
    "\n",
    "    result = {\n",
    "        \"test_type\": \"mixedlm_random_intercept\",\n",
    "        \"test_statistic\": t_val,\n",
    "        \"p_val_raw\": p_val,\n",
    "        \"residuals_normal\": residuals_are_normal,\n",
    "    }\n",
    "    result_df = pd.DataFrame([result])\n",
    "    return result_df"
   ]
  },
  {
   "cell_type": "markdown",
   "metadata": {},
   "source": [
    "# A- Growth Stage (5-7) Violation Rates\n"
   ]
  },
  {
   "cell_type": "code",
   "execution_count": 77,
   "metadata": {},
   "outputs": [],
   "source": [
    "plot_df = pdf.query(\"stage > 4 and stage < 8\").groupby([\"animal_id\", \"fix_experiment\", \"date\"]).agg({\"was_valid\": \"mean\"}).reset_index()\n",
    "plot_df[\"violation_rate\"] = 1 - plot_df[\"was_valid\"]\n"
   ]
  },
  {
   "cell_type": "code",
   "execution_count": 76,
   "metadata": {},
   "outputs": [
    {
     "data": {
      "text/html": [
       "<div>\n",
       "<style scoped>\n",
       "    .dataframe tbody tr th:only-of-type {\n",
       "        vertical-align: middle;\n",
       "    }\n",
       "\n",
       "    .dataframe tbody tr th {\n",
       "        vertical-align: top;\n",
       "    }\n",
       "\n",
       "    .dataframe thead th {\n",
       "        text-align: right;\n",
       "    }\n",
       "</style>\n",
       "<table border=\"1\" class=\"dataframe\">\n",
       "  <thead>\n",
       "    <tr style=\"text-align: right;\">\n",
       "      <th></th>\n",
       "      <th>fix_experiment</th>\n",
       "      <th>mean_violation_rate</th>\n",
       "      <th>std_violation_rate</th>\n",
       "      <th>n_sessions</th>\n",
       "    </tr>\n",
       "  </thead>\n",
       "  <tbody>\n",
       "    <tr>\n",
       "      <th>0</th>\n",
       "      <td>V1</td>\n",
       "      <td>0.218157</td>\n",
       "      <td>0.116306</td>\n",
       "      <td>237</td>\n",
       "    </tr>\n",
       "    <tr>\n",
       "      <th>1</th>\n",
       "      <td>V2</td>\n",
       "      <td>0.461378</td>\n",
       "      <td>0.164299</td>\n",
       "      <td>110</td>\n",
       "    </tr>\n",
       "  </tbody>\n",
       "</table>\n",
       "</div>"
      ],
      "text/plain": [
       "  fix_experiment  mean_violation_rate  std_violation_rate  n_sessions\n",
       "0             V1             0.218157            0.116306         237\n",
       "1             V2             0.461378            0.164299         110"
      ]
     },
     "execution_count": 76,
     "metadata": {},
     "output_type": "execute_result"
    }
   ],
   "source": [
    "plot_df.groupby([\"animal_id\", \"fix_experiment\", \"date\"]) \\\n",
    "    .agg(mean_violation_rate=(\"violation_rate\", \"mean\")) \\\n",
    "    .reset_index() \\\n",
    "    .groupby([\"fix_experiment\"]) \\\n",
    "    .agg(mean_violation_rate=(\"mean_violation_rate\", \"mean\"),\n",
    "         std_violation_rate=(\"mean_violation_rate\", \"std\"),\n",
    "         n_sessions=(\"mean_violation_rate\", \"count\")).reset_index()"
   ]
  },
  {
   "cell_type": "code",
   "execution_count": 66,
   "metadata": {},
   "outputs": [
    {
     "data": {
      "image/png": "[encoded data removed]",
      "text/plain": [
       "<Figure size 600x600 with 1 Axes>"
      ]
     },
     "metadata": {},
     "output_type": "display_data"
    }
   ],
   "source": [
    "fig, ax = plt.subplots(figsize=(6,6))\n",
    "x = \"fix_experiment\"\n",
    "y=\"violation_rate\"\n",
    "order=c.HUE_ORDER_EXP\n",
    "hue_type=\"experiment\"\n",
    "\n",
    "sns.despine()\n",
    "\n",
    "sns.boxplot(\n",
    "    x=x,\n",
    "    y=y,\n",
    "    data=plot_df,\n",
    "    order=order,\n",
    "    ax=ax,\n",
    "    hue=\"fix_experiment\",\n",
    "    hue_order=[\"V1\", \"V2\"],\n",
    "    palette=c.EXP_PALETTE,\n",
    "    fill=False,\n",
    "    showfliers=False,\n",
    "    whis=False,\n",
    "    width=0.5,\n",
    ")\n",
    "\n",
    "if hue_type == \"animal\":\n",
    "    hue = \"animal_id\"\n",
    "    hue_order = c.HUE_ORDER_ANIMALS\n",
    "    palette = c.ANIMAL_PALETTE\n",
    "else:\n",
    "    hue = \"fix_experiment\"\n",
    "    hue_order = [\"V1\", \"V2\"]\n",
    "    palette = c.EXP_PALETTE\n",
    "\n",
    "sns.stripplot(\n",
    "    x=x,\n",
    "    y=y,\n",
    "    data=plot_df,\n",
    "    order=order,\n",
    "    ax=ax,\n",
    "    hue=hue,\n",
    "    hue_order=hue_order,\n",
    "    palette=palette,\n",
    "    dodge=False,\n",
    "    legend=False,\n",
    "    alpha=0.5,\n",
    ")\n",
    "ax.set(\n",
    "    ylabel=\"Violation Rate\",\n",
    "    ylim=(-0.1, 1.1),\n",
    "    xlabel=\"\",\n",
    ")\n",
    "\n",
    "ax.set_title(\"Violation Rates in \\nGrowth Stages (5-7)\", fontweight=\"bold\")\n",
    "\n",
    "\n",
    "plt.tight_layout()\n",
    "\n",
    "#save fig\n",
    "fig.savefig(\"figures/V0_fig4a_growth_violation_rates.png\", dpi=300, bbox_inches=\"tight\")\n",
    "\n"
   ]
  },
  {
   "cell_type": "code",
   "execution_count": null,
   "metadata": {},
   "outputs": [
    {
     "data": {
      "text/html": [
       "<div>\n",
       "<style scoped>\n",
       "    .dataframe tbody tr th:only-of-type {\n",
       "        vertical-align: middle;\n",
       "    }\n",
       "\n",
       "    .dataframe tbody tr th {\n",
       "        vertical-align: top;\n",
       "    }\n",
       "\n",
       "    .dataframe thead th {\n",
       "        text-align: right;\n",
       "    }\n",
       "</style>\n",
       "<table border=\"1\" class=\"dataframe\">\n",
       "  <thead>\n",
       "    <tr style=\"text-align: right;\">\n",
       "      <th></th>\n",
       "      <th>normality_V1</th>\n",
       "      <th>normality_V2</th>\n",
       "      <th>n_V1</th>\n",
       "      <th>n_V2</th>\n",
       "      <th>test_type</th>\n",
       "      <th>test_statistic</th>\n",
       "      <th>p_val_raw</th>\n",
       "    </tr>\n",
       "  </thead>\n",
       "  <tbody>\n",
       "    <tr>\n",
       "      <th>0</th>\n",
       "      <td>False</td>\n",
       "      <td>False</td>\n",
       "      <td>237</td>\n",
       "      <td>110</td>\n",
       "      <td>mannwhitney</td>\n",
       "      <td>1977.5</td>\n",
       "      <td>4.787234e-37</td>\n",
       "    </tr>\n",
       "  </tbody>\n",
       "</table>\n",
       "</div>"
      ],
      "text/plain": [
       "   normality_V1  normality_V2  n_V1  n_V2    test_type  test_statistic  \\\n",
       "0         False         False   237   110  mannwhitney          1977.5   \n",
       "\n",
       "      p_val_raw  \n",
       "0  4.787234e-37  "
      ]
     },
     "execution_count": 62,
     "metadata": {},
     "output_type": "execute_result"
    }
   ],
   "source": [
    "\n",
    "compare_v1_v2(plot_df, \"violation_rate\")\n",
    " "
   ]
  },
  {
   "cell_type": "code",
   "execution_count": 63,
   "metadata": {},
   "outputs": [
    {
     "name": "stderr",
     "output_type": "stream",
     "text": [
      "/Users/jessbreda/anaconda3/envs/behav_viz/lib/python3.10/site-packages/statsmodels/regression/mixed_linear_model.py:1634: UserWarning: Random effects covariance is singular\n",
      "  warnings.warn(msg)\n",
      "/Users/jessbreda/anaconda3/envs/behav_viz/lib/python3.10/site-packages/statsmodels/regression/mixed_linear_model.py:2237: ConvergenceWarning: The MLE may be on the boundary of the parameter space.\n",
      "  warnings.warn(msg, ConvergenceWarning)\n"
     ]
    },
    {
     "data": {
      "text/html": [
       "<div>\n",
       "<style scoped>\n",
       "    .dataframe tbody tr th:only-of-type {\n",
       "        vertical-align: middle;\n",
       "    }\n",
       "\n",
       "    .dataframe tbody tr th {\n",
       "        vertical-align: top;\n",
       "    }\n",
       "\n",
       "    .dataframe thead th {\n",
       "        text-align: right;\n",
       "    }\n",
       "</style>\n",
       "<table border=\"1\" class=\"dataframe\">\n",
       "  <thead>\n",
       "    <tr style=\"text-align: right;\">\n",
       "      <th></th>\n",
       "      <th>test_type</th>\n",
       "      <th>test_statistic</th>\n",
       "      <th>p_val_raw</th>\n",
       "      <th>residuals_normal</th>\n",
       "    </tr>\n",
       "  </thead>\n",
       "  <tbody>\n",
       "    <tr>\n",
       "      <th>0</th>\n",
       "      <td>mixedlm_random_intercept</td>\n",
       "      <td>7.344254</td>\n",
       "      <td>2.069095e-13</td>\n",
       "      <td>False</td>\n",
       "    </tr>\n",
       "  </tbody>\n",
       "</table>\n",
       "</div>"
      ],
      "text/plain": [
       "                  test_type  test_statistic     p_val_raw  residuals_normal\n",
       "0  mixedlm_random_intercept        7.344254  2.069095e-13             False"
      ]
     },
     "execution_count": 63,
     "metadata": {},
     "output_type": "execute_result"
    }
   ],
   "source": [
    "compare_v1_v2_multi_sample(plot_df, \"violation_rate\")"
   ]
  },
  {
   "cell_type": "markdown",
   "metadata": {},
   "source": [
    "# F- V2 Transition To Penalty On\n"
   ]
  },
  {
   "cell_type": "code",
   "execution_count": 103,
   "metadata": {},
   "outputs": [
    {
     "data": {
      "text/html": [
       "<div>\n",
       "<style scoped>\n",
       "    .dataframe tbody tr th:only-of-type {\n",
       "        vertical-align: middle;\n",
       "    }\n",
       "\n",
       "    .dataframe tbody tr th {\n",
       "        vertical-align: top;\n",
       "    }\n",
       "\n",
       "    .dataframe thead th {\n",
       "        text-align: right;\n",
       "    }\n",
       "</style>\n",
       "<table border=\"1\" class=\"dataframe\">\n",
       "  <thead>\n",
       "    <tr style=\"text-align: right;\">\n",
       "      <th></th>\n",
       "      <th>animal_id</th>\n",
       "      <th>fix_experiment</th>\n",
       "      <th>days_relative_to_stage_8</th>\n",
       "      <th>stage</th>\n",
       "      <th>was_valid</th>\n",
       "      <th>violation_rate</th>\n",
       "    </tr>\n",
       "  </thead>\n",
       "  <tbody>\n",
       "    <tr>\n",
       "      <th>0</th>\n",
       "      <td>R041</td>\n",
       "      <td>V2</td>\n",
       "      <td>-1</td>\n",
       "      <td>7.0</td>\n",
       "      <td>0.488491</td>\n",
       "      <td>0.511509</td>\n",
       "    </tr>\n",
       "    <tr>\n",
       "      <th>1</th>\n",
       "      <td>R041</td>\n",
       "      <td>V2</td>\n",
       "      <td>0</td>\n",
       "      <td>8.0</td>\n",
       "      <td>0.808036</td>\n",
       "      <td>0.191964</td>\n",
       "    </tr>\n",
       "    <tr>\n",
       "      <th>2</th>\n",
       "      <td>R041</td>\n",
       "      <td>V2</td>\n",
       "      <td>1</td>\n",
       "      <td>9.0</td>\n",
       "      <td>0.658163</td>\n",
       "      <td>0.341837</td>\n",
       "    </tr>\n",
       "    <tr>\n",
       "      <th>3</th>\n",
       "      <td>R043</td>\n",
       "      <td>V2</td>\n",
       "      <td>-1</td>\n",
       "      <td>7.0</td>\n",
       "      <td>0.618343</td>\n",
       "      <td>0.381657</td>\n",
       "    </tr>\n",
       "    <tr>\n",
       "      <th>4</th>\n",
       "      <td>R043</td>\n",
       "      <td>V2</td>\n",
       "      <td>0</td>\n",
       "      <td>8.0</td>\n",
       "      <td>0.841727</td>\n",
       "      <td>0.158273</td>\n",
       "    </tr>\n",
       "  </tbody>\n",
       "</table>\n",
       "</div>"
      ],
      "text/plain": [
       "  animal_id fix_experiment  days_relative_to_stage_8  stage  was_valid  \\\n",
       "0      R041             V2                        -1    7.0   0.488491   \n",
       "1      R041             V2                         0    8.0   0.808036   \n",
       "2      R041             V2                         1    9.0   0.658163   \n",
       "3      R043             V2                        -1    7.0   0.618343   \n",
       "4      R043             V2                         0    8.0   0.841727   \n",
       "\n",
       "   violation_rate  \n",
       "0        0.511509  \n",
       "1        0.191964  \n",
       "2        0.341837  \n",
       "3        0.381657  \n",
       "4        0.158273  "
      ]
     },
     "execution_count": 103,
     "metadata": {},
     "output_type": "execute_result"
    }
   ],
   "source": [
    "plot_df = u.compute_days_relative_to_stage(pdf.query(\"fix_experiment == 'V2'\").copy(), stage=8)\n",
    "plot_df = plot_df[~((plot_df['settling_violation'] == 1) & (plot_df['days_relative_to_stage_8'] >= 0))] # remove settling in violations since they are not a true violation once in stage 8\n",
    "\n",
    "plot_df = plot_df.query(\"days_relative_to_stage_8 >=-1 and days_relative_to_stage_8 <= 1\") \\\n",
    "    .groupby([\"animal_id\", \"fix_experiment\", \"days_relative_to_stage_8\", \"stage\"]).agg({\"was_valid\": \"mean\"}).reset_index()\n",
    "plot_df[\"violation_rate\"] = 1 - plot_df[\"was_valid\"]\n",
    "plot_df.head()"
   ]
  },
  {
   "cell_type": "code",
   "execution_count": 160,
   "metadata": {},
   "outputs": [
    {
     "name": "stderr",
     "output_type": "stream",
     "text": [
      "/var/folders/__/8jn6qz211155h1xb451s5zcr0000gn/T/ipykernel_13663/2190657718.py:6: UserWarning: \n",
      "The palette list has fewer values (1) than needed (9) and will cycle, which may produce an uninterpretable plot.\n",
      "  sns.pointplot(\n"
     ]
    },
    {
     "data": {
      "image/png": "[encoded data removed]",
      "text/plain": [
       "<Figure size 600x600 with 1 Axes>"
      ]
     },
     "metadata": {},
     "output_type": "display_data"
    }
   ],
   "source": [
    "fig, ax = plt.subplots(figsize=(6,6))\n",
    "sns.despine()\n",
    "day_range = [-1, 1]\n",
    "\n",
    "ax.axvline(x=1, color=\"k\", ls = \"--\", ymax=0.8)\n",
    "sns.pointplot(\n",
    "    data=plot_df,\n",
    "    x=\"days_relative_to_stage_8\",\n",
    "    y=\"violation_rate\",\n",
    "    hue=\"animal_id\",\n",
    "    palette=[\"gray\"],\n",
    "    ax=ax,\n",
    "    alpha=0.3,\n",
    "    legend=False\n",
    ")\n",
    "sns.pointplot(\n",
    "    data=plot_df,\n",
    "    x=\"days_relative_to_stage_8\",\n",
    "    y=\"violation_rate\",\n",
    "    color=c.V2_COLOR,\n",
    "    ax=ax,\n",
    "    errorbar=None,\n",
    "    linewidth=5,  # make the line thicker\n",
    ")\n",
    "\n",
    "\n",
    "ax.set(\n",
    "    ylabel=\"Violation Rate\",\n",
    "    xlabel=\"Days Relative to Penalty On\",\n",
    "    ylim=(-0.1, 1.1),\n",
    ")\n",
    "\n",
    "ax.set_title(\"V2 Penalty On Effect\", fontweight=\"bold\")\n",
    "\n",
    "fig.savefig(\"figures/V0_fig4e_v2_penalty_on.png\", dpi=300, bbox_inches=\"tight\")"
   ]
  },
  {
   "cell_type": "code",
   "execution_count": 162,
   "metadata": {},
   "outputs": [
    {
     "data": {
      "text/html": [
       "<div>\n",
       "<style scoped>\n",
       "    .dataframe tbody tr th:only-of-type {\n",
       "        vertical-align: middle;\n",
       "    }\n",
       "\n",
       "    .dataframe tbody tr th {\n",
       "        vertical-align: top;\n",
       "    }\n",
       "\n",
       "    .dataframe thead th {\n",
       "        text-align: right;\n",
       "    }\n",
       "</style>\n",
       "<table border=\"1\" class=\"dataframe\">\n",
       "  <thead>\n",
       "    <tr style=\"text-align: right;\">\n",
       "      <th></th>\n",
       "      <th>days_relative_to_stage_8</th>\n",
       "      <th>mean_violation_rate</th>\n",
       "      <th>std_violation_rate</th>\n",
       "    </tr>\n",
       "  </thead>\n",
       "  <tbody>\n",
       "    <tr>\n",
       "      <th>0</th>\n",
       "      <td>-1</td>\n",
       "      <td>0.474044</td>\n",
       "      <td>0.165135</td>\n",
       "    </tr>\n",
       "    <tr>\n",
       "      <th>1</th>\n",
       "      <td>0</td>\n",
       "      <td>0.162428</td>\n",
       "      <td>0.053464</td>\n",
       "    </tr>\n",
       "    <tr>\n",
       "      <th>2</th>\n",
       "      <td>1</td>\n",
       "      <td>0.183954</td>\n",
       "      <td>0.089001</td>\n",
       "    </tr>\n",
       "  </tbody>\n",
       "</table>\n",
       "</div>"
      ],
      "text/plain": [
       "   days_relative_to_stage_8  mean_violation_rate  std_violation_rate\n",
       "0                        -1             0.474044            0.165135\n",
       "1                         0             0.162428            0.053464\n",
       "2                         1             0.183954            0.089001"
      ]
     },
     "execution_count": 162,
     "metadata": {},
     "output_type": "execute_result"
    }
   ],
   "source": [
    "plot_df.groupby([\"days_relative_to_stage_8\"]).agg(mean_violation_rate=(\"violation_rate\", \"mean\"), std_violation_rate=(\"violation_rate\", \"std\")).reset_index()"
   ]
  },
  {
   "cell_type": "code",
   "execution_count": 150,
   "metadata": {},
   "outputs": [
    {
     "name": "stdout",
     "output_type": "stream",
     "text": [
      "days_relative_to_stage_8        -1         0         1\n",
      "animal_id                                             \n",
      "R041                      0.511509  0.191964  0.341837\n",
      "R043                      0.381657  0.158273  0.146739\n",
      "R045                      0.468560  0.206633  0.181572\n",
      "R047                      0.298667  0.093023  0.112957\n",
      "R049                      0.266402  0.153061  0.120968\n",
      "R051                      0.413479  0.100223  0.120635\n",
      "R053                      0.715655  0.257426  0.329897\n",
      "R055                      0.742802  0.181818  0.134752\n",
      "R057                      0.467669  0.119433  0.166227\n",
      "Friedman test statistic: 13.5556\n",
      "P-value: 0.0011\n",
      "Comparison between day -1 and day 0: Wilcoxon statistic = 0.0000, p-value = 0.0039 (adjusted α = 0.0167)\n",
      "Comparison between day -1 and day 1: Wilcoxon statistic = 0.0000, p-value = 0.0039 (adjusted α = 0.0167)\n",
      "Comparison between day 0 and day 1: Wilcoxon statistic = 17.0000, p-value = 0.5703 (adjusted α = 0.0167)\n"
     ]
    }
   ],
   "source": [
    "df_wide = plot_df.pivot(index='animal_id', columns='days_relative_to_stage_8', values='violation_rate')\n",
    "\n",
    "# Check the pivoted data (optional)\n",
    "print(df_wide)\n",
    "\n",
    "# Perform the Friedman test. Ensure you order the columns appropriately.\n",
    "stat, p_value = friedmanchisquare(df_wide[-1], df_wide[0], df_wide[1])\n",
    "print(f\"Friedman test statistic: {stat:.4f}\")\n",
    "print(f\"P-value: {p_value:.4f}\")\n",
    "\n",
    "# Define the days to compare and perform pairwise Wilcoxon tests\n",
    "days = [-1, 0, 1]\n",
    "comparisons = list(itertools.combinations(days, 2))\n",
    "alpha = 0.05\n",
    "alpha_adjusted = alpha / len(comparisons)  # Bonferroni correction\n",
    "\n",
    "for d1, d2 in comparisons:\n",
    "    stat, p = wilcoxon(df_wide[d1], df_wide[d2])\n",
    "    print(f\"Comparison between day {d1} and day {d2}: Wilcoxon statistic = {stat:.4f}, p-value = {p:.4f} (adjusted α = {alpha_adjusted:.4f})\")"
   ]
  }
 ],
 "metadata": {
  "kernelspec": {
   "display_name": "bl_dj_310",
   "language": "python",
   "name": "python3"
  },
  "language_info": {
   "codemirror_mode": {
    "name": "ipython",
    "version": 3
   },
   "file_extension": ".py",
   "mimetype": "text/x-python",
   "name": "python",
   "nbconvert_exporter": "python",
   "pygments_lexer": "ipython3",
   "version": "3.10.0"
  }
 },
 "nbformat": 4,
 "nbformat_minor": 2
}
