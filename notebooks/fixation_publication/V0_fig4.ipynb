{
 "cells": [
  {
   "cell_type": "markdown",
   "metadata": {
    "vscode": {
     "languageId": "plaintext"
    }
   },
   "source": [
    "# Figure 5- V2 animals are more motivated\n"
   ]
  },
  {
   "cell_type": "code",
   "execution_count": 149,
   "metadata": {},
   "outputs": [
    {
     "name": "stdout",
     "output_type": "stream",
     "text": [
      "The autoreload extension is already loaded. To reload it, use:\n",
      "  %reload_ext autoreload\n"
     ]
    }
   ],
   "source": [
    "import utils as u\n",
    "import config as c\n",
    "import seaborn as sns\n",
    "import pandas as pd\n",
    "import numpy as np\n",
    "import matplotlib.pyplot as plt\n",
    "from scipy.stats import shapiro, ttest_ind, mannwhitneyu, friedmanchisquare, wilcoxon\n",
    "import statsmodels.formula.api as smf\n",
    "import itertools\n",
    "\n",
    "sns.set_context(\"notebook\")\n",
    "%load_ext autoreload\n",
    "%autoreload 2"
   ]
  },
  {
   "cell_type": "markdown",
   "metadata": {},
   "source": [
    "# Data Load\n"
   ]
  },
  {
   "cell_type": "code",
   "execution_count": 2,
   "metadata": {},
   "outputs": [
    {
     "name": "stdout",
     "output_type": "stream",
     "text": [
      "Loading poke data from directory: /Users/jessbreda/Desktop/github/jbreda_animal_training/notebooks/fixation_publication\n"
     ]
    }
   ],
   "source": [
    "pdf = u.load_poke_df()"
   ]
  },
  {
   "cell_type": "markdown",
   "metadata": {},
   "source": [
    "# Utility Function\n"
   ]
  },
  {
   "cell_type": "code",
   "execution_count": 58,
   "metadata": {},
   "outputs": [],
   "source": [
    "\"\"\"Statistical Functions\"\"\"\n",
    "def check_normality(data, alpha=0.05):\n",
    "    \"\"\"\n",
    "    Returns True if data passes the Shapiro–Wilk test for normality\n",
    "    at the specified alpha level, False otherwise.\n",
    "    \"\"\"\n",
    "    stat, p = shapiro(data)\n",
    "    return p >= alpha\n",
    "\n",
    "def compare_two_groups(v1_values, v2_values, alpha=0.05):\n",
    "    \"\"\"\n",
    "    Given two arrays of values (V1 and V2), checks normality in each group.\n",
    "    If both pass, runs Welch's t-test. Otherwise, runs Mann–Whitney U.\n",
    "    Returns a dict with test results.\n",
    "    \"\"\"\n",
    "    normal_v1 = check_normality(v1_values, alpha=alpha)\n",
    "    normal_v2 = check_normality(v2_values, alpha=alpha)\n",
    "\n",
    "    results = {\n",
    "        \"normality_V1\": normal_v1,\n",
    "        \"normality_V2\": normal_v2,\n",
    "        \"n_V1\": len(v1_values),\n",
    "        \"n_V2\": len(v2_values),\n",
    "    }\n",
    "\n",
    "    if normal_v1 and normal_v2:\n",
    "        # Use Welch’s t-test (two-sample, unequal variance)\n",
    "        stat, p_val = ttest_ind(v1_values, v2_values, equal_var=False)\n",
    "        results[\"test_type\"] = \"welch_t\"\n",
    "        results[\"test_statistic\"] = stat\n",
    "        results[\"p_val_raw\"] = p_val\n",
    "    else:\n",
    "        # Use Mann–Whitney U for non-normal data\n",
    "        stat, p_val = mannwhitneyu(v1_values, v2_values, alternative=\"two-sided\")\n",
    "        results[\"test_type\"] = \"mannwhitney\"\n",
    "        results[\"test_statistic\"] = stat\n",
    "        results[\"p_val_raw\"] = p_val\n",
    "\n",
    "    return results\n",
    "\n",
    "def compare_v1_v2(df, metric_col, alpha=0.05):\n",
    "    \"\"\"\n",
    "    Compare experimental groups V1 and V2 for data in a single stage.\n",
    "    Assumes that the DataFrame `df` contains data for only one stage.\n",
    "    \n",
    "    Parameters\n",
    "    ----------\n",
    "    df : pd.DataFrame\n",
    "        Must contain columns:\n",
    "            'fix_experiment' (with values 'V1' or 'V2')\n",
    "            and the specified metric_col (the numeric variable to compare).\n",
    "    metric_col : str\n",
    "        The numeric variable to compare.\n",
    "    alpha : float, optional\n",
    "        Significance level for normality tests and final threshold (default 0.05).\n",
    "\n",
    "    Returns\n",
    "    -------\n",
    "    pd.DataFrame\n",
    "        A tidy DataFrame with a single row summarizing the test results.\n",
    "    \"\"\"\n",
    "    # Extract data for V1 and V2\n",
    "    v1_data = df.loc[df[\"fix_experiment\"] == \"V1\", metric_col].to_numpy()\n",
    "    v2_data = df.loc[df[\"fix_experiment\"] == \"V2\", metric_col].to_numpy()\n",
    "\n",
    "    # Compare the two groups\n",
    "    result = compare_two_groups(v1_data, v2_data, alpha=alpha)\n",
    "    \n",
    "    # Return the result as a DataFrame with one row.\n",
    "    result_df = pd.DataFrame([result])\n",
    "    return result_df\n",
    "\n",
    "def compare_v1_v2_multi_sample(df, metric_col, alpha=0.05):\n",
    "    \"\"\"\n",
    "    Fit a mixed effects model to compare V1 and V2 for data in a single stage.\n",
    "    Assumes that the DataFrame `df` contains data for only one stage.\n",
    "    \n",
    "    Parameters\n",
    "    ----------\n",
    "    df : pd.DataFrame\n",
    "        Must contain columns:\n",
    "            'animal_id', 'fix_experiment' (with values 'V1' or 'V2'),\n",
    "            and the specified metric_col (the numeric variable to compare).\n",
    "    metric_col : str\n",
    "        The numeric variable to compare.\n",
    "    alpha : float, optional\n",
    "        Significance level for the normality check of residuals (default 0.05).\n",
    "\n",
    "    Returns\n",
    "    -------\n",
    "    pd.DataFrame\n",
    "        A tidy DataFrame with a single row summarizing the mixed model test results.\n",
    "    \"\"\"\n",
    "    required_cols = [\"animal_id\", \"fix_experiment\", metric_col]\n",
    "    for col in required_cols:\n",
    "        if col not in df.columns:\n",
    "            raise ValueError(f\"DataFrame is missing required column: '{col}'\")\n",
    "\n",
    "    # Ensure both groups exist in the data\n",
    "    v1_df = df[df[\"fix_experiment\"] == \"V1\"]\n",
    "    v2_df = df[df[\"fix_experiment\"] == \"V2\"]\n",
    "    if v1_df.empty or v2_df.empty:\n",
    "        raise ValueError(\"Both experimental groups (V1 and V2) must be present in the data.\")\n",
    "\n",
    "    # Fit the mixed effects model: metric_col ~ fix_experiment with a random intercept for animal_id\n",
    "    model = smf.mixedlm(formula=f\"{metric_col} ~ fix_experiment\",\n",
    "                        data=df,\n",
    "                        groups=df[\"animal_id\"])\n",
    "    try:\n",
    "        model_fit = model.fit(method=\"lbfgs\", disp=False)\n",
    "    except Exception as e:\n",
    "        raise RuntimeError(f\"Model fitting failed with error: {e}\")\n",
    "\n",
    "    coef_key = \"fix_experiment[T.V2]\"\n",
    "    if coef_key not in model_fit.params.index:\n",
    "        raise ValueError(\"Coefficient for fix_experiment[T.V2] not found in model fit.\")\n",
    "\n",
    "    t_val = model_fit.tvalues[coef_key]\n",
    "    p_val = model_fit.pvalues[coef_key]\n",
    "\n",
    "    # Check normality of the residuals from the model\n",
    "    residuals = model_fit.resid\n",
    "    residuals_are_normal = check_normality(residuals, alpha=alpha)\n",
    "\n",
    "    result = {\n",
    "        \"test_type\": \"mixedlm_random_intercept\",\n",
    "        \"test_statistic\": t_val,\n",
    "        \"p_val_raw\": p_val,\n",
    "        \"residuals_normal\": residuals_are_normal,\n",
    "    }\n",
    "    result_df = pd.DataFrame([result])\n",
    "    return result_df"
   ]
  },
  {
   "cell_type": "markdown",
   "metadata": {},
   "source": [
    "# A- Growth Stage (5-7) Violation Rates\n"
   ]
  },
  {
   "cell_type": "code",
   "execution_count": 244,
   "metadata": {},
   "outputs": [],
   "source": [
    "plot_df = pdf.query(\"stage in @c.GROWING_STAGES\").groupby([\"animal_id\", \"fix_experiment\", \"date\"]).agg({\"was_valid\": \"mean\"}).reset_index()\n",
    "plot_df[\"violation_rate\"] = 1 - plot_df[\"was_valid\"]\n"
   ]
  },
  {
   "cell_type": "code",
   "execution_count": 245,
   "metadata": {},
   "outputs": [
    {
     "data": {
      "text/html": [
       "<div>\n",
       "<style scoped>\n",
       "    .dataframe tbody tr th:only-of-type {\n",
       "        vertical-align: middle;\n",
       "    }\n",
       "\n",
       "    .dataframe tbody tr th {\n",
       "        vertical-align: top;\n",
       "    }\n",
       "\n",
       "    .dataframe thead th {\n",
       "        text-align: right;\n",
       "    }\n",
       "</style>\n",
       "<table border=\"1\" class=\"dataframe\">\n",
       "  <thead>\n",
       "    <tr style=\"text-align: right;\">\n",
       "      <th></th>\n",
       "      <th>fix_experiment</th>\n",
       "      <th>mean_violation_rate</th>\n",
       "      <th>std_violation_rate</th>\n",
       "      <th>n_sessions</th>\n",
       "    </tr>\n",
       "  </thead>\n",
       "  <tbody>\n",
       "    <tr>\n",
       "      <th>0</th>\n",
       "      <td>V1</td>\n",
       "      <td>0.218157</td>\n",
       "      <td>0.116306</td>\n",
       "      <td>237</td>\n",
       "    </tr>\n",
       "    <tr>\n",
       "      <th>1</th>\n",
       "      <td>V2</td>\n",
       "      <td>0.461378</td>\n",
       "      <td>0.164299</td>\n",
       "      <td>110</td>\n",
       "    </tr>\n",
       "  </tbody>\n",
       "</table>\n",
       "</div>"
      ],
      "text/plain": [
       "  fix_experiment  mean_violation_rate  std_violation_rate  n_sessions\n",
       "0             V1             0.218157            0.116306         237\n",
       "1             V2             0.461378            0.164299         110"
      ]
     },
     "execution_count": 245,
     "metadata": {},
     "output_type": "execute_result"
    }
   ],
   "source": [
    "plot_df.groupby([\"animal_id\", \"fix_experiment\", \"date\"]) \\\n",
    "    .agg(mean_violation_rate=(\"violation_rate\", \"mean\")) \\\n",
    "    .reset_index() \\\n",
    "    .groupby([\"fix_experiment\"]) \\\n",
    "    .agg(mean_violation_rate=(\"mean_violation_rate\", \"mean\"),\n",
    "         std_violation_rate=(\"mean_violation_rate\", \"std\"),\n",
    "         n_sessions=(\"mean_violation_rate\", \"count\")).reset_index()"
   ]
  },
  {
   "cell_type": "code",
   "execution_count": 246,
   "metadata": {},
   "outputs": [
    {
     "data": {
      "image/png": "[encoded data removed]",
      "text/plain": [
       "<Figure size 600x600 with 1 Axes>"
      ]
     },
     "metadata": {},
     "output_type": "display_data"
    }
   ],
   "source": [
    "fig, ax = plt.subplots(figsize=(6,6))\n",
    "x = \"fix_experiment\"\n",
    "y=\"violation_rate\"\n",
    "order=c.HUE_ORDER_EXP\n",
    "hue_type=\"experiment\"\n",
    "\n",
    "sns.despine()\n",
    "\n",
    "sns.boxplot(\n",
    "    x=x,\n",
    "    y=y,\n",
    "    data=plot_df,\n",
    "    order=order,\n",
    "    ax=ax,\n",
    "    hue=\"fix_experiment\",\n",
    "    hue_order=[\"V1\", \"V2\"],\n",
    "    palette=c.EXP_PALETTE,\n",
    "    fill=False,\n",
    "    showfliers=False,\n",
    "    whis=False,\n",
    "    width=0.5,\n",
    ")\n",
    "\n",
    "if hue_type == \"animal\":\n",
    "    hue = \"animal_id\"\n",
    "    hue_order = c.HUE_ORDER_ANIMALS\n",
    "    palette = c.ANIMAL_PALETTE\n",
    "else:\n",
    "    hue = \"fix_experiment\"\n",
    "    hue_order = [\"V1\", \"V2\"]\n",
    "    palette = c.EXP_PALETTE\n",
    "\n",
    "sns.stripplot(\n",
    "    x=x,\n",
    "    y=y,\n",
    "    data=plot_df,\n",
    "    order=order,\n",
    "    ax=ax,\n",
    "    hue=hue,\n",
    "    hue_order=hue_order,\n",
    "    palette=palette,\n",
    "    dodge=False,\n",
    "    legend=False,\n",
    "    alpha=0.5,\n",
    ")\n",
    "ax.set(\n",
    "    ylabel=\"Violation Rate\",\n",
    "    ylim=(-0.1, 1.1),\n",
    "    xlabel=\"\",\n",
    ")\n",
    "\n",
    "ax.set_title(\"Violation Rates in Growth Stages\", fontweight=\"bold\")\n",
    "\n",
    "\n",
    "plt.tight_layout()\n",
    "\n",
    "#save fig\n",
    "fig.savefig(\"figures/V0_fig4a_growth_violation_rates.png\", dpi=300, bbox_inches=\"tight\")\n",
    "\n"
   ]
  },
  {
   "cell_type": "code",
   "execution_count": 228,
   "metadata": {},
   "outputs": [
    {
     "data": {
      "text/html": [
       "<div>\n",
       "<style scoped>\n",
       "    .dataframe tbody tr th:only-of-type {\n",
       "        vertical-align: middle;\n",
       "    }\n",
       "\n",
       "    .dataframe tbody tr th {\n",
       "        vertical-align: top;\n",
       "    }\n",
       "\n",
       "    .dataframe thead th {\n",
       "        text-align: right;\n",
       "    }\n",
       "</style>\n",
       "<table border=\"1\" class=\"dataframe\">\n",
       "  <thead>\n",
       "    <tr style=\"text-align: right;\">\n",
       "      <th></th>\n",
       "      <th>normality_V1</th>\n",
       "      <th>normality_V2</th>\n",
       "      <th>n_V1</th>\n",
       "      <th>n_V2</th>\n",
       "      <th>test_type</th>\n",
       "      <th>test_statistic</th>\n",
       "      <th>p_val_raw</th>\n",
       "    </tr>\n",
       "  </thead>\n",
       "  <tbody>\n",
       "    <tr>\n",
       "      <th>0</th>\n",
       "      <td>False</td>\n",
       "      <td>False</td>\n",
       "      <td>237</td>\n",
       "      <td>110</td>\n",
       "      <td>mannwhitney</td>\n",
       "      <td>1977.5</td>\n",
       "      <td>4.787234e-37</td>\n",
       "    </tr>\n",
       "  </tbody>\n",
       "</table>\n",
       "</div>"
      ],
      "text/plain": [
       "   normality_V1  normality_V2  n_V1  n_V2    test_type  test_statistic  \\\n",
       "0         False         False   237   110  mannwhitney          1977.5   \n",
       "\n",
       "      p_val_raw  \n",
       "0  4.787234e-37  "
      ]
     },
     "execution_count": 228,
     "metadata": {},
     "output_type": "execute_result"
    }
   ],
   "source": [
    "\n",
    "compare_v1_v2(plot_df, \"violation_rate\")\n",
    " "
   ]
  },
  {
   "cell_type": "code",
   "execution_count": 229,
   "metadata": {},
   "outputs": [
    {
     "name": "stderr",
     "output_type": "stream",
     "text": [
      "/Users/jessbreda/anaconda3/envs/behav_viz/lib/python3.10/site-packages/statsmodels/regression/mixed_linear_model.py:1634: UserWarning: Random effects covariance is singular\n",
      "  warnings.warn(msg)\n",
      "/Users/jessbreda/anaconda3/envs/behav_viz/lib/python3.10/site-packages/statsmodels/regression/mixed_linear_model.py:2237: ConvergenceWarning: The MLE may be on the boundary of the parameter space.\n",
      "  warnings.warn(msg, ConvergenceWarning)\n"
     ]
    },
    {
     "data": {
      "text/html": [
       "<div>\n",
       "<style scoped>\n",
       "    .dataframe tbody tr th:only-of-type {\n",
       "        vertical-align: middle;\n",
       "    }\n",
       "\n",
       "    .dataframe tbody tr th {\n",
       "        vertical-align: top;\n",
       "    }\n",
       "\n",
       "    .dataframe thead th {\n",
       "        text-align: right;\n",
       "    }\n",
       "</style>\n",
       "<table border=\"1\" class=\"dataframe\">\n",
       "  <thead>\n",
       "    <tr style=\"text-align: right;\">\n",
       "      <th></th>\n",
       "      <th>test_type</th>\n",
       "      <th>test_statistic</th>\n",
       "      <th>p_val_raw</th>\n",
       "      <th>residuals_normal</th>\n",
       "    </tr>\n",
       "  </thead>\n",
       "  <tbody>\n",
       "    <tr>\n",
       "      <th>0</th>\n",
       "      <td>mixedlm_random_intercept</td>\n",
       "      <td>7.344254</td>\n",
       "      <td>2.069095e-13</td>\n",
       "      <td>False</td>\n",
       "    </tr>\n",
       "  </tbody>\n",
       "</table>\n",
       "</div>"
      ],
      "text/plain": [
       "                  test_type  test_statistic     p_val_raw  residuals_normal\n",
       "0  mixedlm_random_intercept        7.344254  2.069095e-13             False"
      ]
     },
     "execution_count": 229,
     "metadata": {},
     "output_type": "execute_result"
    }
   ],
   "source": [
    "compare_v1_v2_multi_sample(plot_df, \"violation_rate\")"
   ]
  },
  {
   "cell_type": "markdown",
   "metadata": {},
   "source": [
    "> Significant difference between V1 and V2 violation rates in growth stages\n"
   ]
  },
  {
   "cell_type": "markdown",
   "metadata": {},
   "source": [
    "# B- N Attempted\n"
   ]
  },
  {
   "cell_type": "code",
   "execution_count": 230,
   "metadata": {},
   "outputs": [
    {
     "data": {
      "text/html": [
       "<div>\n",
       "<style scoped>\n",
       "    .dataframe tbody tr th:only-of-type {\n",
       "        vertical-align: middle;\n",
       "    }\n",
       "\n",
       "    .dataframe tbody tr th {\n",
       "        vertical-align: top;\n",
       "    }\n",
       "\n",
       "    .dataframe thead th {\n",
       "        text-align: right;\n",
       "    }\n",
       "</style>\n",
       "<table border=\"1\" class=\"dataframe\">\n",
       "  <thead>\n",
       "    <tr style=\"text-align: right;\">\n",
       "      <th></th>\n",
       "      <th>animal_id</th>\n",
       "      <th>fix_experiment</th>\n",
       "      <th>date</th>\n",
       "      <th>n_attempted</th>\n",
       "      <th>n_rewarded</th>\n",
       "    </tr>\n",
       "  </thead>\n",
       "  <tbody>\n",
       "    <tr>\n",
       "      <th>0</th>\n",
       "      <td>R040</td>\n",
       "      <td>V1</td>\n",
       "      <td>01-Aug-2024 14:28:29</td>\n",
       "      <td>440</td>\n",
       "      <td>320</td>\n",
       "    </tr>\n",
       "    <tr>\n",
       "      <th>1</th>\n",
       "      <td>R040</td>\n",
       "      <td>V1</td>\n",
       "      <td>02-Aug-2024 14:35:33</td>\n",
       "      <td>362</td>\n",
       "      <td>299</td>\n",
       "    </tr>\n",
       "    <tr>\n",
       "      <th>2</th>\n",
       "      <td>R040</td>\n",
       "      <td>V1</td>\n",
       "      <td>03-Aug-2024 14:05:41</td>\n",
       "      <td>421</td>\n",
       "      <td>352</td>\n",
       "    </tr>\n",
       "    <tr>\n",
       "      <th>3</th>\n",
       "      <td>R040</td>\n",
       "      <td>V1</td>\n",
       "      <td>04-Aug-2024 13:59:54</td>\n",
       "      <td>460</td>\n",
       "      <td>350</td>\n",
       "    </tr>\n",
       "    <tr>\n",
       "      <th>4</th>\n",
       "      <td>R040</td>\n",
       "      <td>V1</td>\n",
       "      <td>05-Aug-2024 13:59:14</td>\n",
       "      <td>382</td>\n",
       "      <td>301</td>\n",
       "    </tr>\n",
       "  </tbody>\n",
       "</table>\n",
       "</div>"
      ],
      "text/plain": [
       "  animal_id fix_experiment                  date  n_attempted  n_rewarded\n",
       "0      R040             V1  01-Aug-2024 14:28:29          440         320\n",
       "1      R040             V1  02-Aug-2024 14:35:33          362         299\n",
       "2      R040             V1  03-Aug-2024 14:05:41          421         352\n",
       "3      R040             V1  04-Aug-2024 13:59:54          460         350\n",
       "4      R040             V1  05-Aug-2024 13:59:14          382         301"
      ]
     },
     "execution_count": 230,
     "metadata": {},
     "output_type": "execute_result"
    }
   ],
   "source": [
    "plot_df = pdf.query(\"stage in @c.GROWING_STAGES\") \\\n",
    ".groupby([\"animal_id\", \"fix_experiment\", \"date\"]) \\\n",
    ".agg(n_attempted=(\"animal_id\", \"size\"), # each row is an attempted trial\n",
    "     n_rewarded=(\"was_rewarded\", \"sum\")).reset_index()\n",
    "plot_df.head()"
   ]
  },
  {
   "cell_type": "code",
   "execution_count": 231,
   "metadata": {},
   "outputs": [
    {
     "data": {
      "text/html": [
       "<div>\n",
       "<style scoped>\n",
       "    .dataframe tbody tr th:only-of-type {\n",
       "        vertical-align: middle;\n",
       "    }\n",
       "\n",
       "    .dataframe tbody tr th {\n",
       "        vertical-align: top;\n",
       "    }\n",
       "\n",
       "    .dataframe thead th {\n",
       "        text-align: right;\n",
       "    }\n",
       "</style>\n",
       "<table border=\"1\" class=\"dataframe\">\n",
       "  <thead>\n",
       "    <tr style=\"text-align: right;\">\n",
       "      <th></th>\n",
       "      <th>fix_experiment</th>\n",
       "      <th>mean_n_attempted</th>\n",
       "      <th>std_n_attempted</th>\n",
       "    </tr>\n",
       "  </thead>\n",
       "  <tbody>\n",
       "    <tr>\n",
       "      <th>0</th>\n",
       "      <td>V1</td>\n",
       "      <td>332.177215</td>\n",
       "      <td>109.616948</td>\n",
       "    </tr>\n",
       "    <tr>\n",
       "      <th>1</th>\n",
       "      <td>V2</td>\n",
       "      <td>470.200000</td>\n",
       "      <td>183.848352</td>\n",
       "    </tr>\n",
       "  </tbody>\n",
       "</table>\n",
       "</div>"
      ],
      "text/plain": [
       "  fix_experiment  mean_n_attempted  std_n_attempted\n",
       "0             V1        332.177215       109.616948\n",
       "1             V2        470.200000       183.848352"
      ]
     },
     "execution_count": 231,
     "metadata": {},
     "output_type": "execute_result"
    }
   ],
   "source": [
    "plot_df.groupby(\"fix_experiment\").agg(mean_n_attempted=(\"n_attempted\", \"mean\"), std_n_attempted=(\"n_attempted\", \"std\")).reset_index()"
   ]
  },
  {
   "cell_type": "code",
   "execution_count": 232,
   "metadata": {},
   "outputs": [
    {
     "name": "stderr",
     "output_type": "stream",
     "text": [
      "/Users/jessbreda/Desktop/github/jbreda_animal_training/notebooks/fixation_publication/utils.py:215: UserWarning: No artists with labels found to put in legend.  Note that artists whose label start with an underscore are ignored when legend() is called with no argument.\n",
      "  ax.legend(title=None, frameon=False)\n"
     ]
    },
    {
     "data": {
      "image/png": "[encoded data removed]",
      "text/plain": [
       "<Figure size 600x600 with 1 Axes>"
      ]
     },
     "metadata": {},
     "output_type": "display_data"
    }
   ],
   "source": [
    "fig, ax = plt.subplots(figsize=(6,6))\n",
    "\n",
    "u.box_strip_v1_vs_v2(plot_df, x=\"fix_experiment\", order=c.HUE_ORDER_EXP, y=\"n_attempted\", ax=ax, xlabel=\"\", ylabel=\"N Attempted Trials per Session\")\n",
    "\n",
    "ax.set_title(\"Attempted Trials in Growth Stages\", fontweight=\"bold\")\n",
    "\n",
    "\n",
    "#save fig\n",
    "fig.savefig(\"figures/V0_fig4b_n_attemped.png\", dpi=300, bbox_inches=\"tight\")"
   ]
  },
  {
   "cell_type": "code",
   "execution_count": 233,
   "metadata": {},
   "outputs": [
    {
     "data": {
      "text/html": [
       "<div>\n",
       "<style scoped>\n",
       "    .dataframe tbody tr th:only-of-type {\n",
       "        vertical-align: middle;\n",
       "    }\n",
       "\n",
       "    .dataframe tbody tr th {\n",
       "        vertical-align: top;\n",
       "    }\n",
       "\n",
       "    .dataframe thead th {\n",
       "        text-align: right;\n",
       "    }\n",
       "</style>\n",
       "<table border=\"1\" class=\"dataframe\">\n",
       "  <thead>\n",
       "    <tr style=\"text-align: right;\">\n",
       "      <th></th>\n",
       "      <th>normality_V1</th>\n",
       "      <th>normality_V2</th>\n",
       "      <th>n_V1</th>\n",
       "      <th>n_V2</th>\n",
       "      <th>test_type</th>\n",
       "      <th>test_statistic</th>\n",
       "      <th>p_val_raw</th>\n",
       "    </tr>\n",
       "  </thead>\n",
       "  <tbody>\n",
       "    <tr>\n",
       "      <th>0</th>\n",
       "      <td>False</td>\n",
       "      <td>False</td>\n",
       "      <td>237</td>\n",
       "      <td>110</td>\n",
       "      <td>mannwhitney</td>\n",
       "      <td>5689.0</td>\n",
       "      <td>2.961537e-17</td>\n",
       "    </tr>\n",
       "  </tbody>\n",
       "</table>\n",
       "</div>"
      ],
      "text/plain": [
       "   normality_V1  normality_V2  n_V1  n_V2    test_type  test_statistic  \\\n",
       "0         False         False   237   110  mannwhitney          5689.0   \n",
       "\n",
       "      p_val_raw  \n",
       "0  2.961537e-17  "
      ]
     },
     "execution_count": 233,
     "metadata": {},
     "output_type": "execute_result"
    }
   ],
   "source": [
    "compare_v1_v2(plot_df, \"n_attempted\")"
   ]
  },
  {
   "cell_type": "code",
   "execution_count": 234,
   "metadata": {},
   "outputs": [
    {
     "name": "stderr",
     "output_type": "stream",
     "text": [
      "/Users/jessbreda/anaconda3/envs/behav_viz/lib/python3.10/site-packages/statsmodels/regression/mixed_linear_model.py:1634: UserWarning: Random effects covariance is singular\n",
      "  warnings.warn(msg)\n"
     ]
    },
    {
     "data": {
      "text/html": [
       "<div>\n",
       "<style scoped>\n",
       "    .dataframe tbody tr th:only-of-type {\n",
       "        vertical-align: middle;\n",
       "    }\n",
       "\n",
       "    .dataframe tbody tr th {\n",
       "        vertical-align: top;\n",
       "    }\n",
       "\n",
       "    .dataframe thead th {\n",
       "        text-align: right;\n",
       "    }\n",
       "</style>\n",
       "<table border=\"1\" class=\"dataframe\">\n",
       "  <thead>\n",
       "    <tr style=\"text-align: right;\">\n",
       "      <th></th>\n",
       "      <th>test_type</th>\n",
       "      <th>test_statistic</th>\n",
       "      <th>p_val_raw</th>\n",
       "      <th>residuals_normal</th>\n",
       "    </tr>\n",
       "  </thead>\n",
       "  <tbody>\n",
       "    <tr>\n",
       "      <th>0</th>\n",
       "      <td>mixedlm_random_intercept</td>\n",
       "      <td>3.323713</td>\n",
       "      <td>0.000888</td>\n",
       "      <td>False</td>\n",
       "    </tr>\n",
       "  </tbody>\n",
       "</table>\n",
       "</div>"
      ],
      "text/plain": [
       "                  test_type  test_statistic  p_val_raw  residuals_normal\n",
       "0  mixedlm_random_intercept        3.323713   0.000888             False"
      ]
     },
     "execution_count": 234,
     "metadata": {},
     "output_type": "execute_result"
    }
   ],
   "source": [
    "compare_v1_v2_multi_sample(plot_df, \"n_attempted\")"
   ]
  },
  {
   "cell_type": "markdown",
   "metadata": {},
   "source": [
    "> Significant difference between V1 and V2 attempted trials in growth stages\n"
   ]
  },
  {
   "cell_type": "markdown",
   "metadata": {},
   "source": [
    "# C- N Rewarded\n"
   ]
  },
  {
   "cell_type": "code",
   "execution_count": 235,
   "metadata": {},
   "outputs": [
    {
     "data": {
      "text/html": [
       "<div>\n",
       "<style scoped>\n",
       "    .dataframe tbody tr th:only-of-type {\n",
       "        vertical-align: middle;\n",
       "    }\n",
       "\n",
       "    .dataframe tbody tr th {\n",
       "        vertical-align: top;\n",
       "    }\n",
       "\n",
       "    .dataframe thead th {\n",
       "        text-align: right;\n",
       "    }\n",
       "</style>\n",
       "<table border=\"1\" class=\"dataframe\">\n",
       "  <thead>\n",
       "    <tr style=\"text-align: right;\">\n",
       "      <th></th>\n",
       "      <th>fix_experiment</th>\n",
       "      <th>mean_n_rewarded</th>\n",
       "      <th>std_n_rewarded</th>\n",
       "    </tr>\n",
       "  </thead>\n",
       "  <tbody>\n",
       "    <tr>\n",
       "      <th>0</th>\n",
       "      <td>V1</td>\n",
       "      <td>246.632911</td>\n",
       "      <td>80.173463</td>\n",
       "    </tr>\n",
       "    <tr>\n",
       "      <th>1</th>\n",
       "      <td>V2</td>\n",
       "      <td>252.390909</td>\n",
       "      <td>110.042869</td>\n",
       "    </tr>\n",
       "  </tbody>\n",
       "</table>\n",
       "</div>"
      ],
      "text/plain": [
       "  fix_experiment  mean_n_rewarded  std_n_rewarded\n",
       "0             V1       246.632911       80.173463\n",
       "1             V2       252.390909      110.042869"
      ]
     },
     "execution_count": 235,
     "metadata": {},
     "output_type": "execute_result"
    }
   ],
   "source": [
    "plot_df.groupby(\"fix_experiment\").agg(mean_n_rewarded=(\"n_rewarded\", \"mean\"), std_n_rewarded=(\"n_rewarded\", \"std\")).reset_index()"
   ]
  },
  {
   "cell_type": "code",
   "execution_count": 236,
   "metadata": {},
   "outputs": [
    {
     "name": "stderr",
     "output_type": "stream",
     "text": [
      "/Users/jessbreda/Desktop/github/jbreda_animal_training/notebooks/fixation_publication/utils.py:215: UserWarning: No artists with labels found to put in legend.  Note that artists whose label start with an underscore are ignored when legend() is called with no argument.\n",
      "  ax.legend(title=None, frameon=False)\n"
     ]
    },
    {
     "data": {
      "image/png": "[encoded data removed]",
      "text/plain": [
       "<Figure size 600x600 with 1 Axes>"
      ]
     },
     "metadata": {},
     "output_type": "display_data"
    }
   ],
   "source": [
    "fig, ax = plt.subplots(figsize=(6,6))\n",
    "\n",
    "u.box_strip_v1_vs_v2(plot_df, x=\"fix_experiment\", order=c.HUE_ORDER_EXP, y=\"n_rewarded\", ax=ax, xlabel=\"\", ylabel=\"N Rewarded Trials per Session\")\n",
    "\n",
    "ax.set_title(\"Rewarded Trials in Growth Stages\", fontweight=\"bold\")\n",
    "\n",
    "\n",
    "#save fig\n",
    "fig.savefig(\"figures/V0_fig4c_n_rewarded.png\", dpi=300, bbox_inches=\"tight\")"
   ]
  },
  {
   "cell_type": "code",
   "execution_count": 237,
   "metadata": {},
   "outputs": [
    {
     "data": {
      "text/html": [
       "<div>\n",
       "<style scoped>\n",
       "    .dataframe tbody tr th:only-of-type {\n",
       "        vertical-align: middle;\n",
       "    }\n",
       "\n",
       "    .dataframe tbody tr th {\n",
       "        vertical-align: top;\n",
       "    }\n",
       "\n",
       "    .dataframe thead th {\n",
       "        text-align: right;\n",
       "    }\n",
       "</style>\n",
       "<table border=\"1\" class=\"dataframe\">\n",
       "  <thead>\n",
       "    <tr style=\"text-align: right;\">\n",
       "      <th></th>\n",
       "      <th>normality_V1</th>\n",
       "      <th>normality_V2</th>\n",
       "      <th>n_V1</th>\n",
       "      <th>n_V2</th>\n",
       "      <th>test_type</th>\n",
       "      <th>test_statistic</th>\n",
       "      <th>p_val_raw</th>\n",
       "    </tr>\n",
       "  </thead>\n",
       "  <tbody>\n",
       "    <tr>\n",
       "      <th>0</th>\n",
       "      <td>False</td>\n",
       "      <td>False</td>\n",
       "      <td>237</td>\n",
       "      <td>110</td>\n",
       "      <td>mannwhitney</td>\n",
       "      <td>12258.5</td>\n",
       "      <td>0.372132</td>\n",
       "    </tr>\n",
       "  </tbody>\n",
       "</table>\n",
       "</div>"
      ],
      "text/plain": [
       "   normality_V1  normality_V2  n_V1  n_V2    test_type  test_statistic  \\\n",
       "0         False         False   237   110  mannwhitney         12258.5   \n",
       "\n",
       "   p_val_raw  \n",
       "0   0.372132  "
      ]
     },
     "execution_count": 237,
     "metadata": {},
     "output_type": "execute_result"
    }
   ],
   "source": [
    "compare_v1_v2(plot_df, \"n_rewarded\")"
   ]
  },
  {
   "cell_type": "code",
   "execution_count": 238,
   "metadata": {},
   "outputs": [
    {
     "name": "stderr",
     "output_type": "stream",
     "text": [
      "/Users/jessbreda/anaconda3/envs/behav_viz/lib/python3.10/site-packages/statsmodels/regression/mixed_linear_model.py:1634: UserWarning: Random effects covariance is singular\n",
      "  warnings.warn(msg)\n"
     ]
    },
    {
     "data": {
      "text/html": [
       "<div>\n",
       "<style scoped>\n",
       "    .dataframe tbody tr th:only-of-type {\n",
       "        vertical-align: middle;\n",
       "    }\n",
       "\n",
       "    .dataframe tbody tr th {\n",
       "        vertical-align: top;\n",
       "    }\n",
       "\n",
       "    .dataframe thead th {\n",
       "        text-align: right;\n",
       "    }\n",
       "</style>\n",
       "<table border=\"1\" class=\"dataframe\">\n",
       "  <thead>\n",
       "    <tr style=\"text-align: right;\">\n",
       "      <th></th>\n",
       "      <th>test_type</th>\n",
       "      <th>test_statistic</th>\n",
       "      <th>p_val_raw</th>\n",
       "      <th>residuals_normal</th>\n",
       "    </tr>\n",
       "  </thead>\n",
       "  <tbody>\n",
       "    <tr>\n",
       "      <th>0</th>\n",
       "      <td>mixedlm_random_intercept</td>\n",
       "      <td>0.419007</td>\n",
       "      <td>0.675211</td>\n",
       "      <td>False</td>\n",
       "    </tr>\n",
       "  </tbody>\n",
       "</table>\n",
       "</div>"
      ],
      "text/plain": [
       "                  test_type  test_statistic  p_val_raw  residuals_normal\n",
       "0  mixedlm_random_intercept        0.419007   0.675211             False"
      ]
     },
     "execution_count": 238,
     "metadata": {},
     "output_type": "execute_result"
    }
   ],
   "source": [
    "compare_v1_v2_multi_sample(plot_df, \"n_rewarded\")"
   ]
  },
  {
   "cell_type": "markdown",
   "metadata": {},
   "source": [
    "> No significant difference between V1 and V2 rewarded trials in growth stages\n"
   ]
  },
  {
   "cell_type": "markdown",
   "metadata": {},
   "source": [
    "# D- N Attempted Over Session\n"
   ]
  },
  {
   "cell_type": "code",
   "execution_count": 252,
   "metadata": {},
   "outputs": [
    {
     "name": "stdout",
     "output_type": "stream",
     "text": [
      "<class 'pandas.core.frame.DataFrame'>\n",
      "Index: 130448 entries, 0 to 192077\n",
      "Data columns (total 15 columns):\n",
      " #   Column                   Non-Null Count   Dtype  \n",
      "---  ------                   --------------   -----  \n",
      " 0   sessid                   130448 non-null  int64  \n",
      " 1   animal_id                130448 non-null  object \n",
      " 2   trial                    130448 non-null  int64  \n",
      " 3   cpoke_dur                128681 non-null  float64\n",
      " 4   cpoke_iti                130089 non-null  float64\n",
      " 5   post_settling_violation  130448 non-null  int64  \n",
      " 6   settling_violation       130448 non-null  int64  \n",
      " 7   was_rewarded             130448 non-null  int64  \n",
      " 8   fixation_dur             130448 non-null  float64\n",
      " 9   date                     130448 non-null  object \n",
      " 10  stage                    130448 non-null  float64\n",
      " 11  fix_experiment           130448 non-null  object \n",
      " 12  relative_cpoke_dur       128681 non-null  float64\n",
      " 13  was_valid                130448 non-null  bool   \n",
      " 14  was_violation            130448 non-null  bool   \n",
      "dtypes: bool(2), float64(5), int64(5), object(3)\n",
      "memory usage: 14.2+ MB\n"
     ]
    }
   ],
   "source": [
    "plot_df = pdf.query(\"stage in @c.GROWING_STAGES\").copy()\n",
    "plot_df[\"was_violation\"] = plot_df[\"was_valid\"] == 0\n",
    "\n",
    "plot_df.info()"
   ]
  },
  {
   "cell_type": "code",
   "execution_count": 301,
   "metadata": {},
   "outputs": [
    {
     "data": {
      "image/png": "[encoded data removed]",
      "text/plain": [
       "<Figure size 600x600 with 1 Axes>"
      ]
     },
     "metadata": {},
     "output_type": "display_data"
    }
   ],
   "source": [
    "\n",
    "def compute_violation_rates_by_session(df, pct):\n",
    "    \"\"\"\n",
    "    Compute the violation rate for each session for three segments: early, middle, and late.\n",
    "    \n",
    "    Segments are defined as:\n",
    "      - Early: first `pct` portion of trials,\n",
    "      - Middle: middle `pct` portion of trials (centered at 0.5, i.e. from 0.5-pct/2 to 0.5+pct/2),\n",
    "      - Late: last `pct` portion of trials.\n",
    "    \n",
    "    Parameters:\n",
    "      df (pd.DataFrame): DataFrame with trial events for a session.\n",
    "      pct (float): Proportion (between 0 and 0.5) that defines the size of each segment.\n",
    "      \n",
    "    Returns:\n",
    "      pd.DataFrame: DataFrame with columns ['sessid', 'animal_id', 'date', 'fix_experiment',\n",
    "                                             'segment', 'violation_rate'].\n",
    "    \"\"\"\n",
    "    session_results = []\n",
    "    group_cols = ['sessid', 'animal_id', 'date', 'fix_experiment']\n",
    "    \n",
    "    for name, group in df.groupby(group_cols):\n",
    "        group = group.sort_index().copy()\n",
    "        n_trials = len(group)\n",
    "        \n",
    "        # Create a normalized trial index (0 to 1)\n",
    "        group['trial_norm'] = np.linspace(0, 1, n_trials, endpoint=False)\n",
    "        \n",
    "        # Define masks for each segment:\n",
    "        early_mask = group['trial_norm'] < pct\n",
    "        middle_mask = (group['trial_norm'] >= 0.5 - pct/2) & (group['trial_norm'] < 0.5 + pct/2)\n",
    "        late_mask = group['trial_norm'] >= (1 - pct)\n",
    "        \n",
    "        # Create a new column for segment using np.select; trials not in any segment will be NaN.\n",
    "        conditions = [early_mask, middle_mask, late_mask]\n",
    "        choices = ['early', 'middle', 'late']\n",
    "        group['segment'] = np.select(conditions, choices, default=pd.NA)\n",
    "        \n",
    "        # Keep only the trials that fall into one of the segments\n",
    "        group_seg = group.dropna(subset=['segment'])\n",
    "        \n",
    "        # Compute the violation rate for each segment\n",
    "        seg_rates = (group_seg.groupby('segment', observed=False)['was_violation']\n",
    "                           .mean()\n",
    "                           .reset_index(name='violation_rate'))\n",
    "        \n",
    "        # Add session identifiers\n",
    "        seg_rates['sessid'] = name[0]\n",
    "        seg_rates['animal_id'] = name[1]\n",
    "        seg_rates['date'] = name[2]\n",
    "        seg_rates['fix_experiment'] = name[3]\n",
    "        \n",
    "        session_results.append(seg_rates)\n",
    "    \n",
    "    result_df = pd.concat(session_results, ignore_index=True)\n",
    "    return result_df\n",
    "\n",
    "\n",
    "violations_over_sessions = compute_violation_rates_by_session(plot_df, pct=0.15)\n",
    "\n",
    "# Now, plot the results as a box plot:\n",
    "fig, ax = plt.subplots(figsize=(6,6))\n",
    "sns.despine()\n",
    "sns.pointplot(data=violations_over_sessions, x='segment', y='violation_rate', order=[\"early\", \"middle\", \"late\"], hue='fix_experiment', palette=c.EXP_PALETTE, hue_order=c.HUE_ORDER_EXP, errorbar=\"se\")\n",
    "\n",
    "ax.set_title(\"Violation Rates by Session Segment\", fontweight=\"bold\")\n",
    "\n",
    "ax.set(\n",
    "    xlabel=\"Session Trial Segment\",\n",
    "    ylabel=\"Violation Rate\",\n",
    "    ylim=(0, 1)\n",
    ")\n",
    "\n",
    "plt.tight_layout()\n",
    "\n",
    "ax.legend(title=None, frameon=False)\n",
    "\n",
    "# get x tick labels and rename to [\"early [0-10%]\", \"middle [45-55%]\", \"late [90-100%]\"]\n",
    "ax.set_xticks([0, 1, 2])\n",
    "ax.set_xticklabels([\"Early\\n0-15%\", \"Middle\\n42.5-57.5%\", \"Late\\n85-100%\"])\n",
    "\n",
    "# save fig\n",
    "fig.savefig(\"figures/V0_fig4d_violation_rates_by_session_segment.png\", dpi=300, bbox_inches=\"tight\")"
   ]
  },
  {
   "cell_type": "code",
   "execution_count": 286,
   "metadata": {},
   "outputs": [
    {
     "data": {
      "text/html": [
       "<div>\n",
       "<style scoped>\n",
       "    .dataframe tbody tr th:only-of-type {\n",
       "        vertical-align: middle;\n",
       "    }\n",
       "\n",
       "    .dataframe tbody tr th {\n",
       "        vertical-align: top;\n",
       "    }\n",
       "\n",
       "    .dataframe thead th {\n",
       "        text-align: right;\n",
       "    }\n",
       "</style>\n",
       "<table border=\"1\" class=\"dataframe\">\n",
       "  <thead>\n",
       "    <tr style=\"text-align: right;\">\n",
       "      <th></th>\n",
       "      <th>segment</th>\n",
       "      <th>violation_rate</th>\n",
       "      <th>sessid</th>\n",
       "      <th>animal_id</th>\n",
       "      <th>date</th>\n",
       "      <th>fix_experiment</th>\n",
       "    </tr>\n",
       "  </thead>\n",
       "  <tbody>\n",
       "    <tr>\n",
       "      <th>0</th>\n",
       "      <td>early</td>\n",
       "      <td>1.000000</td>\n",
       "      <td>964850</td>\n",
       "      <td>R041</td>\n",
       "      <td>30-Jul-2024 14:47:23</td>\n",
       "      <td>V2</td>\n",
       "    </tr>\n",
       "    <tr>\n",
       "      <th>1</th>\n",
       "      <td>late</td>\n",
       "      <td>0.769231</td>\n",
       "      <td>964850</td>\n",
       "      <td>R041</td>\n",
       "      <td>30-Jul-2024 14:47:23</td>\n",
       "      <td>V2</td>\n",
       "    </tr>\n",
       "    <tr>\n",
       "      <th>2</th>\n",
       "      <td>middle</td>\n",
       "      <td>1.000000</td>\n",
       "      <td>964850</td>\n",
       "      <td>R041</td>\n",
       "      <td>30-Jul-2024 14:47:23</td>\n",
       "      <td>V2</td>\n",
       "    </tr>\n",
       "    <tr>\n",
       "      <th>3</th>\n",
       "      <td>early</td>\n",
       "      <td>0.715517</td>\n",
       "      <td>964851</td>\n",
       "      <td>R043</td>\n",
       "      <td>30-Jul-2024 14:47:25</td>\n",
       "      <td>V2</td>\n",
       "    </tr>\n",
       "    <tr>\n",
       "      <th>4</th>\n",
       "      <td>late</td>\n",
       "      <td>0.243478</td>\n",
       "      <td>964851</td>\n",
       "      <td>R043</td>\n",
       "      <td>30-Jul-2024 14:47:25</td>\n",
       "      <td>V2</td>\n",
       "    </tr>\n",
       "    <tr>\n",
       "      <th>...</th>\n",
       "      <td>...</td>\n",
       "      <td>...</td>\n",
       "      <td>...</td>\n",
       "      <td>...</td>\n",
       "      <td>...</td>\n",
       "      <td>...</td>\n",
       "    </tr>\n",
       "    <tr>\n",
       "      <th>1028</th>\n",
       "      <td>late</td>\n",
       "      <td>0.203704</td>\n",
       "      <td>969857</td>\n",
       "      <td>R056</td>\n",
       "      <td>03-Oct-2024 16:37:22</td>\n",
       "      <td>V1</td>\n",
       "    </tr>\n",
       "    <tr>\n",
       "      <th>1029</th>\n",
       "      <td>middle</td>\n",
       "      <td>0.181818</td>\n",
       "      <td>969857</td>\n",
       "      <td>R056</td>\n",
       "      <td>03-Oct-2024 16:37:22</td>\n",
       "      <td>V1</td>\n",
       "    </tr>\n",
       "    <tr>\n",
       "      <th>1030</th>\n",
       "      <td>early</td>\n",
       "      <td>0.081081</td>\n",
       "      <td>969929</td>\n",
       "      <td>R056</td>\n",
       "      <td>04-Oct-2024 16:38:27</td>\n",
       "      <td>V1</td>\n",
       "    </tr>\n",
       "    <tr>\n",
       "      <th>1031</th>\n",
       "      <td>late</td>\n",
       "      <td>0.527778</td>\n",
       "      <td>969929</td>\n",
       "      <td>R056</td>\n",
       "      <td>04-Oct-2024 16:38:27</td>\n",
       "      <td>V1</td>\n",
       "    </tr>\n",
       "    <tr>\n",
       "      <th>1032</th>\n",
       "      <td>middle</td>\n",
       "      <td>0.055556</td>\n",
       "      <td>969929</td>\n",
       "      <td>R056</td>\n",
       "      <td>04-Oct-2024 16:38:27</td>\n",
       "      <td>V1</td>\n",
       "    </tr>\n",
       "  </tbody>\n",
       "</table>\n",
       "<p>1033 rows × 6 columns</p>\n",
       "</div>"
      ],
      "text/plain": [
       "     segment  violation_rate  sessid animal_id                  date  \\\n",
       "0      early        1.000000  964850      R041  30-Jul-2024 14:47:23   \n",
       "1       late        0.769231  964850      R041  30-Jul-2024 14:47:23   \n",
       "2     middle        1.000000  964850      R041  30-Jul-2024 14:47:23   \n",
       "3      early        0.715517  964851      R043  30-Jul-2024 14:47:25   \n",
       "4       late        0.243478  964851      R043  30-Jul-2024 14:47:25   \n",
       "...      ...             ...     ...       ...                   ...   \n",
       "1028    late        0.203704  969857      R056  03-Oct-2024 16:37:22   \n",
       "1029  middle        0.181818  969857      R056  03-Oct-2024 16:37:22   \n",
       "1030   early        0.081081  969929      R056  04-Oct-2024 16:38:27   \n",
       "1031    late        0.527778  969929      R056  04-Oct-2024 16:38:27   \n",
       "1032  middle        0.055556  969929      R056  04-Oct-2024 16:38:27   \n",
       "\n",
       "     fix_experiment  \n",
       "0                V2  \n",
       "1                V2  \n",
       "2                V2  \n",
       "3                V2  \n",
       "4                V2  \n",
       "...             ...  \n",
       "1028             V1  \n",
       "1029             V1  \n",
       "1030             V1  \n",
       "1031             V1  \n",
       "1032             V1  \n",
       "\n",
       "[1033 rows x 6 columns]"
      ]
     },
     "execution_count": 286,
     "metadata": {},
     "output_type": "execute_result"
    }
   ],
   "source": [
    "violations_over_sessions"
   ]
  },
  {
   "cell_type": "code",
   "execution_count": 293,
   "metadata": {},
   "outputs": [
    {
     "data": {
      "text/html": [
       "<div>\n",
       "<style scoped>\n",
       "    .dataframe tbody tr th:only-of-type {\n",
       "        vertical-align: middle;\n",
       "    }\n",
       "\n",
       "    .dataframe tbody tr th {\n",
       "        vertical-align: top;\n",
       "    }\n",
       "\n",
       "    .dataframe thead th {\n",
       "        text-align: right;\n",
       "    }\n",
       "</style>\n",
       "<table border=\"1\" class=\"dataframe\">\n",
       "  <thead>\n",
       "    <tr style=\"text-align: right;\">\n",
       "      <th></th>\n",
       "      <th>fix_experiment</th>\n",
       "      <th>segment</th>\n",
       "      <th>Shapiro_stat</th>\n",
       "      <th>p_value</th>\n",
       "      <th>n</th>\n",
       "    </tr>\n",
       "  </thead>\n",
       "  <tbody>\n",
       "    <tr>\n",
       "      <th>0</th>\n",
       "      <td>V1</td>\n",
       "      <td>early</td>\n",
       "      <td>0.917879</td>\n",
       "      <td>3.669864e-10</td>\n",
       "      <td>237</td>\n",
       "    </tr>\n",
       "    <tr>\n",
       "      <th>1</th>\n",
       "      <td>V1</td>\n",
       "      <td>late</td>\n",
       "      <td>0.945476</td>\n",
       "      <td>1.238803e-07</td>\n",
       "      <td>232</td>\n",
       "    </tr>\n",
       "    <tr>\n",
       "      <th>2</th>\n",
       "      <td>V1</td>\n",
       "      <td>middle</td>\n",
       "      <td>0.852273</td>\n",
       "      <td>3.431683e-14</td>\n",
       "      <td>234</td>\n",
       "    </tr>\n",
       "    <tr>\n",
       "      <th>3</th>\n",
       "      <td>V2</td>\n",
       "      <td>early</td>\n",
       "      <td>0.974665</td>\n",
       "      <td>3.409978e-02</td>\n",
       "      <td>110</td>\n",
       "    </tr>\n",
       "    <tr>\n",
       "      <th>4</th>\n",
       "      <td>V2</td>\n",
       "      <td>late</td>\n",
       "      <td>0.963622</td>\n",
       "      <td>4.264385e-03</td>\n",
       "      <td>110</td>\n",
       "    </tr>\n",
       "    <tr>\n",
       "      <th>5</th>\n",
       "      <td>V2</td>\n",
       "      <td>middle</td>\n",
       "      <td>0.850087</td>\n",
       "      <td>3.557646e-09</td>\n",
       "      <td>110</td>\n",
       "    </tr>\n",
       "  </tbody>\n",
       "</table>\n",
       "</div>"
      ],
      "text/plain": [
       "  fix_experiment segment  Shapiro_stat       p_value    n\n",
       "0             V1   early      0.917879  3.669864e-10  237\n",
       "1             V1    late      0.945476  1.238803e-07  232\n",
       "2             V1  middle      0.852273  3.431683e-14  234\n",
       "3             V2   early      0.974665  3.409978e-02  110\n",
       "4             V2    late      0.963622  4.264385e-03  110\n",
       "5             V2  middle      0.850087  3.557646e-09  110"
      ]
     },
     "execution_count": 293,
     "metadata": {},
     "output_type": "execute_result"
    }
   ],
   "source": [
    "\n",
    "results = []\n",
    "for group_name, group_data in violations_over_sessions.groupby('fix_experiment'):\n",
    "    for seg_name, seg_data in group_data.groupby('segment'):\n",
    "        # Apply Shapiro-Wilk test\n",
    "        stat, p_value = shapiro(seg_data['violation_rate'])\n",
    "        results.append({\n",
    "            'fix_experiment': group_name,\n",
    "            'segment': seg_name,\n",
    "            'Shapiro_stat': stat,\n",
    "            'p_value': p_value,\n",
    "            'n': len(seg_data)\n",
    "        })\n",
    "pd.DataFrame(results)\n",
    "\n"
   ]
  },
  {
   "cell_type": "markdown",
   "metadata": {},
   "source": [
    "> Results are not normal, so we will use a non-parametric test\n"
   ]
  },
  {
   "cell_type": "code",
   "execution_count": 295,
   "metadata": {},
   "outputs": [
    {
     "name": "stdout",
     "output_type": "stream",
     "text": [
      "\n",
      "Fixation Group: V2\n",
      "Friedman Test Statistic: 132.8551, p-value: 1.4154e-29\n",
      "\n",
      "Fixation Group: V1\n",
      "Friedman Test Statistic: 31.0610, p-value: 1.7996e-07\n"
     ]
    }
   ],
   "source": [
    "import pandas as pd\n",
    "from scipy import stats\n",
    "import matplotlib.pyplot as plt\n",
    "import statsmodels.stats.multitest as smm\n",
    "from itertools import combinations\n",
    "\n",
    "# Pivot the data to wide format: one row per session with columns for each segment\n",
    "pivot_df = violations_over_sessions.pivot_table(\n",
    "    index=['sessid', 'animal_id', 'date', 'fix_experiment'],\n",
    "    columns='segment',\n",
    "    values='violation_rate'\n",
    ").reset_index()\n",
    "\n",
    "\n",
    "# Perform Friedman test for each fix_experiment group\n",
    "friedman_results = {}\n",
    "for group in pivot_df['fix_experiment'].unique():\n",
    "    # For the Friedman test, require complete data for early, middle, and late.\n",
    "    group_df = pivot_df[pivot_df['fix_experiment'] == group].dropna(subset=['early', 'middle', 'late'])\n",
    "    \n",
    "    # Run the Friedman test\n",
    "    friedman_stat, friedman_p = stats.friedmanchisquare(\n",
    "        group_df['early'], group_df['middle'], group_df['late']\n",
    "    )\n",
    "    friedman_results[group] = {'friedman_stat': friedman_stat, 'p_value': friedman_p}\n",
    "    \n",
    "    print(f\"\\nFixation Group: {group}\")\n",
    "    print(f\"Friedman Test Statistic: {friedman_stat:.4f}, p-value: {friedman_p:.4e}\")\n"
   ]
  },
  {
   "cell_type": "code",
   "execution_count": 297,
   "metadata": {},
   "outputs": [
    {
     "data": {
      "text/html": [
       "<div>\n",
       "<style scoped>\n",
       "    .dataframe tbody tr th:only-of-type {\n",
       "        vertical-align: middle;\n",
       "    }\n",
       "\n",
       "    .dataframe tbody tr th {\n",
       "        vertical-align: top;\n",
       "    }\n",
       "\n",
       "    .dataframe thead th {\n",
       "        text-align: right;\n",
       "    }\n",
       "</style>\n",
       "<table border=\"1\" class=\"dataframe\">\n",
       "  <thead>\n",
       "    <tr style=\"text-align: right;\">\n",
       "      <th></th>\n",
       "      <th>fix_experiment</th>\n",
       "      <th>comparison</th>\n",
       "      <th>wilcoxon_stat</th>\n",
       "      <th>raw_p_value</th>\n",
       "      <th>corrected_p_value</th>\n",
       "      <th>reject_null</th>\n",
       "    </tr>\n",
       "  </thead>\n",
       "  <tbody>\n",
       "    <tr>\n",
       "      <th>0</th>\n",
       "      <td>V2</td>\n",
       "      <td>early vs middle</td>\n",
       "      <td>176.0</td>\n",
       "      <td>4.341541e-16</td>\n",
       "      <td>1.302462e-15</td>\n",
       "      <td>True</td>\n",
       "    </tr>\n",
       "    <tr>\n",
       "      <th>1</th>\n",
       "      <td>V2</td>\n",
       "      <td>early vs late</td>\n",
       "      <td>5.0</td>\n",
       "      <td>1.003398e-19</td>\n",
       "      <td>3.010195e-19</td>\n",
       "      <td>True</td>\n",
       "    </tr>\n",
       "    <tr>\n",
       "      <th>2</th>\n",
       "      <td>V2</td>\n",
       "      <td>middle vs late</td>\n",
       "      <td>1874.5</td>\n",
       "      <td>1.615556e-03</td>\n",
       "      <td>4.846669e-03</td>\n",
       "      <td>True</td>\n",
       "    </tr>\n",
       "    <tr>\n",
       "      <th>3</th>\n",
       "      <td>V1</td>\n",
       "      <td>early vs middle</td>\n",
       "      <td>10014.0</td>\n",
       "      <td>5.029953e-02</td>\n",
       "      <td>1.508986e-01</td>\n",
       "      <td>False</td>\n",
       "    </tr>\n",
       "    <tr>\n",
       "      <th>4</th>\n",
       "      <td>V1</td>\n",
       "      <td>early vs late</td>\n",
       "      <td>9192.0</td>\n",
       "      <td>7.462345e-05</td>\n",
       "      <td>2.238704e-04</td>\n",
       "      <td>True</td>\n",
       "    </tr>\n",
       "    <tr>\n",
       "      <th>5</th>\n",
       "      <td>V1</td>\n",
       "      <td>middle vs late</td>\n",
       "      <td>6959.5</td>\n",
       "      <td>6.292913e-09</td>\n",
       "      <td>1.887874e-08</td>\n",
       "      <td>True</td>\n",
       "    </tr>\n",
       "  </tbody>\n",
       "</table>\n",
       "</div>"
      ],
      "text/plain": [
       "  fix_experiment       comparison  wilcoxon_stat   raw_p_value  \\\n",
       "0             V2  early vs middle          176.0  4.341541e-16   \n",
       "1             V2    early vs late            5.0  1.003398e-19   \n",
       "2             V2   middle vs late         1874.5  1.615556e-03   \n",
       "3             V1  early vs middle        10014.0  5.029953e-02   \n",
       "4             V1    early vs late         9192.0  7.462345e-05   \n",
       "5             V1   middle vs late         6959.5  6.292913e-09   \n",
       "\n",
       "   corrected_p_value  reject_null  \n",
       "0       1.302462e-15         True  \n",
       "1       3.010195e-19         True  \n",
       "2       4.846669e-03         True  \n",
       "3       1.508986e-01        False  \n",
       "4       2.238704e-04         True  \n",
       "5       1.887874e-08         True  "
      ]
     },
     "execution_count": 297,
     "metadata": {},
     "output_type": "execute_result"
    }
   ],
   "source": [
    "\n",
    "# If the Friedman test is significant within a group, you may follow up with pairwise comparisons.\n",
    "# For pairwise comparisons, we use the Wilcoxon signed-rank test with a multiple comparisons correction.\n",
    "pairwise_results = {}\n",
    "for group in pivot_df['fix_experiment'].unique():\n",
    "    group_df = pivot_df[pivot_df['fix_experiment'] == group].dropna(subset=['early', 'middle', 'late'])\n",
    "    comparisons = list(combinations(['early', 'middle', 'late'], 2))\n",
    "    results = []\n",
    "    for comp in comparisons:\n",
    "        stat, p_val = stats.wilcoxon(group_df[comp[0]], group_df[comp[1]])\n",
    "        results.append({'comparison': f'{comp[0]} vs {comp[1]}', 'wilcoxon_stat': stat, 'p_value': p_val})\n",
    "    \n",
    "    # Correct for multiple comparisons using Bonferroni correction (or Holm, etc.)\n",
    "    p_values = [r['p_value'] for r in results]\n",
    "    reject, pvals_corrected, _, _ = smm.multipletests(p_values, alpha=0.05, method='bonferroni')\n",
    "    for i, r in enumerate(results):\n",
    "        r['p_value_corrected'] = pvals_corrected[i]\n",
    "        r['reject_null'] = reject[i]\n",
    "    pairwise_results[group] = results\n",
    "\n",
    "tidy_results = []\n",
    "for group, comparisons in pairwise_results.items():\n",
    "    for comp in comparisons:\n",
    "        tidy_results.append({\n",
    "            'fix_experiment': group,\n",
    "            'comparison': comp['comparison'],\n",
    "            'wilcoxon_stat': comp['wilcoxon_stat'],\n",
    "            'raw_p_value': comp['p_value'],\n",
    "            'corrected_p_value': comp['p_value_corrected'],\n",
    "            'reject_null': comp['reject_null']\n",
    "        })\n",
    "\n",
    "tidy_results_df = pd.DataFrame(tidy_results)\n",
    "tidy_results_df"
   ]
  },
  {
   "cell_type": "markdown",
   "metadata": {},
   "source": [
    "# E- ITI Analysis\n"
   ]
  },
  {
   "cell_type": "markdown",
   "metadata": {},
   "source": [
    "# F- V2 Transition To Penalty On\n"
   ]
  },
  {
   "cell_type": "code",
   "execution_count": 239,
   "metadata": {},
   "outputs": [
    {
     "data": {
      "text/html": [
       "<div>\n",
       "<style scoped>\n",
       "    .dataframe tbody tr th:only-of-type {\n",
       "        vertical-align: middle;\n",
       "    }\n",
       "\n",
       "    .dataframe tbody tr th {\n",
       "        vertical-align: top;\n",
       "    }\n",
       "\n",
       "    .dataframe thead th {\n",
       "        text-align: right;\n",
       "    }\n",
       "</style>\n",
       "<table border=\"1\" class=\"dataframe\">\n",
       "  <thead>\n",
       "    <tr style=\"text-align: right;\">\n",
       "      <th></th>\n",
       "      <th>animal_id</th>\n",
       "      <th>fix_experiment</th>\n",
       "      <th>days_relative_to_stage_8</th>\n",
       "      <th>stage</th>\n",
       "      <th>was_valid</th>\n",
       "      <th>violation_rate</th>\n",
       "    </tr>\n",
       "  </thead>\n",
       "  <tbody>\n",
       "    <tr>\n",
       "      <th>0</th>\n",
       "      <td>R041</td>\n",
       "      <td>V2</td>\n",
       "      <td>-1</td>\n",
       "      <td>7.0</td>\n",
       "      <td>0.488491</td>\n",
       "      <td>0.511509</td>\n",
       "    </tr>\n",
       "    <tr>\n",
       "      <th>1</th>\n",
       "      <td>R041</td>\n",
       "      <td>V2</td>\n",
       "      <td>0</td>\n",
       "      <td>8.0</td>\n",
       "      <td>0.808036</td>\n",
       "      <td>0.191964</td>\n",
       "    </tr>\n",
       "    <tr>\n",
       "      <th>2</th>\n",
       "      <td>R041</td>\n",
       "      <td>V2</td>\n",
       "      <td>1</td>\n",
       "      <td>9.0</td>\n",
       "      <td>0.658163</td>\n",
       "      <td>0.341837</td>\n",
       "    </tr>\n",
       "    <tr>\n",
       "      <th>3</th>\n",
       "      <td>R043</td>\n",
       "      <td>V2</td>\n",
       "      <td>-1</td>\n",
       "      <td>7.0</td>\n",
       "      <td>0.618343</td>\n",
       "      <td>0.381657</td>\n",
       "    </tr>\n",
       "    <tr>\n",
       "      <th>4</th>\n",
       "      <td>R043</td>\n",
       "      <td>V2</td>\n",
       "      <td>0</td>\n",
       "      <td>8.0</td>\n",
       "      <td>0.841727</td>\n",
       "      <td>0.158273</td>\n",
       "    </tr>\n",
       "  </tbody>\n",
       "</table>\n",
       "</div>"
      ],
      "text/plain": [
       "  animal_id fix_experiment  days_relative_to_stage_8  stage  was_valid  \\\n",
       "0      R041             V2                        -1    7.0   0.488491   \n",
       "1      R041             V2                         0    8.0   0.808036   \n",
       "2      R041             V2                         1    9.0   0.658163   \n",
       "3      R043             V2                        -1    7.0   0.618343   \n",
       "4      R043             V2                         0    8.0   0.841727   \n",
       "\n",
       "   violation_rate  \n",
       "0        0.511509  \n",
       "1        0.191964  \n",
       "2        0.341837  \n",
       "3        0.381657  \n",
       "4        0.158273  "
      ]
     },
     "execution_count": 239,
     "metadata": {},
     "output_type": "execute_result"
    }
   ],
   "source": [
    "plot_df = u.compute_days_relative_to_stage(pdf.query(\"fix_experiment == 'V2'\").copy(), stage=8)\n",
    "plot_df = plot_df[~((plot_df['settling_violation'] == 1) & (plot_df['days_relative_to_stage_8'] >= 0))] # remove settling in violations since they are not a true violation once in stage 8\n",
    "\n",
    "# compute the violation rate (1- was_valid rate) for the day prior to and after the penalty on (stage 8) for each animal\n",
    "plot_df = plot_df.query(\"days_relative_to_stage_8 >=-1 and days_relative_to_stage_8 <= 1\") \\\n",
    "    .groupby([\"animal_id\", \"fix_experiment\", \"days_relative_to_stage_8\", \"stage\"]).agg({\"was_valid\": \"mean\"}).reset_index()\n",
    "plot_df[\"violation_rate\"] = 1 - plot_df[\"was_valid\"]\n",
    "plot_df.head()"
   ]
  },
  {
   "cell_type": "code",
   "execution_count": 240,
   "metadata": {},
   "outputs": [
    {
     "name": "stderr",
     "output_type": "stream",
     "text": [
      "/var/folders/__/8jn6qz211155h1xb451s5zcr0000gn/T/ipykernel_13663/2190657718.py:6: UserWarning: \n",
      "The palette list has fewer values (1) than needed (9) and will cycle, which may produce an uninterpretable plot.\n",
      "  sns.pointplot(\n"
     ]
    },
    {
     "data": {
      "image/png": "[encoded data removed]",
      "text/plain": [
       "<Figure size 600x600 with 1 Axes>"
      ]
     },
     "metadata": {},
     "output_type": "display_data"
    }
   ],
   "source": [
    "fig, ax = plt.subplots(figsize=(6,6))\n",
    "sns.despine()\n",
    "day_range = [-1, 1]\n",
    "\n",
    "ax.axvline(x=1, color=\"k\", ls = \"--\", ymax=0.8)\n",
    "sns.pointplot(\n",
    "    data=plot_df,\n",
    "    x=\"days_relative_to_stage_8\",\n",
    "    y=\"violation_rate\",\n",
    "    hue=\"animal_id\",\n",
    "    palette=[\"gray\"],\n",
    "    ax=ax,\n",
    "    alpha=0.3,\n",
    "    legend=False\n",
    ")\n",
    "sns.pointplot(\n",
    "    data=plot_df,\n",
    "    x=\"days_relative_to_stage_8\",\n",
    "    y=\"violation_rate\",\n",
    "    color=c.V2_COLOR,\n",
    "    ax=ax,\n",
    "    errorbar=None,\n",
    "    linewidth=5,  # make the line thicker\n",
    ")\n",
    "\n",
    "\n",
    "ax.set(\n",
    "    ylabel=\"Violation Rate\",\n",
    "    xlabel=\"Days Relative to Penalty On\",\n",
    "    ylim=(-0.1, 1.1),\n",
    ")\n",
    "\n",
    "ax.set_title(\"V2 Penalty On Effect\", fontweight=\"bold\")\n",
    "\n",
    "fig.savefig(\"figures/V0_fig4e_v2_penalty_on.png\", dpi=300, bbox_inches=\"tight\")"
   ]
  },
  {
   "cell_type": "code",
   "execution_count": 241,
   "metadata": {},
   "outputs": [
    {
     "data": {
      "text/html": [
       "<div>\n",
       "<style scoped>\n",
       "    .dataframe tbody tr th:only-of-type {\n",
       "        vertical-align: middle;\n",
       "    }\n",
       "\n",
       "    .dataframe tbody tr th {\n",
       "        vertical-align: top;\n",
       "    }\n",
       "\n",
       "    .dataframe thead th {\n",
       "        text-align: right;\n",
       "    }\n",
       "</style>\n",
       "<table border=\"1\" class=\"dataframe\">\n",
       "  <thead>\n",
       "    <tr style=\"text-align: right;\">\n",
       "      <th></th>\n",
       "      <th>days_relative_to_stage_8</th>\n",
       "      <th>mean_violation_rate</th>\n",
       "      <th>std_violation_rate</th>\n",
       "    </tr>\n",
       "  </thead>\n",
       "  <tbody>\n",
       "    <tr>\n",
       "      <th>0</th>\n",
       "      <td>-1</td>\n",
       "      <td>0.474044</td>\n",
       "      <td>0.165135</td>\n",
       "    </tr>\n",
       "    <tr>\n",
       "      <th>1</th>\n",
       "      <td>0</td>\n",
       "      <td>0.162428</td>\n",
       "      <td>0.053464</td>\n",
       "    </tr>\n",
       "    <tr>\n",
       "      <th>2</th>\n",
       "      <td>1</td>\n",
       "      <td>0.183954</td>\n",
       "      <td>0.089001</td>\n",
       "    </tr>\n",
       "  </tbody>\n",
       "</table>\n",
       "</div>"
      ],
      "text/plain": [
       "   days_relative_to_stage_8  mean_violation_rate  std_violation_rate\n",
       "0                        -1             0.474044            0.165135\n",
       "1                         0             0.162428            0.053464\n",
       "2                         1             0.183954            0.089001"
      ]
     },
     "execution_count": 241,
     "metadata": {},
     "output_type": "execute_result"
    }
   ],
   "source": [
    "plot_df.groupby([\"days_relative_to_stage_8\"]).agg(mean_violation_rate=(\"violation_rate\", \"mean\"), std_violation_rate=(\"violation_rate\", \"std\")).reset_index()"
   ]
  },
  {
   "cell_type": "code",
   "execution_count": 242,
   "metadata": {},
   "outputs": [
    {
     "name": "stdout",
     "output_type": "stream",
     "text": [
      "days_relative_to_stage_8        -1         0         1\n",
      "animal_id                                             \n",
      "R041                      0.511509  0.191964  0.341837\n",
      "R043                      0.381657  0.158273  0.146739\n",
      "R045                      0.468560  0.206633  0.181572\n",
      "R047                      0.298667  0.093023  0.112957\n",
      "R049                      0.266402  0.153061  0.120968\n",
      "R051                      0.413479  0.100223  0.120635\n",
      "R053                      0.715655  0.257426  0.329897\n",
      "R055                      0.742802  0.181818  0.134752\n",
      "R057                      0.467669  0.119433  0.166227\n",
      "Friedman test statistic: 13.5556\n",
      "P-value: 0.0011\n",
      "Comparison between day -1 and day 0: Wilcoxon statistic = 0.0000, p-value = 0.0039 (adjusted α = 0.0167)\n",
      "Comparison between day -1 and day 1: Wilcoxon statistic = 0.0000, p-value = 0.0039 (adjusted α = 0.0167)\n",
      "Comparison between day 0 and day 1: Wilcoxon statistic = 17.0000, p-value = 0.5703 (adjusted α = 0.0167)\n"
     ]
    }
   ],
   "source": [
    "df_wide = plot_df.pivot(index='animal_id', columns='days_relative_to_stage_8', values='violation_rate')\n",
    "\n",
    "# Check the pivoted data (optional)\n",
    "print(df_wide)\n",
    "\n",
    "# Perform the Friedman test. Ensure you order the columns appropriately.\n",
    "stat, p_value = friedmanchisquare(df_wide[-1], df_wide[0], df_wide[1])\n",
    "print(f\"Friedman test statistic: {stat:.4f}\")\n",
    "print(f\"P-value: {p_value:.4f}\")\n",
    "\n",
    "# Define the days to compare and perform pairwise Wilcoxon tests\n",
    "days = [-1, 0, 1]\n",
    "comparisons = list(itertools.combinations(days, 2))\n",
    "alpha = 0.05\n",
    "alpha_adjusted = alpha / len(comparisons)  # Bonferroni correction\n",
    "\n",
    "for d1, d2 in comparisons:\n",
    "    stat, p = wilcoxon(df_wide[d1], df_wide[d2])\n",
    "    print(f\"Comparison between day {d1} and day {d2}: Wilcoxon statistic = {stat:.4f}, p-value = {p:.4f} (adjusted α = {alpha_adjusted:.4f})\")"
   ]
  }
 ],
 "metadata": {
  "kernelspec": {
   "display_name": "bl_dj_310",
   "language": "python",
   "name": "python3"
  },
  "language_info": {
   "codemirror_mode": {
    "name": "ipython",
    "version": 3
   },
   "file_extension": ".py",
   "mimetype": "text/x-python",
   "name": "python",
   "nbconvert_exporter": "python",
   "pygments_lexer": "ipython3",
   "version": "3.10.0"
  }
 },
 "nbformat": 4,
 "nbformat_minor": 2
}
