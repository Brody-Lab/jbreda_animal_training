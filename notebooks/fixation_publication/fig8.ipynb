{
 "cells": [
  {
   "cell_type": "markdown",
   "metadata": {},
   "source": [
    "# Figure 5- Performance Over Session\n"
   ]
  },
  {
   "cell_type": "code",
   "execution_count": 18,
   "metadata": {},
   "outputs": [
    {
     "name": "stdout",
     "output_type": "stream",
     "text": [
      "The autoreload extension is already loaded. To reload it, use:\n",
      "  %reload_ext autoreload\n"
     ]
    }
   ],
   "source": [
    "import utils as u\n",
    "import config as c\n",
    "import seaborn as sns\n",
    "import pandas as pd\n",
    "import numpy as np\n",
    "import matplotlib.pyplot as plt\n",
    "from scipy.stats import mannwhitneyu, friedmanchisquare, wilcoxon\n",
    "from typing import Callable, Union, Sequence, Tuple, Optional\n",
    "\n",
    "sns.set_context(\"talk\")\n",
    "%load_ext autoreload\n",
    "%autoreload 2"
   ]
  },
  {
   "cell_type": "markdown",
   "metadata": {},
   "source": [
    "# Data Load\n"
   ]
  },
  {
   "cell_type": "code",
   "execution_count": 19,
   "metadata": {},
   "outputs": [
    {
     "name": "stdout",
     "output_type": "stream",
     "text": [
      "Loading poke data from directory: /Users/jessbreda/Desktop/github/jbreda_animal_training/notebooks/fixation_publication\n"
     ]
    }
   ],
   "source": [
    "pdf = u.load_poke_df()\n",
    "pdf[\"was_violation\"] = pdf[\"was_valid\"] == 0\n",
    "g_pdf = pdf.query(\"stage in @c.GROWING_STAGES\").copy()\n",
    "pr_pdf = pdf.query(\"stage in @c.PROBE_STAGES\").copy()"
   ]
  },
  {
   "cell_type": "markdown",
   "metadata": {},
   "source": [
    "## 1. Functions\n"
   ]
  },
  {
   "cell_type": "markdown",
   "metadata": {},
   "source": [
    "## 1.1 Segmented Analysis\n"
   ]
  },
  {
   "cell_type": "code",
   "execution_count": 20,
   "metadata": {},
   "outputs": [],
   "source": [
    "\"\"\"Segmented Analysis\"\"\"\n",
    "GROUP_COLS: Tuple[str, ...] = (\n",
    "    \"sessid\",\n",
    "    \"animal_id\",\n",
    "    \"date\",\n",
    "    \"fix_experiment\",\n",
    ")\n",
    "# ------------------------------------------------------------------\n",
    "# 1.  Partition trials into \"first\" / \"last\" buckets\n",
    "# ------------------------------------------------------------------\n",
    "\n",
    "def segment_trials(df: pd.DataFrame, n_trials: int, min_trials: int) -> pd.DataFrame:\n",
    "    \"\"\"Tag the *first* and *last* ``n_trials`` in a session.\n",
    "\n",
    "    Parameters\n",
    "    ----------\n",
    "    df : pd.DataFrame\n",
    "        Trial‑level dataframe for **one** session.\n",
    "    n_trials : int\n",
    "        How many trials to take from each end of the session.\n",
    "    min_trials : int\n",
    "        What is the minimum number of trials in a session to be included\n",
    "\n",
    "    Returns\n",
    "    -------\n",
    "    pd.DataFrame\n",
    "        Same rows, with a new ``segment`` column (\"first\" / \"last\")\n",
    "        and only those rows kept.\n",
    "    \"\"\"\n",
    "    if n_trials <= 0:\n",
    "        raise ValueError(\"n_trials must be positive\")\n",
    "\n",
    "    df = df.sort_index().copy()\n",
    "    total = len(df)\n",
    "\n",
    "    if min_trials > total:\n",
    "        print(f\"Skipping sesssion with {total} trials; because less than minium {min_trials}\")\n",
    "        return pd.DataFrame()\n",
    "    elif 2 * n_trials > total:\n",
    "        print(f\"Skipping session with {total} trials; cannot take {n_trials} from each end.\")\n",
    "        return pd.DataFrame()\n",
    "    \n",
    "    idx = np.arange(total)\n",
    "    conds = [idx < n_trials, idx >= total - n_trials]\n",
    "    df[\"segment\"] = np.select(conds, [\"first\", \"last\"], default=pd.NA)\n",
    "\n",
    "    return df.dropna(subset=[\"segment\"])\n",
    "\n",
    "\n",
    "# ------------------------------------------------------------------\n",
    "# 2.  Generic “compute one metric per segment per session”\n",
    "# ------------------------------------------------------------------\n",
    "\n",
    "def compute_session_metric(\n",
    "    df: pd.DataFrame,\n",
    "    n_trials: int,\n",
    "    min_trials: int,\n",
    "    metric_col: str,\n",
    "    out_col: str,\n",
    "    *,\n",
    "    filter_query: Optional[str] = None,\n",
    "    agg_fn: Union[str, Callable] = \"mean\",\n",
    ") -> pd.DataFrame:\n",
    "    \"\"\"Aggregate ``metric_col`` for the *first/last* ``n_trials`` in every session.\n",
    "\n",
    "    All heavy lifting (filtering, segmentation, aggregation, re‑attaching\n",
    "    session keys) happens here; wrapper helpers only specify which column\n",
    "    to average and what to call the output.\n",
    "    \"\"\"\n",
    "\n",
    "    if filter_query:\n",
    "        df = df.query(filter_query).copy()\n",
    "\n",
    "    results: Sequence[pd.DataFrame] = []\n",
    "\n",
    "    for keys, g in df.groupby(list(GROUP_COLS)):\n",
    "        seg = segment_trials(g, n_trials, min_trials)\n",
    "        if seg.empty:\n",
    "            continue\n",
    "        agg = (\n",
    "            seg.groupby(\"segment\", observed=False)[metric_col]\n",
    "            .agg(agg_fn)\n",
    "            .reset_index()\n",
    "            .rename(columns={metric_col: out_col})\n",
    "        )\n",
    "        # How many trials went into each estimate?\n",
    "        agg[\"num_trials\"] = seg.groupby(\"segment\", observed=False).size().values\n",
    "\n",
    "        # Unpack group‑by keys back onto rows\n",
    "        for col, val in zip(GROUP_COLS, keys):\n",
    "            agg[col] = val\n",
    "\n",
    "        results.append(agg)\n",
    "\n",
    "    return pd.concat(results, ignore_index=True)\n",
    "\n",
    "\n",
    "# ------------------------------------------------------------------\n",
    "# 3.  Wrappers\n",
    "# ------------------------------------------------------------------\n",
    "\n",
    "def compute_violation_rates_over_session(\n",
    "    df: pd.DataFrame, n_trials: int, min_trials :int\n",
    ") -> pd.DataFrame:\n",
    "    \"\"\"Average ``was_violation`` in the first/last blocks of a session.\"\"\"\n",
    "\n",
    "    return compute_session_metric(\n",
    "        df,\n",
    "        n_trials,\n",
    "        min_trials,\n",
    "        metric_col=\"was_violation\",\n",
    "        out_col=\"violation_rate\",\n",
    "    )\n",
    "\n",
    "\n",
    "def compute_initiation_times_over_session(\n",
    "    df: pd.DataFrame, n_trials: int, min_trials : int, stage_type: str\n",
    ") -> pd.DataFrame:\n",
    "    \"\"\"Average initiation time (stage‑specific column) in the first/last blocks.\"\"\"\n",
    "\n",
    "    col_map = {\n",
    "        \"probe\": \"cpoke_iti_adjusted_summed\",\n",
    "        \"growth\": \"cpoke_iti_adjusted\",\n",
    "    }\n",
    "    if stage_type not in col_map:\n",
    "        raise ValueError(f\"Unknown stage_type '{stage_type}'\")\n",
    "\n",
    "    return compute_session_metric(\n",
    "        df,\n",
    "        n_trials,\n",
    "        min_trials,\n",
    "        metric_col=col_map[stage_type],\n",
    "        out_col=\"initiation_time\",\n",
    "        # filter_query=\"was_valid == False\",\n",
    "    )\n"
   ]
  },
  {
   "cell_type": "markdown",
   "metadata": {},
   "source": [
    "## 1.2 Plotting\n"
   ]
  },
  {
   "cell_type": "code",
   "execution_count": 21,
   "metadata": {},
   "outputs": [],
   "source": [
    "def plot_over_session(\n",
    "    df: pd.DataFrame,\n",
    "    y_col: str,\n",
    "    n_trials: int,\n",
    "    x_col: str = \"segment\",\n",
    "    hue: str = \"fix_experiment\",\n",
    "    palette=None,\n",
    "    hue_order=None,\n",
    "    **ax_kwargs\n",
    ") -> tuple[plt.Figure, plt.Axes]:\n",
    "    \"\"\"\n",
    "    Create a seaborn pointplot of y_col over session segments.\n",
    "\n",
    "    Parameters\n",
    "    ----------\n",
    "    df : pd.DataFrame\n",
    "        The dataframe containing your data.\n",
    "    y_col : str\n",
    "        Name of the column to plot on the y–axis.\n",
    "    n_trials : int\n",
    "        Number of trials in each segment (used for xtick labels).\n",
    "    x_col : str, default \"segment\"\n",
    "        Name of the column encoding session segments (0, 1, …).\n",
    "    hue : str, default \"fix_experiment\"\n",
    "        Column to use for color/hue grouping.\n",
    "    palette : dict or seaborn palette spec, optional\n",
    "    hue_order : list, optional\n",
    "    **ax_kwargs\n",
    "        Any additional keyword arguments passed to `ax.set()`\n",
    "        (e.g. xlabel, ylabel, ylim).\n",
    "\n",
    "    Returns\n",
    "    -------\n",
    "    fig, ax : matplotlib objects\n",
    "        The figure and axes containing the plot.\n",
    "    \"\"\"\n",
    "    fig, ax = plt.subplots(figsize=(5, 6))\n",
    "    sns.despine(ax=ax)\n",
    "    sns.pointplot(\n",
    "        data=df,\n",
    "        x=x_col,\n",
    "        y=y_col,\n",
    "        hue=hue,\n",
    "        palette=palette,\n",
    "        hue_order=hue_order,\n",
    "        errorbar=\"se\",\n",
    "        ax=ax\n",
    "    )\n",
    "\n",
    "    # apply any extra axis settings\n",
    "    ax.set(**ax_kwargs)\n",
    "\n",
    "    # custom xticks assuming segments are 0 and 1\n",
    "    ax.set_xticks([0, 1])\n",
    "    ax.set_xticklabels([f\"First {n_trials} Trials\", f\"Last {n_trials} Trials\"])\n",
    "\n",
    "    # legend styling\n",
    "    leg = ax.legend(title=None, frameon=False)\n",
    "\n",
    "    plt.tight_layout()\n",
    "\n",
    "    return fig, ax\n",
    "\n",
    "\n",
    "def compute_df_stats(\n",
    "    df: pd.DataFrame,\n",
    "    y_col: str,\n",
    "    groupby_cols: list[str] = [\"fix_experiment\", \"segment\"]\n",
    ") -> pd.DataFrame:\n",
    "    \"\"\"\n",
    "    Compute median, mean, std, and count for a given y-column\n",
    "    grouped by the specified columns, and print the result.\n",
    "\n",
    "    Parameters\n",
    "    ----------\n",
    "    df : pd.DataFrame\n",
    "    y_col : str\n",
    "        Column on which to compute statistics.\n",
    "    groupby_cols : list of str\n",
    "        Columns to group by before aggregation.\n",
    "\n",
    "    Returns\n",
    "    -------\n",
    "    stats_df : pd.DataFrame\n",
    "        The aggregated statistics.\n",
    "    \"\"\"\n",
    "    stats_df = (\n",
    "        df\n",
    "        .groupby(groupby_cols)[y_col]\n",
    "        .agg(median=\"median\", mean=\"mean\", std=\"std\", count=\"size\")\n",
    "        .reset_index()\n",
    "    )\n",
    "    print(stats_df.to_string(index=False))\n",
    "    return stats_df"
   ]
  },
  {
   "cell_type": "markdown",
   "metadata": {},
   "source": [
    "## 1.3 Statistical Analysis\n"
   ]
  },
  {
   "cell_type": "code",
   "execution_count": 22,
   "metadata": {},
   "outputs": [],
   "source": [
    "def compare_session_stats(\n",
    "    df: pd.DataFrame,\n",
    "    metric_col: str,\n",
    "    between_cohort_tests: bool = False,\n",
    "    alpha: float = 0.05,\n",
    "    condition_col: str = \"fix_experiment\",\n",
    "    segment_col: str = \"segment\",\n",
    "    id_col: str = \"sessid\",\n",
    "    first_label: str = \"first\",\n",
    "    last_label: str = \"last\"\n",
    ") -> pd.DataFrame:\n",
    "    \"\"\"\n",
    "    Run Wilcoxon signed‐rank tests across segments (within‐subject) for each condition,\n",
    "    and Mann‐Whitney U tests between conditions for each segment, with Holm correction.\n",
    "\n",
    "    Parameters\n",
    "    ----------\n",
    "    df\n",
    "        DataFrame containing your data.\n",
    "    metric_col\n",
    "        Name of the column with the measure you’re testing (e.g. \"violation_rate_pct\").\n",
    "    between_cohort_tests\n",
    "        Whether to run between‐cohort tests via Mann‐Whitney U tests.\n",
    "    alpha\n",
    "        Significance threshold (default 0.05).\n",
    "    condition_col\n",
    "        Column naming your between‐subject factor (e.g. \"fix_experiment\").\n",
    "    segment_col\n",
    "        Column naming your within‐subject factor (e.g. \"segment\").\n",
    "    id_col\n",
    "        Column with subject/session IDs for pairing.\n",
    "    first_label, last_label\n",
    "        The two levels of segment_col in the order you want to compare.\n",
    "\n",
    "    Returns\n",
    "    -------\n",
    "    results : pd.DataFrame\n",
    "        A tidy DataFrame with columns:\n",
    "          - test_type: \"within\" or \"between\"\n",
    "          - group: condition (for within) or segment (for between)\n",
    "          - comparison: e.g. \"first vs last\" or \"V1 vs V2\"\n",
    "          - test: \"wilcoxon\" or \"mannwhitneyu\"\n",
    "          - statistic, p_value, p_adj, significant (bool)\n",
    "    \"\"\"\n",
    "    results = []\n",
    "\n",
    "    # WITHIN‐SUBJECT (Wilcoxon signed‐rank)\n",
    "    for cond, sub in df.groupby(condition_col):\n",
    "        wide = sub.pivot(index=id_col, columns=segment_col, values=metric_col).dropna()\n",
    "        if {first_label, last_label}.issubset(wide.columns):\n",
    "            stat, p = wilcoxon(wide[first_label], wide[last_label])\n",
    "            results.append({\n",
    "                \"test_type\": \"within\",\n",
    "                \"group\": cond,\n",
    "                \"comparison\": f\"{first_label} vs {last_label}\",\n",
    "                \"test\": \"wilcoxon\",\n",
    "                \"statistic\": stat,\n",
    "                \"p_value\": p\n",
    "            })\n",
    "\n",
    "    # BETWEEN‐SUBJECT (Mann‐Whitney U)\n",
    "    if between_cohort_tests:\n",
    "        conds = df[condition_col].unique()\n",
    "        if len(conds) != 2:\n",
    "            raise ValueError(\"Between‐subject comparison requires exactly two conditions.\")\n",
    "        for seg in [first_label, last_label]:\n",
    "            a = df[(df[condition_col] == conds[0]) & (df[segment_col] == seg)][metric_col]\n",
    "            b = df[(df[condition_col] == conds[1]) & (df[segment_col] == seg)][metric_col]\n",
    "            if len(a) and len(b):\n",
    "                stat, p = mannwhitneyu(a, b, alternative=\"two-sided\")\n",
    "                results.append({\n",
    "                    \"test_type\": \"between\",\n",
    "                    \"group\": seg,\n",
    "                    \"comparison\": f\"{conds[0]} vs {conds[1]}\",\n",
    "                    \"test\": \"mannwhitneyu\",\n",
    "                    \"statistic\": stat,\n",
    "                    \"p_value\": p\n",
    "                })\n",
    "\n",
    "    # Apply Holm correction\n",
    "    p_values = [result['p_value'] for result in results]\n",
    "    n_tests = len(p_values)\n",
    "    sorted_indices = sorted(range(len(p_values)), key=lambda i: p_values[i])\n",
    "    sorted_p_values = sorted(p_values)\n",
    "    adjusted_p_values = [min(p * (n_tests - i), 1.0) for i, p in enumerate(sorted_p_values)]\n",
    "    for i, index in enumerate(sorted_indices):\n",
    "        results[index]['p_adj'] = adjusted_p_values[i]\n",
    "        results[index]['significant'] = adjusted_p_values[i] < alpha\n",
    "        if adjusted_p_values[i] < 0.001:\n",
    "            results[index]['marker'] = \"***\"\n",
    "        elif adjusted_p_values[i] < 0.01:\n",
    "            results[index]['marker'] = \"**\"\n",
    "        elif adjusted_p_values[i] < 0.05:\n",
    "            results[index]['marker'] = \"*\"\n",
    "        else:\n",
    "            results[index]['marker'] = \"ns\"\n",
    "\n",
    "    return pd.DataFrame(results)\n"
   ]
  },
  {
   "cell_type": "markdown",
   "metadata": {},
   "source": [
    "## 1.4 Parameters\n"
   ]
  },
  {
   "cell_type": "code",
   "execution_count": 23,
   "metadata": {},
   "outputs": [],
   "source": [
    "N_TRIALS = 50 # segment size\n",
    "MIN_TRIALS = 200 # minimum trials in a session\n",
    "ALPHA = 0.05 # significance threshold\n"
   ]
  },
  {
   "cell_type": "markdown",
   "metadata": {},
   "source": [
    "# Growing Stages\n"
   ]
  },
  {
   "cell_type": "markdown",
   "metadata": {},
   "source": [
    "## Violation Rates\n"
   ]
  },
  {
   "cell_type": "code",
   "execution_count": 24,
   "metadata": {},
   "outputs": [
    {
     "name": "stdout",
     "output_type": "stream",
     "text": [
      "Skipping sesssion with 91 trials; because less than minium 200\n",
      "Skipping sesssion with 111 trials; because less than minium 200\n",
      "Skipping sesssion with 51 trials; because less than minium 200\n",
      "Skipping sesssion with 183 trials; because less than minium 200\n",
      "Skipping sesssion with 11 trials; because less than minium 200\n",
      "Skipping sesssion with 5 trials; because less than minium 200\n",
      "Skipping sesssion with 1 trials; because less than minium 200\n",
      "Skipping sesssion with 5 trials; because less than minium 200\n",
      "Skipping sesssion with 24 trials; because less than minium 200\n",
      "Skipping sesssion with 4 trials; because less than minium 200\n",
      "Skipping sesssion with 2 trials; because less than minium 200\n",
      "Skipping sesssion with 17 trials; because less than minium 200\n",
      "Skipping sesssion with 7 trials; because less than minium 200\n",
      "Skipping sesssion with 142 trials; because less than minium 200\n",
      "Skipping sesssion with 17 trials; because less than minium 200\n",
      "Skipping sesssion with 21 trials; because less than minium 200\n",
      "Skipping sesssion with 19 trials; because less than minium 200\n",
      "Skipping sesssion with 143 trials; because less than minium 200\n",
      "Skipping sesssion with 144 trials; because less than minium 200\n",
      "Skipping sesssion with 172 trials; because less than minium 200\n",
      "Skipping sesssion with 189 trials; because less than minium 200\n",
      "Skipping sesssion with 86 trials; because less than minium 200\n",
      "Skipping sesssion with 199 trials; because less than minium 200\n",
      "Skipping sesssion with 186 trials; because less than minium 200\n",
      "Skipping sesssion with 149 trials; because less than minium 200\n",
      "Skipping sesssion with 199 trials; because less than minium 200\n",
      "Skipping sesssion with 161 trials; because less than minium 200\n",
      "Skipping sesssion with 36 trials; because less than minium 200\n",
      "Skipping sesssion with 199 trials; because less than minium 200\n"
     ]
    }
   ],
   "source": [
    "g_viol_over_session = compute_violation_rates_over_session(g_pdf, n_trials=N_TRIALS, min_trials = MIN_TRIALS)\n",
    "g_viol_over_session[\"violation_rate_pct\"] = g_viol_over_session[\"violation_rate\"] * 100\n"
   ]
  },
  {
   "cell_type": "code",
   "execution_count": 25,
   "metadata": {},
   "outputs": [
    {
     "name": "stdout",
     "output_type": "stream",
     "text": [
      "fix_experiment segment  median      mean       std  count\n",
      "            V1   first    20.0 22.546296 11.716722    216\n",
      "            V1    last    24.0 25.601852 14.593047    216\n",
      "            V2   first    68.0 66.098039 14.176755    102\n",
      "            V2    last    34.0 35.568627 13.668284    102\n"
     ]
    },
    {
     "data": {
      "image/png": "[encoded data removed]",
      "text/plain": [
       "<Figure size 500x600 with 1 Axes>"
      ]
     },
     "metadata": {},
     "output_type": "display_data"
    }
   ],
   "source": [
    "# your original data\n",
    "df = g_viol_over_session\n",
    "\n",
    "# 1. Plot\n",
    "fig, ax = plot_over_session(\n",
    "    df,\n",
    "    y_col=\"violation_rate_pct\",\n",
    "    n_trials=N_TRIALS,\n",
    "    palette=c.EXP_PALETTE,\n",
    "    hue_order=c.HUE_ORDER_EXP,\n",
    "    xlabel=\"Segment\",\n",
    "    ylabel=\"Average Violation Rate (%)\",\n",
    "    ylim=(0, 75),\n",
    ")\n",
    "\n",
    "ax.legend(loc=\"lower right\", frameon=False)\n",
    "\n",
    "# 2. Stats\n",
    "stats = compute_df_stats(df, y_col=\"violation_rate_pct\")\n",
    "\n",
    "c.save_fig(fig, \"fig5_growth_viol_rates_over_session\")"
   ]
  },
  {
   "cell_type": "code",
   "execution_count": 26,
   "metadata": {},
   "outputs": [
    {
     "data": {
      "text/html": [
       "<div>\n",
       "<style scoped>\n",
       "    .dataframe tbody tr th:only-of-type {\n",
       "        vertical-align: middle;\n",
       "    }\n",
       "\n",
       "    .dataframe tbody tr th {\n",
       "        vertical-align: top;\n",
       "    }\n",
       "\n",
       "    .dataframe thead th {\n",
       "        text-align: right;\n",
       "    }\n",
       "</style>\n",
       "<table border=\"1\" class=\"dataframe\">\n",
       "  <thead>\n",
       "    <tr style=\"text-align: right;\">\n",
       "      <th></th>\n",
       "      <th>test_type</th>\n",
       "      <th>group</th>\n",
       "      <th>comparison</th>\n",
       "      <th>test</th>\n",
       "      <th>statistic</th>\n",
       "      <th>p_value</th>\n",
       "      <th>p_adj</th>\n",
       "      <th>significant</th>\n",
       "      <th>marker</th>\n",
       "    </tr>\n",
       "  </thead>\n",
       "  <tbody>\n",
       "    <tr>\n",
       "      <th>0</th>\n",
       "      <td>within</td>\n",
       "      <td>V1</td>\n",
       "      <td>first vs last</td>\n",
       "      <td>wilcoxon</td>\n",
       "      <td>7803.0</td>\n",
       "      <td>3.224722e-03</td>\n",
       "      <td>3.224722e-03</td>\n",
       "      <td>True</td>\n",
       "      <td>**</td>\n",
       "    </tr>\n",
       "    <tr>\n",
       "      <th>1</th>\n",
       "      <td>within</td>\n",
       "      <td>V2</td>\n",
       "      <td>first vs last</td>\n",
       "      <td>wilcoxon</td>\n",
       "      <td>8.0</td>\n",
       "      <td>3.336665e-18</td>\n",
       "      <td>6.673330e-18</td>\n",
       "      <td>True</td>\n",
       "      <td>***</td>\n",
       "    </tr>\n",
       "  </tbody>\n",
       "</table>\n",
       "</div>"
      ],
      "text/plain": [
       "  test_type group     comparison      test  statistic       p_value  \\\n",
       "0    within    V1  first vs last  wilcoxon     7803.0  3.224722e-03   \n",
       "1    within    V2  first vs last  wilcoxon        8.0  3.336665e-18   \n",
       "\n",
       "          p_adj  significant marker  \n",
       "0  3.224722e-03         True     **  \n",
       "1  6.673330e-18         True    ***  "
      ]
     },
     "execution_count": 26,
     "metadata": {},
     "output_type": "execute_result"
    }
   ],
   "source": [
    "compare_session_stats(g_viol_over_session, \"violation_rate_pct\")"
   ]
  },
  {
   "cell_type": "markdown",
   "metadata": {},
   "source": [
    "## Initiation Times\n"
   ]
  },
  {
   "cell_type": "code",
   "execution_count": 27,
   "metadata": {},
   "outputs": [
    {
     "name": "stdout",
     "output_type": "stream",
     "text": [
      "Skipping sesssion with 91 trials; because less than minium 200\n",
      "Skipping sesssion with 111 trials; because less than minium 200\n",
      "Skipping sesssion with 51 trials; because less than minium 200\n",
      "Skipping sesssion with 183 trials; because less than minium 200\n",
      "Skipping sesssion with 11 trials; because less than minium 200\n",
      "Skipping sesssion with 5 trials; because less than minium 200\n",
      "Skipping sesssion with 1 trials; because less than minium 200\n",
      "Skipping sesssion with 5 trials; because less than minium 200\n",
      "Skipping sesssion with 24 trials; because less than minium 200\n",
      "Skipping sesssion with 4 trials; because less than minium 200\n",
      "Skipping sesssion with 2 trials; because less than minium 200\n",
      "Skipping sesssion with 17 trials; because less than minium 200\n",
      "Skipping sesssion with 7 trials; because less than minium 200\n",
      "Skipping sesssion with 142 trials; because less than minium 200\n",
      "Skipping sesssion with 17 trials; because less than minium 200\n",
      "Skipping sesssion with 21 trials; because less than minium 200\n",
      "Skipping sesssion with 19 trials; because less than minium 200\n",
      "Skipping sesssion with 143 trials; because less than minium 200\n",
      "Skipping sesssion with 144 trials; because less than minium 200\n",
      "Skipping sesssion with 172 trials; because less than minium 200\n",
      "Skipping sesssion with 189 trials; because less than minium 200\n",
      "Skipping sesssion with 86 trials; because less than minium 200\n",
      "Skipping sesssion with 199 trials; because less than minium 200\n",
      "Skipping sesssion with 186 trials; because less than minium 200\n",
      "Skipping sesssion with 149 trials; because less than minium 200\n",
      "Skipping sesssion with 199 trials; because less than minium 200\n",
      "Skipping sesssion with 161 trials; because less than minium 200\n",
      "Skipping sesssion with 36 trials; because less than minium 200\n",
      "Skipping sesssion with 199 trials; because less than minium 200\n"
     ]
    }
   ],
   "source": [
    "g_init_over_session = compute_initiation_times_over_session(g_pdf, n_trials=N_TRIALS, min_trials = MIN_TRIALS, stage_type=\"growth\")"
   ]
  },
  {
   "cell_type": "code",
   "execution_count": 29,
   "metadata": {},
   "outputs": [
    {
     "name": "stdout",
     "output_type": "stream",
     "text": [
      "fix_experiment segment    median      mean       std  count\n",
      "            V1   first 10.492513 11.352358  4.084663    216\n",
      "            V1    last 20.263981 23.164398 12.198129    216\n",
      "            V2   first 10.919910 14.588660 13.755705    102\n",
      "            V2    last 14.237856 15.196178  7.388539    102\n"
     ]
    },
    {
     "data": {
      "image/png": "[encoded data removed]",
      "text/plain": [
       "<Figure size 500x600 with 1 Axes>"
      ]
     },
     "metadata": {},
     "output_type": "display_data"
    }
   ],
   "source": [
    "# your original data\n",
    "df = g_init_over_session\n",
    "\n",
    "# 1. Plot\n",
    "fig, ax = plot_over_session(\n",
    "    df,\n",
    "    y_col=\"initiation_time\",\n",
    "    n_trials=N_TRIALS,\n",
    "    palette=c.EXP_PALETTE,\n",
    "    hue_order=c.HUE_ORDER_EXP,\n",
    "    xlabel=\"Segment\",\n",
    "    ylabel=\"Average Initiation Time (s)\",\n",
    "    ylim=(0, 35),\n",
    ")\n",
    "ax.legend().remove()\n",
    "\n",
    "# 2. Stats\n",
    "stats = compute_df_stats(df, y_col=\"initiation_time\")\n",
    "\n",
    "c.save_fig(fig, \"fig5_growth_init_times_over_session\")"
   ]
  },
  {
   "cell_type": "code",
   "execution_count": 16,
   "metadata": {},
   "outputs": [
    {
     "data": {
      "text/html": [
       "<div>\n",
       "<style scoped>\n",
       "    .dataframe tbody tr th:only-of-type {\n",
       "        vertical-align: middle;\n",
       "    }\n",
       "\n",
       "    .dataframe tbody tr th {\n",
       "        vertical-align: top;\n",
       "    }\n",
       "\n",
       "    .dataframe thead th {\n",
       "        text-align: right;\n",
       "    }\n",
       "</style>\n",
       "<table border=\"1\" class=\"dataframe\">\n",
       "  <thead>\n",
       "    <tr style=\"text-align: right;\">\n",
       "      <th></th>\n",
       "      <th>test_type</th>\n",
       "      <th>group</th>\n",
       "      <th>comparison</th>\n",
       "      <th>test</th>\n",
       "      <th>statistic</th>\n",
       "      <th>p_value</th>\n",
       "      <th>p_adj</th>\n",
       "      <th>significant</th>\n",
       "      <th>marker</th>\n",
       "    </tr>\n",
       "  </thead>\n",
       "  <tbody>\n",
       "    <tr>\n",
       "      <th>0</th>\n",
       "      <td>within</td>\n",
       "      <td>V1</td>\n",
       "      <td>first vs last</td>\n",
       "      <td>wilcoxon</td>\n",
       "      <td>9.0</td>\n",
       "      <td>0.016113</td>\n",
       "      <td>0.032227</td>\n",
       "      <td>True</td>\n",
       "      <td>*</td>\n",
       "    </tr>\n",
       "    <tr>\n",
       "      <th>1</th>\n",
       "      <td>within</td>\n",
       "      <td>V2</td>\n",
       "      <td>first vs last</td>\n",
       "      <td>wilcoxon</td>\n",
       "      <td>494.0</td>\n",
       "      <td>0.113167</td>\n",
       "      <td>0.113167</td>\n",
       "      <td>False</td>\n",
       "      <td>ns</td>\n",
       "    </tr>\n",
       "  </tbody>\n",
       "</table>\n",
       "</div>"
      ],
      "text/plain": [
       "  test_type group     comparison      test  statistic   p_value     p_adj  \\\n",
       "0    within    V1  first vs last  wilcoxon        9.0  0.016113  0.032227   \n",
       "1    within    V2  first vs last  wilcoxon      494.0  0.113167  0.113167   \n",
       "\n",
       "   significant marker  \n",
       "0         True      *  \n",
       "1        False     ns  "
      ]
     },
     "execution_count": 16,
     "metadata": {},
     "output_type": "execute_result"
    }
   ],
   "source": [
    "compare_session_stats(g_init_over_session, \"initiation_time\")"
   ]
  },
  {
   "cell_type": "markdown",
   "metadata": {},
   "source": [
    "# Probe Stages\n",
    "\n",
    "## Violation Rates\n"
   ]
  },
  {
   "cell_type": "code",
   "execution_count": 78,
   "metadata": {},
   "outputs": [
    {
     "name": "stdout",
     "output_type": "stream",
     "text": [
      "Skipping sesssion with 196 trials; because less than minium 200\n",
      "Skipping sesssion with 149 trials; because less than minium 200\n",
      "Skipping sesssion with 197 trials; because less than minium 200\n",
      "Skipping sesssion with 161 trials; because less than minium 200\n",
      "Skipping sesssion with 146 trials; because less than minium 200\n",
      "Skipping sesssion with 194 trials; because less than minium 200\n",
      "Skipping sesssion with 165 trials; because less than minium 200\n",
      "Skipping sesssion with 70 trials; because less than minium 200\n",
      "Skipping sesssion with 101 trials; because less than minium 200\n",
      "Skipping sesssion with 182 trials; because less than minium 200\n",
      "Skipping sesssion with 150 trials; because less than minium 200\n",
      "Skipping sesssion with 189 trials; because less than minium 200\n",
      "Skipping sesssion with 195 trials; because less than minium 200\n",
      "Skipping sesssion with 166 trials; because less than minium 200\n"
     ]
    }
   ],
   "source": [
    "pr_viol_over_session = compute_violation_rates_over_session(pr_pdf, n_trials=N_TRIALS, min_trials = MIN_TRIALS)\n",
    "pr_viol_over_session[\"violation_rate_pct\"] = pr_viol_over_session[\"violation_rate\"] * 100\n"
   ]
  },
  {
   "cell_type": "code",
   "execution_count": 80,
   "metadata": {},
   "outputs": [
    {
     "name": "stdout",
     "output_type": "stream",
     "text": [
      "fix_experiment segment  median      mean       std  count\n",
      "            V1   first    24.0 25.164179 12.702418     67\n",
      "            V1    last    10.0 12.626866  7.840910     67\n",
      "            V2   first    16.0 18.197183  9.526834     71\n",
      "            V2    last    12.0 12.845070  8.735229     71\n"
     ]
    },
    {
     "data": {
      "image/png": "[encoded data removed]",
      "text/plain": [
       "<Figure size 500x600 with 1 Axes>"
      ]
     },
     "metadata": {},
     "output_type": "display_data"
    }
   ],
   "source": [
    "# your original data\n",
    "df = pr_viol_over_session\n",
    "\n",
    "# 1. Plot\n",
    "fig, ax = plot_over_session(\n",
    "    df,\n",
    "    y_col=\"violation_rate_pct\",\n",
    "    n_trials=N_TRIALS,\n",
    "    palette=c.EXP_PALETTE,\n",
    "    hue_order=c.HUE_ORDER_EXP,\n",
    "    xlabel=\"Segment\",\n",
    "    ylabel=\"Average Violation Rate (%)\",\n",
    "    ylim=(0, 75),\n",
    ")\n",
    "\n",
    "ax.legend().remove()\n",
    "# 2. Stats\n",
    "stats = compute_df_stats(df, y_col=\"violation_rate_pct\")\n",
    "\n",
    "c.save_fig(fig, \"fig5_probe_viol_rates_over_session\")"
   ]
  },
  {
   "cell_type": "code",
   "execution_count": 81,
   "metadata": {},
   "outputs": [
    {
     "data": {
      "text/html": [
       "<div>\n",
       "<style scoped>\n",
       "    .dataframe tbody tr th:only-of-type {\n",
       "        vertical-align: middle;\n",
       "    }\n",
       "\n",
       "    .dataframe tbody tr th {\n",
       "        vertical-align: top;\n",
       "    }\n",
       "\n",
       "    .dataframe thead th {\n",
       "        text-align: right;\n",
       "    }\n",
       "</style>\n",
       "<table border=\"1\" class=\"dataframe\">\n",
       "  <thead>\n",
       "    <tr style=\"text-align: right;\">\n",
       "      <th></th>\n",
       "      <th>test_type</th>\n",
       "      <th>group</th>\n",
       "      <th>comparison</th>\n",
       "      <th>test</th>\n",
       "      <th>statistic</th>\n",
       "      <th>p_value</th>\n",
       "      <th>p_adj</th>\n",
       "      <th>significant</th>\n",
       "      <th>marker</th>\n",
       "    </tr>\n",
       "  </thead>\n",
       "  <tbody>\n",
       "    <tr>\n",
       "      <th>0</th>\n",
       "      <td>within</td>\n",
       "      <td>V1</td>\n",
       "      <td>first vs last</td>\n",
       "      <td>wilcoxon</td>\n",
       "      <td>104.5</td>\n",
       "      <td>2.454961e-10</td>\n",
       "      <td>4.909921e-10</td>\n",
       "      <td>True</td>\n",
       "      <td>***</td>\n",
       "    </tr>\n",
       "    <tr>\n",
       "      <th>1</th>\n",
       "      <td>within</td>\n",
       "      <td>V2</td>\n",
       "      <td>first vs last</td>\n",
       "      <td>wilcoxon</td>\n",
       "      <td>508.0</td>\n",
       "      <td>2.820480e-05</td>\n",
       "      <td>2.820480e-05</td>\n",
       "      <td>True</td>\n",
       "      <td>***</td>\n",
       "    </tr>\n",
       "  </tbody>\n",
       "</table>\n",
       "</div>"
      ],
      "text/plain": [
       "  test_type group     comparison      test  statistic       p_value  \\\n",
       "0    within    V1  first vs last  wilcoxon      104.5  2.454961e-10   \n",
       "1    within    V2  first vs last  wilcoxon      508.0  2.820480e-05   \n",
       "\n",
       "          p_adj  significant marker  \n",
       "0  4.909921e-10         True    ***  \n",
       "1  2.820480e-05         True    ***  "
      ]
     },
     "execution_count": 81,
     "metadata": {},
     "output_type": "execute_result"
    }
   ],
   "source": [
    "compare_session_stats(pr_viol_over_session, \"violation_rate_pct\")"
   ]
  },
  {
   "cell_type": "markdown",
   "metadata": {},
   "source": [
    "## Initiation Times\n"
   ]
  },
  {
   "cell_type": "code",
   "execution_count": 82,
   "metadata": {},
   "outputs": [
    {
     "name": "stdout",
     "output_type": "stream",
     "text": [
      "Skipping sesssion with 196 trials; because less than minium 200\n",
      "Skipping sesssion with 149 trials; because less than minium 200\n",
      "Skipping sesssion with 197 trials; because less than minium 200\n",
      "Skipping sesssion with 161 trials; because less than minium 200\n",
      "Skipping sesssion with 146 trials; because less than minium 200\n",
      "Skipping sesssion with 194 trials; because less than minium 200\n",
      "Skipping sesssion with 165 trials; because less than minium 200\n",
      "Skipping sesssion with 70 trials; because less than minium 200\n",
      "Skipping sesssion with 101 trials; because less than minium 200\n",
      "Skipping sesssion with 182 trials; because less than minium 200\n",
      "Skipping sesssion with 150 trials; because less than minium 200\n",
      "Skipping sesssion with 189 trials; because less than minium 200\n",
      "Skipping sesssion with 195 trials; because less than minium 200\n",
      "Skipping sesssion with 166 trials; because less than minium 200\n"
     ]
    }
   ],
   "source": [
    "pr_init_over_session = compute_initiation_times_over_session(pr_pdf, n_trials=N_TRIALS, min_trials = MIN_TRIALS, stage_type=\"probe\")"
   ]
  },
  {
   "cell_type": "code",
   "execution_count": 83,
   "metadata": {},
   "outputs": [
    {
     "name": "stdout",
     "output_type": "stream",
     "text": [
      "fix_experiment segment    median      mean       std  count\n",
      "            V1   first 14.083252 15.454105  8.793538     67\n",
      "            V1    last 23.191829 26.492391 12.481793     67\n",
      "            V2   first 11.650753 13.527156  6.416959     71\n",
      "            V2    last 19.464179 21.129489  8.419422     71\n"
     ]
    },
    {
     "data": {
      "image/png": "[encoded data removed]",
      "text/plain": [
       "<Figure size 500x600 with 1 Axes>"
      ]
     },
     "metadata": {},
     "output_type": "display_data"
    }
   ],
   "source": [
    "# your original data\n",
    "df = pr_init_over_session\n",
    "\n",
    "# 1. Plot\n",
    "fig, ax = plot_over_session(\n",
    "    df,\n",
    "    y_col=\"initiation_time\",\n",
    "    n_trials=N_TRIALS,\n",
    "    palette=c.EXP_PALETTE,\n",
    "    hue_order=c.HUE_ORDER_EXP,\n",
    "    xlabel=\"Segment\",\n",
    "    ylabel=\"Average Initiation Time (s)\",\n",
    "    ylim=(0, 35),\n",
    ")\n",
    "ax.legend().remove()\n",
    "\n",
    "# 2. Stats\n",
    "stats = compute_df_stats(df, y_col=\"initiation_time\")\n",
    "\n",
    "c.save_fig(fig, \"fig5_probe_init_times_over_session\")"
   ]
  },
  {
   "cell_type": "code",
   "execution_count": 85,
   "metadata": {},
   "outputs": [
    {
     "data": {
      "text/html": [
       "<div>\n",
       "<style scoped>\n",
       "    .dataframe tbody tr th:only-of-type {\n",
       "        vertical-align: middle;\n",
       "    }\n",
       "\n",
       "    .dataframe tbody tr th {\n",
       "        vertical-align: top;\n",
       "    }\n",
       "\n",
       "    .dataframe thead th {\n",
       "        text-align: right;\n",
       "    }\n",
       "</style>\n",
       "<table border=\"1\" class=\"dataframe\">\n",
       "  <thead>\n",
       "    <tr style=\"text-align: right;\">\n",
       "      <th></th>\n",
       "      <th>test_type</th>\n",
       "      <th>group</th>\n",
       "      <th>comparison</th>\n",
       "      <th>test</th>\n",
       "      <th>statistic</th>\n",
       "      <th>p_value</th>\n",
       "      <th>p_adj</th>\n",
       "      <th>significant</th>\n",
       "      <th>marker</th>\n",
       "    </tr>\n",
       "  </thead>\n",
       "  <tbody>\n",
       "    <tr>\n",
       "      <th>0</th>\n",
       "      <td>within</td>\n",
       "      <td>V1</td>\n",
       "      <td>first vs last</td>\n",
       "      <td>wilcoxon</td>\n",
       "      <td>190.0</td>\n",
       "      <td>3.065217e-09</td>\n",
       "      <td>6.130435e-09</td>\n",
       "      <td>True</td>\n",
       "      <td>***</td>\n",
       "    </tr>\n",
       "    <tr>\n",
       "      <th>1</th>\n",
       "      <td>within</td>\n",
       "      <td>V2</td>\n",
       "      <td>first vs last</td>\n",
       "      <td>wilcoxon</td>\n",
       "      <td>338.0</td>\n",
       "      <td>7.202466e-08</td>\n",
       "      <td>7.202466e-08</td>\n",
       "      <td>True</td>\n",
       "      <td>***</td>\n",
       "    </tr>\n",
       "  </tbody>\n",
       "</table>\n",
       "</div>"
      ],
      "text/plain": [
       "  test_type group     comparison      test  statistic       p_value  \\\n",
       "0    within    V1  first vs last  wilcoxon      190.0  3.065217e-09   \n",
       "1    within    V2  first vs last  wilcoxon      338.0  7.202466e-08   \n",
       "\n",
       "          p_adj  significant marker  \n",
       "0  6.130435e-09         True    ***  \n",
       "1  7.202466e-08         True    ***  "
      ]
     },
     "execution_count": 85,
     "metadata": {},
     "output_type": "execute_result"
    }
   ],
   "source": [
    "compare_session_stats(pr_init_over_session, \"initiation_time\")"
   ]
  }
 ],
 "metadata": {
  "kernelspec": {
   "display_name": "behav_viz",
   "language": "python",
   "name": "python3"
  },
  "language_info": {
   "codemirror_mode": {
    "name": "ipython",
    "version": 3
   },
   "file_extension": ".py",
   "mimetype": "text/x-python",
   "name": "python",
   "nbconvert_exporter": "python",
   "pygments_lexer": "ipython3",
   "version": "3.10.0"
  }
 },
 "nbformat": 4,
 "nbformat_minor": 2
}
