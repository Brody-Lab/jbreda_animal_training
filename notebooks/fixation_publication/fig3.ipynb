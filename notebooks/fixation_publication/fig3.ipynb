{
 "cells": [
  {
   "cell_type": "markdown",
   "metadata": {},
   "source": [
    "# Figure 3- V2 Do Not Sacrifice Performance for Speed\n"
   ]
  },
  {
   "cell_type": "markdown",
   "metadata": {},
   "source": [
    "# Libraries\n"
   ]
  },
  {
   "cell_type": "code",
   "execution_count": 4,
   "metadata": {},
   "outputs": [
    {
     "name": "stdout",
     "output_type": "stream",
     "text": [
      "The autoreload extension is already loaded. To reload it, use:\n",
      "  %reload_ext autoreload\n"
     ]
    }
   ],
   "source": [
    "import utils as u\n",
    "import config as c\n",
    "import seaborn as sns\n",
    "import pandas as pd\n",
    "import numpy as np\n",
    "import matplotlib.pyplot as plt\n",
    "from scipy.stats import shapiro, ttest_ind, mannwhitneyu, friedmanchisquare, wilcoxon, ks_2samp\n",
    "import statsmodels.stats.multitest as smm\n",
    "from itertools import combinations\n",
    "import statsmodels.formula.api as smf\n",
    "from statsmodels.stats.multitest import multipletests\n",
    "import itertools\n",
    "\n",
    "sns.set_context(\"talk\")\n",
    "%load_ext autoreload\n",
    "%autoreload 2"
   ]
  },
  {
   "cell_type": "markdown",
   "metadata": {},
   "source": [
    "# Data Load\n"
   ]
  },
  {
   "cell_type": "code",
   "execution_count": 5,
   "metadata": {},
   "outputs": [
    {
     "name": "stdout",
     "output_type": "stream",
     "text": [
      "Loading days data from directory: /Users/jessbreda/Desktop/github/jbreda_animal_training/notebooks/fixation_publication\n"
     ]
    }
   ],
   "source": [
    "tdf = u.load_trials_df()\n",
    "tdf = u.compute_days_relative_to_stage(tdf, 5)\n",
    "tdf = u.compute_days_relative_to_stage(tdf, 10)"
   ]
  },
  {
   "cell_type": "code",
   "execution_count": 6,
   "metadata": {},
   "outputs": [
    {
     "data": {
      "text/html": [
       "<div>\n",
       "<style scoped>\n",
       "    .dataframe tbody tr th:only-of-type {\n",
       "        vertical-align: middle;\n",
       "    }\n",
       "\n",
       "    .dataframe tbody tr th {\n",
       "        vertical-align: top;\n",
       "    }\n",
       "\n",
       "    .dataframe thead th {\n",
       "        text-align: right;\n",
       "    }\n",
       "</style>\n",
       "<table border=\"1\" class=\"dataframe\">\n",
       "  <thead>\n",
       "    <tr style=\"text-align: right;\">\n",
       "      <th></th>\n",
       "      <th>date</th>\n",
       "      <th>fix_experiment</th>\n",
       "      <th>animal_id</th>\n",
       "      <th>stage</th>\n",
       "      <th>days_relative_to_stage_10</th>\n",
       "      <th>violation_rate</th>\n",
       "    </tr>\n",
       "  </thead>\n",
       "  <tbody>\n",
       "    <tr>\n",
       "      <th>0</th>\n",
       "      <td>2024-08-07</td>\n",
       "      <td>V2</td>\n",
       "      <td>R043</td>\n",
       "      <td>9.0</td>\n",
       "      <td>-5.0</td>\n",
       "      <td>14.673913</td>\n",
       "    </tr>\n",
       "    <tr>\n",
       "      <th>1</th>\n",
       "      <td>2024-08-08</td>\n",
       "      <td>V2</td>\n",
       "      <td>R043</td>\n",
       "      <td>9.0</td>\n",
       "      <td>-4.0</td>\n",
       "      <td>10.501193</td>\n",
       "    </tr>\n",
       "    <tr>\n",
       "      <th>2</th>\n",
       "      <td>2024-08-09</td>\n",
       "      <td>V2</td>\n",
       "      <td>R043</td>\n",
       "      <td>9.0</td>\n",
       "      <td>-3.0</td>\n",
       "      <td>8.184143</td>\n",
       "    </tr>\n",
       "    <tr>\n",
       "      <th>3</th>\n",
       "      <td>2024-08-10</td>\n",
       "      <td>V2</td>\n",
       "      <td>R043</td>\n",
       "      <td>9.0</td>\n",
       "      <td>-2.0</td>\n",
       "      <td>4.514673</td>\n",
       "    </tr>\n",
       "    <tr>\n",
       "      <th>4</th>\n",
       "      <td>2024-08-11</td>\n",
       "      <td>V1</td>\n",
       "      <td>R042</td>\n",
       "      <td>9.0</td>\n",
       "      <td>-5.0</td>\n",
       "      <td>19.444444</td>\n",
       "    </tr>\n",
       "  </tbody>\n",
       "</table>\n",
       "</div>"
      ],
      "text/plain": [
       "         date fix_experiment animal_id  stage  days_relative_to_stage_10  \\\n",
       "0  2024-08-07             V2      R043    9.0                       -5.0   \n",
       "1  2024-08-08             V2      R043    9.0                       -4.0   \n",
       "2  2024-08-09             V2      R043    9.0                       -3.0   \n",
       "3  2024-08-10             V2      R043    9.0                       -2.0   \n",
       "4  2024-08-11             V1      R042    9.0                       -5.0   \n",
       "\n",
       "   violation_rate  \n",
       "0       14.673913  \n",
       "1       10.501193  \n",
       "2        8.184143  \n",
       "3        4.514673  \n",
       "4       19.444444  "
      ]
     },
     "execution_count": 6,
     "metadata": {},
     "output_type": "execute_result"
    }
   ],
   "source": [
    "probe_violation_df = tdf.query(\"stage in @c.PROBE_STAGES\").groupby([\"date\", \"fix_experiment\", \"animal_id\", \"stage\", \"days_relative_to_stage_10\"]).violations.mean().reset_index()\n",
    "probe_violation_df.rename(columns={\"violations\": \"violation_rate\"}, inplace=True)\n",
    "\n",
    "probe_violation_df[\"violation_rate\"] = probe_violation_df[\"violation_rate\"] * 100\n",
    "\n",
    "probe_violation_df.head()\n"
   ]
  },
  {
   "cell_type": "markdown",
   "metadata": {},
   "source": [
    "# A\n"
   ]
  },
  {
   "cell_type": "code",
   "execution_count": 7,
   "metadata": {},
   "outputs": [
    {
     "data": {
      "text/html": [
       "<div>\n",
       "<style scoped>\n",
       "    .dataframe tbody tr th:only-of-type {\n",
       "        vertical-align: middle;\n",
       "    }\n",
       "\n",
       "    .dataframe tbody tr th {\n",
       "        vertical-align: top;\n",
       "    }\n",
       "\n",
       "    .dataframe thead th {\n",
       "        text-align: right;\n",
       "    }\n",
       "</style>\n",
       "<table border=\"1\" class=\"dataframe\">\n",
       "  <thead>\n",
       "    <tr style=\"text-align: right;\">\n",
       "      <th></th>\n",
       "      <th>fix_experiment</th>\n",
       "      <th>stage</th>\n",
       "      <th>median</th>\n",
       "      <th>mean</th>\n",
       "      <th>std</th>\n",
       "      <th>size</th>\n",
       "    </tr>\n",
       "  </thead>\n",
       "  <tbody>\n",
       "    <tr>\n",
       "      <th>0</th>\n",
       "      <td>V1</td>\n",
       "      <td>9.0</td>\n",
       "      <td>16.231884</td>\n",
       "      <td>15.576289</td>\n",
       "      <td>5.328778</td>\n",
       "      <td>39</td>\n",
       "    </tr>\n",
       "    <tr>\n",
       "      <th>1</th>\n",
       "      <td>V1</td>\n",
       "      <td>10.0</td>\n",
       "      <td>7.904282</td>\n",
       "      <td>10.114205</td>\n",
       "      <td>5.536347</td>\n",
       "      <td>40</td>\n",
       "    </tr>\n",
       "    <tr>\n",
       "      <th>2</th>\n",
       "      <td>V2</td>\n",
       "      <td>9.0</td>\n",
       "      <td>12.449063</td>\n",
       "      <td>15.600095</td>\n",
       "      <td>8.282522</td>\n",
       "      <td>44</td>\n",
       "    </tr>\n",
       "    <tr>\n",
       "      <th>3</th>\n",
       "      <td>V2</td>\n",
       "      <td>10.0</td>\n",
       "      <td>9.294872</td>\n",
       "      <td>12.186297</td>\n",
       "      <td>7.730365</td>\n",
       "      <td>45</td>\n",
       "    </tr>\n",
       "  </tbody>\n",
       "</table>\n",
       "</div>"
      ],
      "text/plain": [
       "  fix_experiment  stage     median       mean       std  size\n",
       "0             V1    9.0  16.231884  15.576289  5.328778    39\n",
       "1             V1   10.0   7.904282  10.114205  5.536347    40\n",
       "2             V2    9.0  12.449063  15.600095  8.282522    44\n",
       "3             V2   10.0   9.294872  12.186297  7.730365    45"
      ]
     },
     "execution_count": 7,
     "metadata": {},
     "output_type": "execute_result"
    }
   ],
   "source": [
    "by_stage_stats = probe_violation_df.groupby(['fix_experiment', 'stage'])['violation_rate'].agg(['median', 'mean', 'std', 'size']).reset_index()\n",
    "by_stage_stats"
   ]
  },
  {
   "cell_type": "code",
   "execution_count": 8,
   "metadata": {},
   "outputs": [
    {
     "data": {
      "text/html": [
       "<div>\n",
       "<style scoped>\n",
       "    .dataframe tbody tr th:only-of-type {\n",
       "        vertical-align: middle;\n",
       "    }\n",
       "\n",
       "    .dataframe tbody tr th {\n",
       "        vertical-align: top;\n",
       "    }\n",
       "\n",
       "    .dataframe thead th {\n",
       "        text-align: right;\n",
       "    }\n",
       "</style>\n",
       "<table border=\"1\" class=\"dataframe\">\n",
       "  <thead>\n",
       "    <tr style=\"text-align: right;\">\n",
       "      <th></th>\n",
       "      <th>fix_experiment</th>\n",
       "      <th>median</th>\n",
       "      <th>mean</th>\n",
       "      <th>std</th>\n",
       "      <th>size</th>\n",
       "    </tr>\n",
       "  </thead>\n",
       "  <tbody>\n",
       "    <tr>\n",
       "      <th>0</th>\n",
       "      <td>V1</td>\n",
       "      <td>12.337662</td>\n",
       "      <td>12.810677</td>\n",
       "      <td>6.059081</td>\n",
       "      <td>79</td>\n",
       "    </tr>\n",
       "    <tr>\n",
       "      <th>1</th>\n",
       "      <td>V2</td>\n",
       "      <td>11.079545</td>\n",
       "      <td>13.874017</td>\n",
       "      <td>8.145309</td>\n",
       "      <td>89</td>\n",
       "    </tr>\n",
       "  </tbody>\n",
       "</table>\n",
       "</div>"
      ],
      "text/plain": [
       "  fix_experiment     median       mean       std  size\n",
       "0             V1  12.337662  12.810677  6.059081    79\n",
       "1             V2  11.079545  13.874017  8.145309    89"
      ]
     },
     "execution_count": 8,
     "metadata": {},
     "output_type": "execute_result"
    }
   ],
   "source": [
    "combined_stats = probe_violation_df.groupby('fix_experiment')['violation_rate'].agg(['median', 'mean', 'std', 'size']).reset_index()\n",
    "combined_stats\n"
   ]
  },
  {
   "cell_type": "code",
   "execution_count": 9,
   "metadata": {},
   "outputs": [
    {
     "name": "stderr",
     "output_type": "stream",
     "text": [
      "/var/folders/__/8jn6qz211155h1xb451s5zcr0000gn/T/ipykernel_77827/2806543067.py:6: UserWarning: set_ticklabels() should only be used with a fixed number of ticks, i.e. after set_ticks() or using a FixedLocator.\n",
      "  ax.set_xticklabels([\"Stable\\nRequirement\", \"Random\\nRequirement\"])\n"
     ]
    },
    {
     "data": {
      "image/png": "[encoded data removed]",
      "text/plain": [
       "<Figure size 600x600 with 1 Axes>"
      ]
     },
     "metadata": {},
     "output_type": "display_data"
    }
   ],
   "source": [
    "fig, ax = plt.subplots(figsize=(6,6))\n",
    "\n",
    "u.box_strip_v1_vs_v2(probe_violation_df, x=\"stage\", order=None, y=\"violation_rate\", ax=ax, xlabel=\"\", ylabel=\"Violation Rate (%)\", dodge=True, alpha=0.5, width=0.8)\n",
    "\n",
    "ax.set_ylim(0, 50)\n",
    "ax.set_xticklabels([\"Stable\\nRequirement\", \"Random\\nRequirement\"])\n",
    "ax.legend().remove()\n",
    "\n",
    "c.save_fig(fig, \"fig3_probe_violation_rates_by_stage\")"
   ]
  },
  {
   "cell_type": "markdown",
   "metadata": {},
   "source": [
    "## STATS\n"
   ]
  },
  {
   "cell_type": "code",
   "execution_count": 10,
   "metadata": {},
   "outputs": [
    {
     "data": {
      "text/html": [
       "<div>\n",
       "<style scoped>\n",
       "    .dataframe tbody tr th:only-of-type {\n",
       "        vertical-align: middle;\n",
       "    }\n",
       "\n",
       "    .dataframe tbody tr th {\n",
       "        vertical-align: top;\n",
       "    }\n",
       "\n",
       "    .dataframe thead th {\n",
       "        text-align: right;\n",
       "    }\n",
       "</style>\n",
       "<table border=\"1\" class=\"dataframe\">\n",
       "  <thead>\n",
       "    <tr style=\"text-align: right;\">\n",
       "      <th></th>\n",
       "      <th>normality_V1</th>\n",
       "      <th>normality_V2</th>\n",
       "      <th>n_V1</th>\n",
       "      <th>n_V2</th>\n",
       "      <th>test_type</th>\n",
       "      <th>test_statistic</th>\n",
       "      <th>p_val_raw</th>\n",
       "    </tr>\n",
       "  </thead>\n",
       "  <tbody>\n",
       "    <tr>\n",
       "      <th>0</th>\n",
       "      <td>True</td>\n",
       "      <td>False</td>\n",
       "      <td>39</td>\n",
       "      <td>44</td>\n",
       "      <td>mannwhitney</td>\n",
       "      <td>947.5</td>\n",
       "      <td>0.416759</td>\n",
       "    </tr>\n",
       "  </tbody>\n",
       "</table>\n",
       "</div>"
      ],
      "text/plain": [
       "   normality_V1  normality_V2  n_V1  n_V2    test_type  test_statistic  \\\n",
       "0          True         False    39    44  mannwhitney           947.5   \n",
       "\n",
       "   p_val_raw  \n",
       "0   0.416759  "
      ]
     },
     "execution_count": 10,
     "metadata": {},
     "output_type": "execute_result"
    }
   ],
   "source": [
    "st9stats = u.compare_v1_v2(probe_violation_df.query(\"stage == 9\"), \"violation_rate\")\n",
    "st9stats\n",
    "\n"
   ]
  },
  {
   "cell_type": "code",
   "execution_count": 11,
   "metadata": {},
   "outputs": [
    {
     "data": {
      "text/html": [
       "<div>\n",
       "<style scoped>\n",
       "    .dataframe tbody tr th:only-of-type {\n",
       "        vertical-align: middle;\n",
       "    }\n",
       "\n",
       "    .dataframe tbody tr th {\n",
       "        vertical-align: top;\n",
       "    }\n",
       "\n",
       "    .dataframe thead th {\n",
       "        text-align: right;\n",
       "    }\n",
       "</style>\n",
       "<table border=\"1\" class=\"dataframe\">\n",
       "  <thead>\n",
       "    <tr style=\"text-align: right;\">\n",
       "      <th></th>\n",
       "      <th>test_type</th>\n",
       "      <th>test_statistic</th>\n",
       "      <th>p_val_raw</th>\n",
       "      <th>residuals_normal</th>\n",
       "    </tr>\n",
       "  </thead>\n",
       "  <tbody>\n",
       "    <tr>\n",
       "      <th>0</th>\n",
       "      <td>mixedlm_random_intercept</td>\n",
       "      <td>0.031559</td>\n",
       "      <td>0.974824</td>\n",
       "      <td>True</td>\n",
       "    </tr>\n",
       "  </tbody>\n",
       "</table>\n",
       "</div>"
      ],
      "text/plain": [
       "                  test_type  test_statistic  p_val_raw  residuals_normal\n",
       "0  mixedlm_random_intercept        0.031559   0.974824              True"
      ]
     },
     "execution_count": 11,
     "metadata": {},
     "output_type": "execute_result"
    }
   ],
   "source": [
    "u.compare_v1_v2_multi_sample(probe_violation_df.query(\"stage == 9\"), \"violation_rate\")"
   ]
  },
  {
   "cell_type": "code",
   "execution_count": 12,
   "metadata": {},
   "outputs": [
    {
     "data": {
      "text/html": [
       "<div>\n",
       "<style scoped>\n",
       "    .dataframe tbody tr th:only-of-type {\n",
       "        vertical-align: middle;\n",
       "    }\n",
       "\n",
       "    .dataframe tbody tr th {\n",
       "        vertical-align: top;\n",
       "    }\n",
       "\n",
       "    .dataframe thead th {\n",
       "        text-align: right;\n",
       "    }\n",
       "</style>\n",
       "<table border=\"1\" class=\"dataframe\">\n",
       "  <thead>\n",
       "    <tr style=\"text-align: right;\">\n",
       "      <th></th>\n",
       "      <th>normality_V1</th>\n",
       "      <th>normality_V2</th>\n",
       "      <th>n_V1</th>\n",
       "      <th>n_V2</th>\n",
       "      <th>test_type</th>\n",
       "      <th>test_statistic</th>\n",
       "      <th>p_val_raw</th>\n",
       "    </tr>\n",
       "  </thead>\n",
       "  <tbody>\n",
       "    <tr>\n",
       "      <th>0</th>\n",
       "      <td>False</td>\n",
       "      <td>False</td>\n",
       "      <td>40</td>\n",
       "      <td>45</td>\n",
       "      <td>mannwhitney</td>\n",
       "      <td>764.0</td>\n",
       "      <td>0.232865</td>\n",
       "    </tr>\n",
       "  </tbody>\n",
       "</table>\n",
       "</div>"
      ],
      "text/plain": [
       "   normality_V1  normality_V2  n_V1  n_V2    test_type  test_statistic  \\\n",
       "0         False         False    40    45  mannwhitney           764.0   \n",
       "\n",
       "   p_val_raw  \n",
       "0   0.232865  "
      ]
     },
     "execution_count": 12,
     "metadata": {},
     "output_type": "execute_result"
    }
   ],
   "source": [
    "st10stats = u.compare_v1_v2(probe_violation_df.query(\"stage == 10\"), \"violation_rate\")\n",
    "st10stats"
   ]
  },
  {
   "cell_type": "code",
   "execution_count": 13,
   "metadata": {},
   "outputs": [
    {
     "data": {
      "text/html": [
       "<div>\n",
       "<style scoped>\n",
       "    .dataframe tbody tr th:only-of-type {\n",
       "        vertical-align: middle;\n",
       "    }\n",
       "\n",
       "    .dataframe tbody tr th {\n",
       "        vertical-align: top;\n",
       "    }\n",
       "\n",
       "    .dataframe thead th {\n",
       "        text-align: right;\n",
       "    }\n",
       "</style>\n",
       "<table border=\"1\" class=\"dataframe\">\n",
       "  <thead>\n",
       "    <tr style=\"text-align: right;\">\n",
       "      <th></th>\n",
       "      <th>test_type</th>\n",
       "      <th>test_statistic</th>\n",
       "      <th>p_val_raw</th>\n",
       "      <th>residuals_normal</th>\n",
       "    </tr>\n",
       "  </thead>\n",
       "  <tbody>\n",
       "    <tr>\n",
       "      <th>0</th>\n",
       "      <td>mixedlm_random_intercept</td>\n",
       "      <td>0.69536</td>\n",
       "      <td>0.48683</td>\n",
       "      <td>False</td>\n",
       "    </tr>\n",
       "  </tbody>\n",
       "</table>\n",
       "</div>"
      ],
      "text/plain": [
       "                  test_type  test_statistic  p_val_raw  residuals_normal\n",
       "0  mixedlm_random_intercept         0.69536    0.48683             False"
      ]
     },
     "execution_count": 13,
     "metadata": {},
     "output_type": "execute_result"
    }
   ],
   "source": [
    "u.compare_v1_v2_multi_sample(probe_violation_df.query(\"stage == 10\"), \"violation_rate\")"
   ]
  },
  {
   "cell_type": "code",
   "execution_count": 14,
   "metadata": {},
   "outputs": [
    {
     "name": "stdout",
     "output_type": "stream",
     "text": [
      "Wilcoxon signed‐rank stat = 1.000,  p = 0.016\n"
     ]
    }
   ],
   "source": [
    "\n",
    "# 1) Subset to V1 only\n",
    "df_v1 = probe_violation_df.query(\"fix_experiment == 'V1'\")\n",
    "\n",
    "# 2) Aggregate the 5 daily violation rates into a single number per animal & stage \n",
    "#    (here we take the mean — but you could use median, first, etc.)\n",
    "df_agg = (\n",
    "    df_v1\n",
    "    .groupby(['animal_id','stage'], as_index=False)\n",
    "    ['violation_rate']\n",
    "    .mean()\n",
    ")\n",
    "\n",
    "# 3) Pivot to get one row per animal, columns for stage 9 & 10\n",
    "df_wide = df_agg.pivot(\n",
    "    index='animal_id',\n",
    "    columns='stage',\n",
    "    values='violation_rate'\n",
    ")\n",
    "\n",
    "# 4) Keep only animals that have *both* stage 9 and stage 10\n",
    "df_paired = df_wide[[9,10]].dropna()\n",
    "\n",
    "# 5) Run the Wilcoxon signed‐rank test\n",
    "statistic, wil_v1_pval = wilcoxon(df_paired[9], df_paired[10])\n",
    "\n",
    "print(f\"Wilcoxon signed‐rank stat = {statistic:.3f},  p = {wil_v1_pval:.3f}\")"
   ]
  },
  {
   "cell_type": "code",
   "execution_count": 15,
   "metadata": {},
   "outputs": [
    {
     "name": "stdout",
     "output_type": "stream",
     "text": [
      "Wilcoxon signed‐rank stat = 2.000,  p = 0.012\n"
     ]
    }
   ],
   "source": [
    "\n",
    "# 1) Subset to V2 only\n",
    "df_v2 = probe_violation_df.query(\"fix_experiment == 'V2'\")\n",
    "\n",
    "# 2) Aggregate the 5 daily violation rates into a single number per animal & stage \n",
    "#    (here we take the mean — but you could use median, first, etc.)\n",
    "df_agg = (\n",
    "    df_v2\n",
    "    .groupby(['animal_id','stage'], as_index=False)\n",
    "    ['violation_rate']\n",
    "    .mean()\n",
    ")\n",
    "\n",
    "# 3) Pivot to get one row per animal, columns for stage 9 & 10\n",
    "df_wide = df_agg.pivot(\n",
    "    index='animal_id',\n",
    "    columns='stage',\n",
    "    values='violation_rate'\n",
    ")\n",
    "\n",
    "# 4) Keep only animals that have *both* stage 9 and stage 10\n",
    "df_paired = df_wide[[9,10]].dropna()\n",
    "\n",
    "# 5) Run the Wilcoxon signed‐rank test\n",
    "statistic, wil_v2_pval = wilcoxon(df_paired[9], df_paired[10])\n",
    "\n",
    "print(f\"Wilcoxon signed‐rank stat = {statistic:.3f},  p = {wil_v2_pval:.3f}\")"
   ]
  },
  {
   "cell_type": "code",
   "execution_count": 16,
   "metadata": {},
   "outputs": [
    {
     "name": "stdout",
     "output_type": "stream",
     "text": [
      "Test wil_v1_pval: reject H0? True\n",
      "\t\traw p = 0.0156, holm-adj p = 0.0469\n",
      "Test wil_v2_pval: reject H0? True\n",
      "\t\traw p = 0.0117, holm-adj p = 0.0469\n",
      "Test st9stats: reject H0? False\n",
      "\t\traw p = 0.4168, holm-adj p = 0.4657\n",
      "Test st10stats: reject H0? False\n",
      "\t\traw p = 0.2329, holm-adj p = 0.4657\n"
     ]
    }
   ],
   "source": [
    "\n",
    "tests = [\"wil_v1_pval\", \"wil_v2_pval\", \"st9stats\", \"st10stats\"]\n",
    "pvals = [wil_v1_pval, wil_v2_pval, st9stats[\"p_val_raw\"].iloc[0], st10stats[\"p_val_raw\"].iloc[0]]\n",
    "\n",
    "reject, pvals_holm, _, _ = multipletests(pvals, alpha=0.05, method='holm')\n",
    "\n",
    "# 3) Inspect\n",
    "for i, (test, raw, adj, rej) in enumerate(zip(tests, pvals, pvals_holm, reject), start=1):\n",
    "    print(f\"Test {test}: reject H0? {rej}\\n\\t\\traw p = {raw:.4f}, holm-adj p = {adj:.4f}\")"
   ]
  },
  {
   "cell_type": "markdown",
   "metadata": {},
   "source": [
    "## Combined\n"
   ]
  },
  {
   "cell_type": "code",
   "execution_count": 17,
   "metadata": {},
   "outputs": [
    {
     "name": "stderr",
     "output_type": "stream",
     "text": [
      "/var/folders/__/8jn6qz211155h1xb451s5zcr0000gn/T/ipykernel_77827/1711331121.py:7: UserWarning: set_ticklabels() should only be used with a fixed number of ticks, i.e. after set_ticks() or using a FixedLocator.\n",
      "  ax.set_xticklabels([\"Combined\\nStable & Random\"])\n"
     ]
    },
    {
     "data": {
      "image/png": "[encoded data removed]",
      "text/plain": [
       "<Figure size 300x600 with 1 Axes>"
      ]
     },
     "metadata": {},
     "output_type": "display_data"
    }
   ],
   "source": [
    "fig, ax = plt.subplots(figsize=(3,6))\n",
    "\n",
    "probe_violation_df[\"combined_stage\"] = True\n",
    "u.box_strip_v1_vs_v2(probe_violation_df, x=\"combined_stage\", order=None, y=\"violation_rate\", ax=ax, xlabel=\"\", ylabel=\"\", dodge=True, alpha=0.5, width=0.8)\n",
    "\n",
    "ax.set_ylim(0, 50)\n",
    "ax.set_xticklabels([\"Combined\\nStable & Random\"])\n",
    "\n",
    "# Remove y-axis spine, labels, and ticks\n",
    "ax.yaxis.set_visible(False)\n",
    "sns.despine(ax=ax, left=True)\n",
    "\n",
    "c.save_fig(fig, \"fig3_probe_violation_rates_combined\")"
   ]
  },
  {
   "cell_type": "code",
   "execution_count": 19,
   "metadata": {},
   "outputs": [
    {
     "data": {
      "text/html": [
       "<div>\n",
       "<style scoped>\n",
       "    .dataframe tbody tr th:only-of-type {\n",
       "        vertical-align: middle;\n",
       "    }\n",
       "\n",
       "    .dataframe tbody tr th {\n",
       "        vertical-align: top;\n",
       "    }\n",
       "\n",
       "    .dataframe thead th {\n",
       "        text-align: right;\n",
       "    }\n",
       "</style>\n",
       "<table border=\"1\" class=\"dataframe\">\n",
       "  <thead>\n",
       "    <tr style=\"text-align: right;\">\n",
       "      <th></th>\n",
       "      <th>normality_V1</th>\n",
       "      <th>normality_V2</th>\n",
       "      <th>n_V1</th>\n",
       "      <th>n_V2</th>\n",
       "      <th>test_type</th>\n",
       "      <th>test_statistic</th>\n",
       "      <th>p_val_raw</th>\n",
       "      <th>adj_pval</th>\n",
       "    </tr>\n",
       "  </thead>\n",
       "  <tbody>\n",
       "    <tr>\n",
       "      <th>0</th>\n",
       "      <td>True</td>\n",
       "      <td>False</td>\n",
       "      <td>39</td>\n",
       "      <td>44</td>\n",
       "      <td>mannwhitney</td>\n",
       "      <td>947.5</td>\n",
       "      <td>0.416759</td>\n",
       "      <td>1</td>\n",
       "    </tr>\n",
       "  </tbody>\n",
       "</table>\n",
       "</div>"
      ],
      "text/plain": [
       "   normality_V1  normality_V2  n_V1  n_V2    test_type  test_statistic  \\\n",
       "0          True         False    39    44  mannwhitney           947.5   \n",
       "\n",
       "   p_val_raw  adj_pval  \n",
       "0   0.416759         1  "
      ]
     },
     "execution_count": 19,
     "metadata": {},
     "output_type": "execute_result"
    }
   ],
   "source": [
    "combstats = u.compare_v1_v2(probe_violation_df.query(\"stage == 9\"), \"violation_rate\")\n",
    "combstats[\"adj_pval\"] = min(combstats[\"p_val_raw\"].iloc[0] * 4, 1)\n",
    "combstats"
   ]
  },
  {
   "cell_type": "code",
   "execution_count": 20,
   "metadata": {},
   "outputs": [
    {
     "data": {
      "text/html": [
       "<div>\n",
       "<style scoped>\n",
       "    .dataframe tbody tr th:only-of-type {\n",
       "        vertical-align: middle;\n",
       "    }\n",
       "\n",
       "    .dataframe tbody tr th {\n",
       "        vertical-align: top;\n",
       "    }\n",
       "\n",
       "    .dataframe thead th {\n",
       "        text-align: right;\n",
       "    }\n",
       "</style>\n",
       "<table border=\"1\" class=\"dataframe\">\n",
       "  <thead>\n",
       "    <tr style=\"text-align: right;\">\n",
       "      <th></th>\n",
       "      <th>test_type</th>\n",
       "      <th>test_statistic</th>\n",
       "      <th>p_val_raw</th>\n",
       "      <th>residuals_normal</th>\n",
       "    </tr>\n",
       "  </thead>\n",
       "  <tbody>\n",
       "    <tr>\n",
       "      <th>0</th>\n",
       "      <td>mixedlm_random_intercept</td>\n",
       "      <td>0.37315</td>\n",
       "      <td>0.709037</td>\n",
       "      <td>False</td>\n",
       "    </tr>\n",
       "  </tbody>\n",
       "</table>\n",
       "</div>"
      ],
      "text/plain": [
       "                  test_type  test_statistic  p_val_raw  residuals_normal\n",
       "0  mixedlm_random_intercept         0.37315   0.709037             False"
      ]
     },
     "execution_count": 20,
     "metadata": {},
     "output_type": "execute_result"
    }
   ],
   "source": [
    "u.compare_v1_v2_multi_sample(probe_violation_df, \"violation_rate\")"
   ]
  },
  {
   "cell_type": "markdown",
   "metadata": {},
   "source": [
    "# B\n"
   ]
  },
  {
   "cell_type": "code",
   "execution_count": 21,
   "metadata": {},
   "outputs": [
    {
     "data": {
      "image/png": "[encoded data removed]",
      "text/plain": [
       "<Figure size 1200x500 with 1 Axes>"
      ]
     },
     "metadata": {},
     "output_type": "display_data"
    }
   ],
   "source": [
    "fig, ax = plt.subplots(figsize=(12,5))\n",
    "\n",
    "sns.despine()\n",
    "\n",
    "sns.lineplot(data=probe_violation_df, x=\"days_relative_to_stage_10\", y=\"violation_rate\", hue=\"fix_experiment\", hue_order=c.HUE_ORDER_EXP, palette=c.EXP_PALETTE, marker=\"o\", errorbar=\"se\")\n",
    "ax.set_ylim(0, 50)\n",
    "ax.set_xticks(range(-5, 5))  # Set xticks from -5 to +4\n",
    "ax.axvline(-0.5, color=\"black\")\n",
    "_ = ax.text(-0.3, 42, \"Random ->\", horizontalalignment=\"left\", fontstyle=\"italic\")\n",
    "_ = ax.text(-0.7, 42, \"<- Stable\", horizontalalignment=\"right\", fontstyle=\"italic\")\n",
    "\n",
    "_ = ax.set(xlabel=\"Days in Second Probe Stage (Random)\", ylabel=\"Violation Rate (%)\")\n",
    "\n",
    "ax.legend(title=\"\", frameon=False)\n",
    "\n",
    "c.save_fig(fig, \"fig3_probe_violation_rates_over_days\")\n"
   ]
  },
  {
   "cell_type": "markdown",
   "metadata": {},
   "source": [
    "# C\n"
   ]
  },
  {
   "cell_type": "code",
   "execution_count": 28,
   "metadata": {},
   "outputs": [],
   "source": [
    "OUTLIER_ANIMAL = 'R047'"
   ]
  },
  {
   "cell_type": "code",
   "execution_count": 22,
   "metadata": {},
   "outputs": [
    {
     "data": {
      "text/html": [
       "<div>\n",
       "<style scoped>\n",
       "    .dataframe tbody tr th:only-of-type {\n",
       "        vertical-align: middle;\n",
       "    }\n",
       "\n",
       "    .dataframe tbody tr th {\n",
       "        vertical-align: top;\n",
       "    }\n",
       "\n",
       "    .dataframe thead th {\n",
       "        text-align: right;\n",
       "    }\n",
       "</style>\n",
       "<table border=\"1\" class=\"dataframe\">\n",
       "  <thead>\n",
       "    <tr style=\"text-align: right;\">\n",
       "      <th></th>\n",
       "      <th>animal_id</th>\n",
       "      <th>fix_experiment</th>\n",
       "      <th>days_to_target</th>\n",
       "    </tr>\n",
       "  </thead>\n",
       "  <tbody>\n",
       "    <tr>\n",
       "      <th>0</th>\n",
       "      <td>R040</td>\n",
       "      <td>V1</td>\n",
       "      <td>13</td>\n",
       "    </tr>\n",
       "    <tr>\n",
       "      <th>1</th>\n",
       "      <td>R041</td>\n",
       "      <td>V2</td>\n",
       "      <td>11</td>\n",
       "    </tr>\n",
       "    <tr>\n",
       "      <th>2</th>\n",
       "      <td>R042</td>\n",
       "      <td>V1</td>\n",
       "      <td>12</td>\n",
       "    </tr>\n",
       "    <tr>\n",
       "      <th>3</th>\n",
       "      <td>R043</td>\n",
       "      <td>V2</td>\n",
       "      <td>6</td>\n",
       "    </tr>\n",
       "    <tr>\n",
       "      <th>4</th>\n",
       "      <td>R045</td>\n",
       "      <td>V2</td>\n",
       "      <td>11</td>\n",
       "    </tr>\n",
       "  </tbody>\n",
       "</table>\n",
       "</div>"
      ],
      "text/plain": [
       "  animal_id fix_experiment  days_to_target\n",
       "0      R040             V1              13\n",
       "1      R041             V2              11\n",
       "2      R042             V1              12\n",
       "3      R043             V2               6\n",
       "4      R045             V2              11"
      ]
     },
     "execution_count": 22,
     "metadata": {},
     "output_type": "execute_result"
    }
   ],
   "source": [
    "target_time_df = (\n",
    "    tdf.query(\"has_reached_target_fixation == True\")\n",
    "    .groupby([\"animal_id\", \"fix_experiment\"], observed=True)[\n",
    "        f\"days_relative_to_stage_5\"\n",
    "    ]\n",
    "    .min()\n",
    "    .reset_index()\n",
    ")\n",
    "\n",
    "target_time_df.rename(\n",
    "    columns={f\"days_relative_to_stage_5\": \"days_to_target\"},\n",
    "    inplace=True,\n",
    ")\n",
    "\n",
    "target_time_df.head()\n"
   ]
  },
  {
   "cell_type": "code",
   "execution_count": 29,
   "metadata": {},
   "outputs": [
    {
     "data": {
      "text/html": [
       "<div>\n",
       "<style scoped>\n",
       "    .dataframe tbody tr th:only-of-type {\n",
       "        vertical-align: middle;\n",
       "    }\n",
       "\n",
       "    .dataframe tbody tr th {\n",
       "        vertical-align: top;\n",
       "    }\n",
       "\n",
       "    .dataframe thead th {\n",
       "        text-align: right;\n",
       "    }\n",
       "</style>\n",
       "<table border=\"1\" class=\"dataframe\">\n",
       "  <thead>\n",
       "    <tr style=\"text-align: right;\">\n",
       "      <th></th>\n",
       "      <th>date</th>\n",
       "      <th>fix_experiment</th>\n",
       "      <th>animal_id</th>\n",
       "      <th>stage</th>\n",
       "      <th>days_relative_to_stage_10</th>\n",
       "      <th>violation_rate</th>\n",
       "      <th>combined_stage</th>\n",
       "      <th>days_to_target</th>\n",
       "      <th>outlier</th>\n",
       "    </tr>\n",
       "  </thead>\n",
       "  <tbody>\n",
       "    <tr>\n",
       "      <th>0</th>\n",
       "      <td>2024-08-07</td>\n",
       "      <td>V2</td>\n",
       "      <td>R043</td>\n",
       "      <td>9.0</td>\n",
       "      <td>-5.0</td>\n",
       "      <td>14.673913</td>\n",
       "      <td>True</td>\n",
       "      <td>6</td>\n",
       "      <td>False</td>\n",
       "    </tr>\n",
       "    <tr>\n",
       "      <th>1</th>\n",
       "      <td>2024-08-08</td>\n",
       "      <td>V2</td>\n",
       "      <td>R043</td>\n",
       "      <td>9.0</td>\n",
       "      <td>-4.0</td>\n",
       "      <td>10.501193</td>\n",
       "      <td>True</td>\n",
       "      <td>6</td>\n",
       "      <td>False</td>\n",
       "    </tr>\n",
       "    <tr>\n",
       "      <th>2</th>\n",
       "      <td>2024-08-09</td>\n",
       "      <td>V2</td>\n",
       "      <td>R043</td>\n",
       "      <td>9.0</td>\n",
       "      <td>-3.0</td>\n",
       "      <td>8.184143</td>\n",
       "      <td>True</td>\n",
       "      <td>6</td>\n",
       "      <td>False</td>\n",
       "    </tr>\n",
       "    <tr>\n",
       "      <th>3</th>\n",
       "      <td>2024-08-10</td>\n",
       "      <td>V2</td>\n",
       "      <td>R043</td>\n",
       "      <td>9.0</td>\n",
       "      <td>-2.0</td>\n",
       "      <td>4.514673</td>\n",
       "      <td>True</td>\n",
       "      <td>6</td>\n",
       "      <td>False</td>\n",
       "    </tr>\n",
       "    <tr>\n",
       "      <th>4</th>\n",
       "      <td>2024-08-11</td>\n",
       "      <td>V1</td>\n",
       "      <td>R042</td>\n",
       "      <td>9.0</td>\n",
       "      <td>-5.0</td>\n",
       "      <td>19.444444</td>\n",
       "      <td>True</td>\n",
       "      <td>12</td>\n",
       "      <td>False</td>\n",
       "    </tr>\n",
       "  </tbody>\n",
       "</table>\n",
       "</div>"
      ],
      "text/plain": [
       "         date fix_experiment animal_id  stage  days_relative_to_stage_10  \\\n",
       "0  2024-08-07             V2      R043    9.0                       -5.0   \n",
       "1  2024-08-08             V2      R043    9.0                       -4.0   \n",
       "2  2024-08-09             V2      R043    9.0                       -3.0   \n",
       "3  2024-08-10             V2      R043    9.0                       -2.0   \n",
       "4  2024-08-11             V1      R042    9.0                       -5.0   \n",
       "\n",
       "   violation_rate  combined_stage  days_to_target  outlier  \n",
       "0       14.673913            True               6    False  \n",
       "1       10.501193            True               6    False  \n",
       "2        8.184143            True               6    False  \n",
       "3        4.514673            True               6    False  \n",
       "4       19.444444            True              12    False  "
      ]
     },
     "execution_count": 29,
     "metadata": {},
     "output_type": "execute_result"
    }
   ],
   "source": [
    "probe_time_and_viol_df = pd.merge(probe_violation_df, target_time_df, on=[\"animal_id\", \"fix_experiment\"], how=\"left\")\n",
    "probe_time_and_viol_df[\"outlier\"] = probe_time_and_viol_df[\"animal_id\"] == OUTLIER_ANIMAL\n",
    "probe_time_and_viol_df.head()\n"
   ]
  },
  {
   "cell_type": "code",
   "execution_count": null,
   "metadata": {},
   "outputs": [],
   "source": []
  },
  {
   "cell_type": "code",
   "execution_count": 30,
   "metadata": {},
   "outputs": [
    {
     "data": {
      "image/png": "[encoded data removed]",
      "text/plain": [
       "<Figure size 800x600 with 1 Axes>"
      ]
     },
     "metadata": {},
     "output_type": "display_data"
    }
   ],
   "source": [
    "fig, ax = plt.subplots(figsize=(8,6))\n",
    "import warnings\n",
    "warnings.filterwarnings(\n",
    "    \"ignore\",\n",
    "    message=\"Calling float on a single element Series is deprecated\"\n",
    ")\n",
    "\n",
    "# …then your plotting code as before…\n",
    "sns.lineplot(\n",
    "    data=probe_time_and_viol_df.query(\"outlier == False\"),\n",
    "    x=\"days_to_target\",\n",
    "    y=\"violation_rate\",\n",
    "    hue=\"fix_experiment\",\n",
    "    palette=c.EXP_PALETTE,\n",
    "    hue_order=c.HUE_ORDER_EXP,\n",
    "    style=\"animal_id\",\n",
    "    marker=\"o\",\n",
    "    markersize=10,  # Increase marker size\n",
    "    linestyle=\"\",\n",
    "    err_style=\"bars\",\n",
    "    errorbar=\"se\",\n",
    "    ax=ax,\n",
    ")\n",
    "sns.lineplot(\n",
    "    data=probe_time_and_viol_df.query(\"outlier == True\"),\n",
    "    x=\"days_to_target\",\n",
    "    y=\"violation_rate\",\n",
    "    hue=\"fix_experiment\",\n",
    "    palette=c.EXP_PALETTE,\n",
    "    hue_order=c.HUE_ORDER_EXP,\n",
    "    style=\"animal_id\",\n",
    "    marker=\"X\",\n",
    "    markersize=10,  # Increase marker size\n",
    "    linestyle=\"\",\n",
    "    err_style=\"bars\",\n",
    "    errorbar=\"se\",\n",
    "    ax=ax,\n",
    ")\n",
    "\n",
    "_ = ax.set(\n",
    "    xlim=(0, 60),\n",
    "    ylim=(0, 35),\n",
    "    xlabel=\"Days to Reach Fixation Target\",\n",
    "    ylabel=\"Combined Probe Violation Rate (%)\",\n",
    ")\n",
    "\n",
    "sns.despine()\n",
    "plt.tight_layout()\n",
    "\n",
    "\n",
    "ax.get_legend().remove()\n",
    "handles, labels = ax.get_legend_handles_labels()\n",
    "ax.legend(handles=handles[1:3], labels=labels[1:3], frameon=False)\n",
    "plt.tight_layout()\n",
    "c.save_fig(fig, \"fig3_probe_violation_rates_by_days_to_target\")\n"
   ]
  },
  {
   "cell_type": "code",
   "execution_count": 103,
   "metadata": {},
   "outputs": [
    {
     "name": "stdout",
     "output_type": "stream",
     "text": [
      "                    Mixed Linear Model Regression Results\n",
      "==============================================================================\n",
      "Model:                  MixedLM       Dependent Variable:       violation_rate\n",
      "No. Observations:       158           Method:                   REML          \n",
      "No. Groups:             16            Scale:                    0.0021        \n",
      "Min. group size:        9             Log-Likelihood:           230.1610      \n",
      "Max. group size:        10            Converged:                Yes           \n",
      "Mean group size:        9.9                                                   \n",
      "------------------------------------------------------------------------------\n",
      "                                    Coef.  Std.Err.   z    P>|z| [0.025 0.975]\n",
      "------------------------------------------------------------------------------\n",
      "Intercept                            0.125    0.030  4.123 0.000  0.066  0.185\n",
      "fix_experiment[T.V2]                -0.147    0.054 -2.728 0.006 -0.253 -0.041\n",
      "days_to_target                       0.000    0.001  0.073 0.942 -0.002  0.002\n",
      "days_to_target:fix_experiment[T.V2]  0.016    0.004  3.881 0.000  0.008  0.025\n",
      "Group Var                            0.002    0.018                           \n",
      "==============================================================================\n",
      "\n"
     ]
    },
    {
     "name": "stderr",
     "output_type": "stream",
     "text": [
      "/Users/jessbreda/anaconda3/envs/behav_viz/lib/python3.10/site-packages/statsmodels/regression/mixed_linear_model.py:1634: UserWarning: Random effects covariance is singular\n",
      "  warnings.warn(msg)\n",
      "/Users/jessbreda/anaconda3/envs/behav_viz/lib/python3.10/site-packages/statsmodels/regression/mixed_linear_model.py:2237: ConvergenceWarning: The MLE may be on the boundary of the parameter space.\n",
      "  warnings.warn(msg, ConvergenceWarning)\n"
     ]
    }
   ],
   "source": [
    "# Random intercepts by animal_id\n",
    "md = smf.mixedlm(\n",
    "    formula=\"violation_rate ~ days_to_target * fix_experiment\",\n",
    "    data=probe_time_and_viol_df.query(\"animal_id !=@OUTLIER_ANIMAL\"),\n",
    "    groups=probe_time_and_viol_df.query(\"animal_id !=@OUTLIER_ANIMAL\")[\"animal_id\"]\n",
    ")\n",
    "mdf = md.fit(method='lbfgs')  # or 'nlopt' etc., whichever converges best\n",
    "print(mdf.summary())"
   ]
  },
  {
   "cell_type": "markdown",
   "metadata": {},
   "source": [
    "# Outlier Analysis\n"
   ]
  },
  {
   "cell_type": "code",
   "execution_count": 105,
   "metadata": {},
   "outputs": [
    {
     "data": {
      "text/html": [
       "<div>\n",
       "<style scoped>\n",
       "    .dataframe tbody tr th:only-of-type {\n",
       "        vertical-align: middle;\n",
       "    }\n",
       "\n",
       "    .dataframe tbody tr th {\n",
       "        vertical-align: top;\n",
       "    }\n",
       "\n",
       "    .dataframe thead th {\n",
       "        text-align: right;\n",
       "    }\n",
       "</style>\n",
       "<table border=\"1\" class=\"dataframe\">\n",
       "  <thead>\n",
       "    <tr style=\"text-align: right;\">\n",
       "      <th></th>\n",
       "      <th>violation_rate</th>\n",
       "    </tr>\n",
       "  </thead>\n",
       "  <tbody>\n",
       "    <tr>\n",
       "      <th>violation_rate_mean</th>\n",
       "      <td>0.086980</td>\n",
       "    </tr>\n",
       "    <tr>\n",
       "      <th>violation_rate_sd</th>\n",
       "      <td>0.031265</td>\n",
       "    </tr>\n",
       "  </tbody>\n",
       "</table>\n",
       "</div>"
      ],
      "text/plain": [
       "                     violation_rate\n",
       "violation_rate_mean        0.086980\n",
       "violation_rate_sd          0.031265"
      ]
     },
     "execution_count": 105,
     "metadata": {},
     "output_type": "execute_result"
    }
   ],
   "source": [
    "probe_violation_df.query(\"animal_id == @OUTLIER_ANIMAL\").agg(\n",
    "    #violation rate mean and sd\n",
    "    violation_rate_mean=(\"violation_rate\", \"mean\"),\n",
    "    violation_rate_sd=(\"violation_rate\", \"std\")\n",
    ")"
   ]
  },
  {
   "cell_type": "code",
   "execution_count": 106,
   "metadata": {},
   "outputs": [
    {
     "name": "stdout",
     "output_type": "stream",
     "text": [
      "Loading poke data from directory: /Users/jessbreda/Desktop/github/jbreda_animal_training/notebooks/fixation_publication\n"
     ]
    },
    {
     "data": {
      "text/html": [
       "<div>\n",
       "<style scoped>\n",
       "    .dataframe tbody tr th:only-of-type {\n",
       "        vertical-align: middle;\n",
       "    }\n",
       "\n",
       "    .dataframe tbody tr th {\n",
       "        vertical-align: top;\n",
       "    }\n",
       "\n",
       "    .dataframe thead th {\n",
       "        text-align: right;\n",
       "    }\n",
       "</style>\n",
       "<table border=\"1\" class=\"dataframe\">\n",
       "  <thead>\n",
       "    <tr style=\"text-align: right;\">\n",
       "      <th></th>\n",
       "      <th>sessid</th>\n",
       "      <th>animal_id</th>\n",
       "      <th>trial</th>\n",
       "      <th>cpoke_dur</th>\n",
       "      <th>cpoke_iti</th>\n",
       "      <th>post_settling_violation</th>\n",
       "      <th>settling_violation</th>\n",
       "      <th>was_rewarded</th>\n",
       "      <th>fixation_dur</th>\n",
       "      <th>date</th>\n",
       "      <th>stage</th>\n",
       "      <th>fix_experiment</th>\n",
       "      <th>relative_cpoke_dur</th>\n",
       "      <th>was_valid</th>\n",
       "      <th>cpoke_tit_timeout_adj</th>\n",
       "      <th>prev_was_valid</th>\n",
       "      <th>datetime_col</th>\n",
       "      <th>days_relative_to_stage_5</th>\n",
       "    </tr>\n",
       "  </thead>\n",
       "  <tbody>\n",
       "    <tr>\n",
       "      <th>0</th>\n",
       "      <td>965079</td>\n",
       "      <td>R047</td>\n",
       "      <td>1</td>\n",
       "      <td>0.2574</td>\n",
       "      <td>0.0223</td>\n",
       "      <td>0</td>\n",
       "      <td>1</td>\n",
       "      <td>0</td>\n",
       "      <td>0.401</td>\n",
       "      <td>01-Aug-2024 14:29:00</td>\n",
       "      <td>5.0</td>\n",
       "      <td>V2</td>\n",
       "      <td>-0.1436</td>\n",
       "      <td>False</td>\n",
       "      <td>0.0223</td>\n",
       "      <td>None</td>\n",
       "      <td>2024-08-01 14:29:00</td>\n",
       "      <td>0</td>\n",
       "    </tr>\n",
       "    <tr>\n",
       "      <th>1</th>\n",
       "      <td>965079</td>\n",
       "      <td>R047</td>\n",
       "      <td>1</td>\n",
       "      <td>0.0880</td>\n",
       "      <td>0.1134</td>\n",
       "      <td>0</td>\n",
       "      <td>1</td>\n",
       "      <td>0</td>\n",
       "      <td>0.401</td>\n",
       "      <td>01-Aug-2024 14:29:00</td>\n",
       "      <td>5.0</td>\n",
       "      <td>V2</td>\n",
       "      <td>-0.3130</td>\n",
       "      <td>False</td>\n",
       "      <td>0.1134</td>\n",
       "      <td>False</td>\n",
       "      <td>2024-08-01 14:29:00</td>\n",
       "      <td>0</td>\n",
       "    </tr>\n",
       "    <tr>\n",
       "      <th>2</th>\n",
       "      <td>965079</td>\n",
       "      <td>R047</td>\n",
       "      <td>1</td>\n",
       "      <td>0.0164</td>\n",
       "      <td>0.1020</td>\n",
       "      <td>0</td>\n",
       "      <td>1</td>\n",
       "      <td>0</td>\n",
       "      <td>0.401</td>\n",
       "      <td>01-Aug-2024 14:29:00</td>\n",
       "      <td>5.0</td>\n",
       "      <td>V2</td>\n",
       "      <td>-0.3846</td>\n",
       "      <td>False</td>\n",
       "      <td>0.1020</td>\n",
       "      <td>False</td>\n",
       "      <td>2024-08-01 14:29:00</td>\n",
       "      <td>0</td>\n",
       "    </tr>\n",
       "    <tr>\n",
       "      <th>3</th>\n",
       "      <td>965079</td>\n",
       "      <td>R047</td>\n",
       "      <td>1</td>\n",
       "      <td>0.0579</td>\n",
       "      <td>108.2671</td>\n",
       "      <td>0</td>\n",
       "      <td>1</td>\n",
       "      <td>0</td>\n",
       "      <td>0.401</td>\n",
       "      <td>01-Aug-2024 14:29:00</td>\n",
       "      <td>5.0</td>\n",
       "      <td>V2</td>\n",
       "      <td>-0.3431</td>\n",
       "      <td>False</td>\n",
       "      <td>108.2671</td>\n",
       "      <td>False</td>\n",
       "      <td>2024-08-01 14:29:00</td>\n",
       "      <td>0</td>\n",
       "    </tr>\n",
       "    <tr>\n",
       "      <th>4</th>\n",
       "      <td>965079</td>\n",
       "      <td>R047</td>\n",
       "      <td>1</td>\n",
       "      <td>0.0320</td>\n",
       "      <td>29.9668</td>\n",
       "      <td>0</td>\n",
       "      <td>1</td>\n",
       "      <td>0</td>\n",
       "      <td>0.401</td>\n",
       "      <td>01-Aug-2024 14:29:00</td>\n",
       "      <td>5.0</td>\n",
       "      <td>V2</td>\n",
       "      <td>-0.3690</td>\n",
       "      <td>False</td>\n",
       "      <td>29.9668</td>\n",
       "      <td>False</td>\n",
       "      <td>2024-08-01 14:29:00</td>\n",
       "      <td>0</td>\n",
       "    </tr>\n",
       "  </tbody>\n",
       "</table>\n",
       "</div>"
      ],
      "text/plain": [
       "   sessid animal_id  trial  cpoke_dur  cpoke_iti  post_settling_violation  \\\n",
       "0  965079      R047      1     0.2574     0.0223                        0   \n",
       "1  965079      R047      1     0.0880     0.1134                        0   \n",
       "2  965079      R047      1     0.0164     0.1020                        0   \n",
       "3  965079      R047      1     0.0579   108.2671                        0   \n",
       "4  965079      R047      1     0.0320    29.9668                        0   \n",
       "\n",
       "   settling_violation  was_rewarded  fixation_dur                  date  \\\n",
       "0                   1             0         0.401  01-Aug-2024 14:29:00   \n",
       "1                   1             0         0.401  01-Aug-2024 14:29:00   \n",
       "2                   1             0         0.401  01-Aug-2024 14:29:00   \n",
       "3                   1             0         0.401  01-Aug-2024 14:29:00   \n",
       "4                   1             0         0.401  01-Aug-2024 14:29:00   \n",
       "\n",
       "   stage fix_experiment  relative_cpoke_dur  was_valid  cpoke_tit_timeout_adj  \\\n",
       "0    5.0             V2             -0.1436      False                 0.0223   \n",
       "1    5.0             V2             -0.3130      False                 0.1134   \n",
       "2    5.0             V2             -0.3846      False                 0.1020   \n",
       "3    5.0             V2             -0.3431      False               108.2671   \n",
       "4    5.0             V2             -0.3690      False                29.9668   \n",
       "\n",
       "  prev_was_valid        datetime_col  days_relative_to_stage_5  \n",
       "0           None 2024-08-01 14:29:00                         0  \n",
       "1          False 2024-08-01 14:29:00                         0  \n",
       "2          False 2024-08-01 14:29:00                         0  \n",
       "3          False 2024-08-01 14:29:00                         0  \n",
       "4          False 2024-08-01 14:29:00                         0  "
      ]
     },
     "execution_count": 106,
     "metadata": {},
     "output_type": "execute_result"
    }
   ],
   "source": [
    "pdf = u.load_poke_df()\n",
    "\n",
    "outlier_df = pdf.query(\"animal_id == @OUTLIER_ANIMAL and stage in @c.GROWING_STAGES\")\n",
    "outlier_df = u.compute_days_relative_to_stage(outlier_df.copy(), 5)\n",
    "\n",
    "outlier_df.head()\n",
    "\n"
   ]
  },
  {
   "cell_type": "code",
   "execution_count": 107,
   "metadata": {},
   "outputs": [
    {
     "data": {
      "image/png": "[encoded data removed]",
      "text/plain": [
       "<Figure size 640x480 with 1 Axes>"
      ]
     },
     "metadata": {},
     "output_type": "display_data"
    }
   ],
   "source": [
    "max_trials = outlier_df.groupby(\"days_relative_to_stage_5\").trial.max().reset_index()\n",
    "sns.lineplot(max_trials, x=\"days_relative_to_stage_5\", y=\"trial\")\n",
    "_ = plt.xticks(rotation=90)\n"
   ]
  },
  {
   "cell_type": "code",
   "execution_count": 108,
   "metadata": {},
   "outputs": [
    {
     "name": "stdout",
     "output_type": "stream",
     "text": [
      "6     07-Aug-2024 15:03:56\n",
      "10    11-Aug-2024 14:00:55\n",
      "13    14-Aug-2024 14:23:33\n",
      "14    15-Aug-2024 14:21:29\n",
      "15    16-Aug-2024 14:27:07\n",
      "19    20-Aug-2024 14:17:12\n",
      "Name: date, dtype: object\n"
     ]
    }
   ],
   "source": [
    "max_trials = outlier_df.groupby(\"date\").trial.max().reset_index()\n",
    "dates_with_max_trials_less_than_20 = max_trials[max_trials[\"trial\"] < 20][\"date\"]\n",
    "print(dates_with_max_trials_less_than_20)"
   ]
  },
  {
   "cell_type": "code",
   "execution_count": 109,
   "metadata": {},
   "outputs": [
    {
     "data": {
      "text/plain": [
       "date\n",
       "07-Aug-2024 15:03:56     10\n",
       "11-Aug-2024 14:00:55     23\n",
       "14-Aug-2024 14:23:33     16\n",
       "15-Aug-2024 14:21:29      6\n",
       "16-Aug-2024 14:27:07    141\n",
       "20-Aug-2024 14:17:12     18\n",
       "dtype: int64"
      ]
     },
     "execution_count": 109,
     "metadata": {},
     "output_type": "execute_result"
    }
   ],
   "source": [
    "low_trial_pdf = outlier_df.query(\"date in @dates_with_max_trials_less_than_20\")\n",
    "low_trial_pdf.groupby(\"date\").size()"
   ]
  },
  {
   "cell_type": "code",
   "execution_count": 104,
   "metadata": {},
   "outputs": [
    {
     "name": "stdout",
     "output_type": "stream",
     "text": [
      "                    Mixed Linear Model Regression Results\n",
      "==============================================================================\n",
      "Model:                  MixedLM       Dependent Variable:       violation_rate\n",
      "No. Observations:       168           Method:                   REML          \n",
      "No. Groups:             17            Scale:                    0.0020        \n",
      "Min. group size:        9             Log-Likelihood:           243.1853      \n",
      "Max. group size:        10            Converged:                Yes           \n",
      "Mean group size:        9.9                                                   \n",
      "------------------------------------------------------------------------------\n",
      "                                    Coef.  Std.Err.   z    P>|z| [0.025 0.975]\n",
      "------------------------------------------------------------------------------\n",
      "Intercept                            0.126    0.043  2.913 0.004  0.041  0.210\n",
      "fix_experiment[T.V2]                -0.047    0.066 -0.707 0.480 -0.177  0.083\n",
      "days_to_target                       0.000    0.001  0.048 0.962 -0.002  0.003\n",
      "days_to_target:fix_experiment[T.V2]  0.005    0.004  1.224 0.221 -0.003  0.013\n",
      "Group Var                            0.004    0.035                           \n",
      "==============================================================================\n",
      "\n"
     ]
    },
    {
     "name": "stderr",
     "output_type": "stream",
     "text": [
      "/Users/jessbreda/anaconda3/envs/behav_viz/lib/python3.10/site-packages/statsmodels/regression/mixed_linear_model.py:2237: ConvergenceWarning: The MLE may be on the boundary of the parameter space.\n",
      "  warnings.warn(msg, ConvergenceWarning)\n"
     ]
    }
   ],
   "source": [
    "# Random intercepts by animal_id\n",
    "md = smf.mixedlm(\n",
    "    formula=\"violation_rate ~ days_to_target * fix_experiment\",\n",
    "    data=probe_time_and_viol_df,\n",
    "    groups=probe_time_and_viol_df[\"animal_id\"]\n",
    ")\n",
    "mdf = md.fit(method='lbfgs')  # or 'nlopt' etc., whichever converges best\n",
    "print(mdf.summary())"
   ]
  }
 ],
 "metadata": {
  "kernelspec": {
   "display_name": "behav_viz",
   "language": "python",
   "name": "python3"
  },
  "language_info": {
   "codemirror_mode": {
    "name": "ipython",
    "version": 3
   },
   "file_extension": ".py",
   "mimetype": "text/x-python",
   "name": "python",
   "nbconvert_exporter": "python",
   "pygments_lexer": "ipython3",
   "version": "3.10.0"
  }
 },
 "nbformat": 4,
 "nbformat_minor": 2
}
