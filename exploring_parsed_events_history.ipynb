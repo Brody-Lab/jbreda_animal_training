{
 "cells": [
  {
   "cell_type": "markdown",
   "metadata": {},
   "source": [
    "## Parsed Events History\n",
    "\n",
    "Notebook exploring how to read in parsed events history (peh) struct from matlab saved as a 32 bit blob in data joint into python. This structure contains timing information from the state machine in three categories: pokes, sates, and waves.\n",
    "\n",
    "Using code from Alvaro's tutorial notebook https://github.com/Brody-Lab/bl_pipeline_python/blob/main/notebooks/tutorials/Read_blob_Sessions.ipynb"
   ]
  },
  {
   "cell_type": "code",
   "execution_count": 13,
   "metadata": {},
   "outputs": [],
   "source": [
    "import datajoint as dj\n",
    "import utility.blob_transformation as bt\n",
    "import numpy as np\n",
    "import pylab as plt\n",
    "import matplotlib.patches as mpatches\n",
    "from matplotlib import cm\n",
    "\n",
    "import pandas as pd\n",
    "\n",
    "dj.blob.use_32bit_dims = True\n",
    "%reload_ext autoreload\n",
    "%autoreload 2"
   ]
  },
  {
   "cell_type": "code",
   "execution_count": 2,
   "metadata": {},
   "outputs": [],
   "source": [
    "def transform_blob(peh):\n",
    "\n",
    "    a = list() # a is the mega list everything gets unpacked into\n",
    "    for i in peh: # i = trial in peh\n",
    "        a.append(blob_to_dict(i))\n",
    "\n",
    "    return a\n",
    "\n",
    "def blob_to_dict(peh, parent_fields=None):\n",
    "    '''\n",
    "    Transform a numpy array to dictionary:\n",
    "    (numpy array are stored when saving Blobs in  MATLAB Datajoint, normally a dictionary will be the fit)\n",
    "    '''\n",
    "    array_test = peh\n",
    "    if parent_fields is None: # this is where you first grab states, waves, etc\n",
    "        fields_trial = array_test.dtype.names\n",
    "    else:\n",
    "        fields_trial = parent_fields\n",
    "\n",
    "        \n",
    "    out_array = list()\n",
    "    while 1:\n",
    "        \n",
    "        new_level = array_test[0]\n",
    "        new_level_fields_trial = new_level.dtype.names # named pokes,waves,states\n",
    "\n",
    "        if new_level_fields_trial != fields_trial:\n",
    "            break\n",
    "\n",
    "        array_test = array_test[0]\n",
    "\n",
    "    if new_level_fields_trial is not None:\n",
    "        \n",
    "        if len(array_test) == 1: # i think this is for protocol data\n",
    "            out_array = blob_to_dict(array_test[0], parent_fields=fields_trial)\n",
    "        else:\n",
    "            a = list()\n",
    "            for i in array_test: # think of array test as a dict with keys pokes, waves states and you're iterating over the values in those keys\n",
    "                a.append(blob_to_dict(i, parent_fields=fields_trial))\n",
    "\n",
    "            int_dict = dict()\n",
    "            for idx, field in enumerate(fields_trial):\n",
    "                int_dict[field] = a[idx]\n",
    "                out_array = int_dict\n",
    "\n",
    "    else:\n",
    "        out_array = mymblob_to_dict2(array_test)\n",
    "    \n",
    "    return out_array\n",
    "\n",
    "def mymblob_to_dict2(np_array, as_int=True):\n",
    "    '''\n",
    "    Transform a numpy array to dictionary:\n",
    "    (numpy array are stored when saving Blobs in  MATLAB Datajoint, normally a dictionary will be the fit)\n",
    "    '''\n",
    "\n",
    "    fields = np_array.dtype.names\n",
    "\n",
    "    out_dict = dict()\n",
    "    for idx, field in enumerate(np_array):\n",
    "        if isinstance(field, dj.blob.MatStruct):\n",
    "            out_dict[fields[idx]] = blob_to_dict(field)\n",
    "        else:\n",
    "            l=len(field) if field.shape else 0\n",
    "            if l==1:\n",
    "                field = field[0]\n",
    "            out_dict[fields[idx]] = field\n",
    "            \n",
    "\n",
    "    return out_dict"
   ]
  },
  {
   "cell_type": "code",
   "execution_count": 19,
   "metadata": {},
   "outputs": [],
   "source": [
    "bdata = dj.create_virtual_module('new_acquisition', 'bdatatest')\n",
    "session_key = {'sessid': 881918}\n",
    "peh_blob = (bdata.ParsedEvents & session_key).fetch(as_dict=True)"
   ]
  },
  {
   "cell_type": "markdown",
   "metadata": {},
   "source": []
  },
  {
   "cell_type": "code",
   "execution_count": 51,
   "metadata": {},
   "outputs": [
    {
     "data": {
      "text/plain": [
       "270"
      ]
     },
     "execution_count": 51,
     "metadata": {},
     "output_type": "execute_result"
    }
   ],
   "source": [
    "n_sessions = 1\n",
    "peh_dict = transform_blob(peh_blob[n_sessions-1]['peh'])\n",
    "n_trials = len(peh_dict)"
   ]
  },
  {
   "cell_type": "markdown",
   "metadata": {},
   "source": [
    "### Pokes"
   ]
  },
  {
   "cell_type": "code",
   "execution_count": 28,
   "metadata": {},
   "outputs": [
    {
     "data": {
      "text/plain": [
       "{'C': array([[498.043904, 498.140904],\n",
       "        [504.694404, 504.848804],\n",
       "        [505.149804, 505.187504]]),\n",
       " 'L': array([[496.349804, 496.529304],\n",
       "        [496.548704, 496.734404],\n",
       "        [496.804004, 497.236404],\n",
       "        [499.535904, 499.686704],\n",
       "        [503.657904, 504.344204]]),\n",
       " 'R': array([[498.539004, 499.202904],\n",
       "        [505.425804, 505.920504]]),\n",
       " 'starting_state': {'C': 'out', 'L': 'out', 'R': 'out'},\n",
       " 'ending_state': {'C': 'out', 'L': 'out', 'R': 'out'}}"
      ]
     },
     "execution_count": 28,
     "metadata": {},
     "output_type": "execute_result"
    }
   ],
   "source": [
    "itrial = 0\n",
    "\n",
    "peh_dict[itrial]['pokes']"
   ]
  },
  {
   "cell_type": "markdown",
   "metadata": {},
   "source": [
    "### States"
   ]
  },
  {
   "cell_type": "code",
   "execution_count": 40,
   "metadata": {},
   "outputs": [
    {
     "data": {
      "text/plain": [
       "dict_keys(['state_0', 'check_next_trial_ready', 'wait_for_cpoke', 'cpoke', 'wait_for_sounds_to_end', 'early_spoke_state', 'give_reward', 'wait_for_spoke', 'hit_state', 'drink_state', 'temp_error_state', 'wait_for_spoke_retry', 'retry_hit_state', 'error_state', 'violation_state', 'violation_penalty_state', 'general_final_state', 'hit_final_state', 'error_final_state', 'violation_final_state', 'starting_state', 'ending_state'])"
      ]
     },
     "execution_count": 40,
     "metadata": {},
     "output_type": "execute_result"
    }
   ],
   "source": [
    "peh_dict[itrial]['states'].keys()"
   ]
  },
  {
   "cell_type": "markdown",
   "metadata": {},
   "source": [
    "##### Checking if empty"
   ]
  },
  {
   "cell_type": "code",
   "execution_count": 35,
   "metadata": {},
   "outputs": [
    {
     "data": {
      "text/plain": [
       "0"
      ]
     },
     "execution_count": 35,
     "metadata": {},
     "output_type": "execute_result"
    }
   ],
   "source": [
    "len(peh_dict[itrial]['states']['early_spoke_state'])"
   ]
  },
  {
   "cell_type": "code",
   "execution_count": 38,
   "metadata": {},
   "outputs": [
    {
     "data": {
      "text/plain": [
       "0"
      ]
     },
     "execution_count": 38,
     "metadata": {},
     "output_type": "execute_result"
    }
   ],
   "source": [
    "peh_dict[itrial]['states'].get('early_spoke_state').size"
   ]
  },
  {
   "cell_type": "code",
   "execution_count": 76,
   "metadata": {},
   "outputs": [
    {
     "data": {
      "text/plain": [
       "2"
      ]
     },
     "execution_count": 76,
     "metadata": {},
     "output_type": "execute_result"
    }
   ],
   "source": [
    "peh_dict[1]['states']['cpoke'].size"
   ]
  },
  {
   "cell_type": "code",
   "execution_count": 53,
   "metadata": {},
   "outputs": [
    {
     "data": {
      "text/plain": [
       "505.42580399999997"
      ]
     },
     "execution_count": 53,
     "metadata": {},
     "output_type": "execute_result"
    }
   ],
   "source": [
    "peh_dict[itrial]['states']['wait_for_spoke'][1]"
   ]
  },
  {
   "cell_type": "markdown",
   "metadata": {},
   "source": [
    "#### average early spoke time"
   ]
  },
  {
   "cell_type": "code",
   "execution_count": 81,
   "metadata": {},
   "outputs": [],
   "source": [
    "time_to_side_poke = []\n",
    "trial_length = []\n",
    "\n",
    "for itrial in range(n_trials):\n",
    "    spoke_time = peh_dict[itrial]['states']['wait_for_spoke'][1]\n",
    "    if peh_dict[itrial]['states']['cpoke'].size > 2:\n",
    "        cpoke_time = peh_dict[itrial]['states']['cpoke'][-1][0]\n",
    "    else:\n",
    "        cpoke_time = peh_dict[itrial]['states']['cpoke'][0]\n",
    "    gosound_time = peh_dict[itrial]['waves']['go_sound_wave'][0]\n",
    "    time_to_side_poke.append(spoke_time - cpoke_time)\n",
    "    trial_length.append(gosound_time- cpoke_time)\n",
    "\n",
    "time_to_side_poke = np.array(time_to_side_poke)\n",
    "trial_length = np.array(trial_length)\n",
    "\n"
   ]
  },
  {
   "cell_type": "code",
   "execution_count": 82,
   "metadata": {},
   "outputs": [],
   "source": [
    "diff = trial_length - time_to_side_poke"
   ]
  },
  {
   "cell_type": "code",
   "execution_count": 85,
   "metadata": {},
   "outputs": [
    {
     "data": {
      "text/plain": [
       "(array([204.,  13.,   6.,   4.,   1.,  34.,   1.,   2.,   2.,   3.]),\n",
       " array([0.7002 , 0.75918, 0.81816, 0.87714, 0.93612, 0.9951 , 1.05408,\n",
       "        1.11306, 1.17204, 1.23102, 1.29   ]),\n",
       " <BarContainer object of 10 artists>)"
      ]
     },
     "execution_count": 85,
     "metadata": {},
     "output_type": "execute_result"
    },
    {
     "data": {
      "image/png": "[encoded data removed]",
      "text/plain": [
       "<Figure size 432x288 with 1 Axes>"
      ]
     },
     "metadata": {
      "needs_background": "light"
     },
     "output_type": "display_data"
    }
   ],
   "source": [
    "plt.hist(time_to_side_poke)"
   ]
  },
  {
   "cell_type": "markdown",
   "metadata": {},
   "source": [
    "### Waves"
   ]
  },
  {
   "cell_type": "code",
   "execution_count": 43,
   "metadata": {},
   "outputs": [
    {
     "data": {
      "text/plain": [
       "dict_keys(['cp_fixation_wave', 'sa_sound_wave', 'sb_sound_wave', 'go_sound_wave', 'starting_state', 'ending_state'])"
      ]
     },
     "execution_count": 43,
     "metadata": {},
     "output_type": "execute_result"
    }
   ],
   "source": [
    "peh_dict[itrial]['waves'].keys()"
   ]
  },
  {
   "cell_type": "code",
   "execution_count": 54,
   "metadata": {},
   "outputs": [
    {
     "data": {
      "text/plain": [
       "array([], shape=(0, 2), dtype=float64)"
      ]
     },
     "execution_count": 54,
     "metadata": {},
     "output_type": "execute_result"
    }
   ],
   "source": [
    "peh_dict[itrial]['waves']['cp_fixation_wave']"
   ]
  },
  {
   "cell_type": "code",
   "execution_count": 56,
   "metadata": {},
   "outputs": [
    {
     "name": "stdout",
     "output_type": "stream",
     "text": [
      "505.394404\n",
      "505.394404\n",
      "505.394404\n",
      "505.394404\n",
      "505.394404\n",
      "505.394404\n",
      "505.394404\n",
      "505.394404\n",
      "505.394404\n",
      "505.394404\n",
      "505.394404\n",
      "505.394404\n",
      "505.394404\n",
      "505.394404\n",
      "505.394404\n",
      "505.394404\n",
      "505.394404\n",
      "505.394404\n",
      "505.394404\n",
      "505.394404\n",
      "505.394404\n",
      "505.394404\n",
      "505.394404\n",
      "505.394404\n",
      "505.394404\n",
      "505.394404\n",
      "505.394404\n",
      "505.394404\n",
      "505.394404\n",
      "505.394404\n",
      "505.394404\n",
      "505.394404\n",
      "505.394404\n",
      "505.394404\n",
      "505.394404\n",
      "505.394404\n",
      "505.394404\n",
      "505.394404\n",
      "505.394404\n",
      "505.394404\n",
      "505.394404\n",
      "505.394404\n",
      "505.394404\n",
      "505.394404\n",
      "505.394404\n",
      "505.394404\n",
      "505.394404\n",
      "505.394404\n",
      "505.394404\n",
      "505.394404\n",
      "505.394404\n",
      "505.394404\n",
      "505.394404\n",
      "505.394404\n",
      "505.394404\n",
      "505.394404\n",
      "505.394404\n",
      "505.394404\n",
      "505.394404\n",
      "505.394404\n",
      "505.394404\n",
      "505.394404\n",
      "505.394404\n",
      "505.394404\n",
      "505.394404\n",
      "505.394404\n",
      "505.394404\n",
      "505.394404\n",
      "505.394404\n",
      "505.394404\n",
      "505.394404\n",
      "505.394404\n",
      "505.394404\n",
      "505.394404\n",
      "505.394404\n",
      "505.394404\n",
      "505.394404\n",
      "505.394404\n",
      "505.394404\n",
      "505.394404\n",
      "505.394404\n",
      "505.394404\n",
      "505.394404\n",
      "505.394404\n",
      "505.394404\n",
      "505.394404\n",
      "505.394404\n",
      "505.394404\n",
      "505.394404\n",
      "505.394404\n",
      "505.394404\n",
      "505.394404\n",
      "505.394404\n",
      "505.394404\n",
      "505.394404\n",
      "505.394404\n",
      "505.394404\n",
      "505.394404\n",
      "505.394404\n",
      "505.394404\n",
      "505.394404\n",
      "505.394404\n",
      "505.394404\n",
      "505.394404\n",
      "505.394404\n",
      "505.394404\n",
      "505.394404\n",
      "505.394404\n",
      "505.394404\n",
      "505.394404\n",
      "505.394404\n",
      "505.394404\n",
      "505.394404\n",
      "505.394404\n",
      "505.394404\n",
      "505.394404\n",
      "505.394404\n",
      "505.394404\n",
      "505.394404\n",
      "505.394404\n",
      "505.394404\n",
      "505.394404\n",
      "505.394404\n",
      "505.394404\n",
      "505.394404\n",
      "505.394404\n",
      "505.394404\n",
      "505.394404\n",
      "505.394404\n",
      "505.394404\n",
      "505.394404\n",
      "505.394404\n",
      "505.394404\n",
      "505.394404\n",
      "505.394404\n",
      "505.394404\n",
      "505.394404\n",
      "505.394404\n",
      "505.394404\n",
      "505.394404\n",
      "505.394404\n",
      "505.394404\n",
      "505.394404\n",
      "505.394404\n",
      "505.394404\n",
      "505.394404\n",
      "505.394404\n",
      "505.394404\n",
      "505.394404\n",
      "505.394404\n",
      "505.394404\n",
      "505.394404\n",
      "505.394404\n",
      "505.394404\n",
      "505.394404\n",
      "505.394404\n",
      "505.394404\n",
      "505.394404\n",
      "505.394404\n",
      "505.394404\n",
      "505.394404\n",
      "505.394404\n",
      "505.394404\n",
      "505.394404\n",
      "505.394404\n",
      "505.394404\n",
      "505.394404\n",
      "505.394404\n",
      "505.394404\n",
      "505.394404\n",
      "505.394404\n",
      "505.394404\n",
      "505.394404\n",
      "505.394404\n",
      "505.394404\n",
      "505.394404\n",
      "505.394404\n",
      "505.394404\n",
      "505.394404\n",
      "505.394404\n",
      "505.394404\n",
      "505.394404\n",
      "505.394404\n",
      "505.394404\n",
      "505.394404\n",
      "505.394404\n",
      "505.394404\n",
      "505.394404\n",
      "505.394404\n",
      "505.394404\n",
      "505.394404\n",
      "505.394404\n",
      "505.394404\n",
      "505.394404\n",
      "505.394404\n",
      "505.394404\n",
      "505.394404\n",
      "505.394404\n",
      "505.394404\n",
      "505.394404\n",
      "505.394404\n",
      "505.394404\n",
      "505.394404\n",
      "505.394404\n",
      "505.394404\n",
      "505.394404\n",
      "505.394404\n",
      "505.394404\n",
      "505.394404\n",
      "505.394404\n",
      "505.394404\n",
      "505.394404\n",
      "505.394404\n",
      "505.394404\n",
      "505.394404\n",
      "505.394404\n",
      "505.394404\n",
      "505.394404\n",
      "505.394404\n",
      "505.394404\n",
      "505.394404\n",
      "505.394404\n",
      "505.394404\n",
      "505.394404\n",
      "505.394404\n",
      "505.394404\n",
      "505.394404\n",
      "505.394404\n",
      "505.394404\n",
      "505.394404\n",
      "505.394404\n",
      "505.394404\n",
      "505.394404\n",
      "505.394404\n",
      "505.394404\n",
      "505.394404\n",
      "505.394404\n",
      "505.394404\n",
      "505.394404\n",
      "505.394404\n",
      "505.394404\n",
      "505.394404\n",
      "505.394404\n",
      "505.394404\n",
      "505.394404\n",
      "505.394404\n",
      "505.394404\n",
      "505.394404\n",
      "505.394404\n",
      "505.394404\n",
      "505.394404\n",
      "505.394404\n",
      "505.394404\n",
      "505.394404\n",
      "505.394404\n",
      "505.394404\n",
      "505.394404\n",
      "505.394404\n",
      "505.394404\n",
      "505.394404\n",
      "505.394404\n",
      "505.394404\n",
      "505.394404\n",
      "505.394404\n",
      "505.394404\n",
      "505.394404\n",
      "505.394404\n",
      "505.394404\n",
      "505.394404\n",
      "505.394404\n"
     ]
    }
   ],
   "source": [
    "for i in range(n_trials):\n",
    "    print(peh_dict[itrial]['waves']['go_sound_wave'][0])\n"
   ]
  },
  {
   "cell_type": "code",
   "execution_count": null,
   "metadata": {},
   "outputs": [],
   "source": []
  }
 ],
 "metadata": {
  "kernelspec": {
   "display_name": "Python 3.7.0 ('bl_pipeline_python_env')",
   "language": "python",
   "name": "python3"
  },
  "language_info": {
   "codemirror_mode": {
    "name": "ipython",
    "version": 3
   },
   "file_extension": ".py",
   "mimetype": "text/x-python",
   "name": "python",
   "nbconvert_exporter": "python",
   "pygments_lexer": "ipython3",
   "version": "3.7.0"
  },
  "orig_nbformat": 4,
  "vscode": {
   "interpreter": {
    "hash": "0ec6688778bd9047196320f397d807773899ee0db7462e335e13c74021d5b49d"
   }
  }
 },
 "nbformat": 4,
 "nbformat_minor": 2
}
