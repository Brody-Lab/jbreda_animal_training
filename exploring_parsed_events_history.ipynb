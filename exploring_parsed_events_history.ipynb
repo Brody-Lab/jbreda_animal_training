{
 "cells": [
  {
   "cell_type": "markdown",
   "metadata": {},
   "source": [
    "## Parsed Events History\n",
    "\n",
    "Notebook exploring how to read in parsed events history (peh) struct from matlab saved as a 32 bit blob in data joint into python. This structure contains timing information from the state machine in three categories: pokes, sates, and waves.\n",
    "\n",
    "Using code from Alvaro's tutorial notebook https://github.com/Brody-Lab/bl_pipeline_python/blob/main/notebooks/tutorials/Read_blob_Sessions.ipynb"
   ]
  },
  {
   "cell_type": "code",
   "execution_count": 81,
   "metadata": {},
   "outputs": [
    {
     "name": "stdout",
     "output_type": "stream",
     "text": [
      "The autoreload extension is already loaded. To reload it, use:\n",
      "  %reload_ext autoreload\n"
     ]
    }
   ],
   "source": [
    "import datajoint as dj\n",
    "import blob_transformation as bt\n",
    "import numpy as np\n",
    "import pylab as plt\n",
    "import matplotlib.patches as mpatches\n",
    "from matplotlib import cm\n",
    "from peh_utils import *\n",
    "\n",
    "import pandas as pd\n",
    "\n",
    "dj.blob.use_32bit_dims = True\n",
    "%load_ext autoreload\n",
    "%autoreload 2"
   ]
  },
  {
   "cell_type": "code",
   "execution_count": 3,
   "metadata": {},
   "outputs": [
    {
     "name": "stderr",
     "output_type": "stream",
     "text": [
      "[2022-09-19 14:47:25,820][INFO]: Connecting jbreda@datajoint01.pni.princeton.edu:3306\n",
      "[2022-09-19 14:47:26,494][INFO]: Connected jbreda@datajoint01.pni.princeton.edu:3306\n"
     ]
    }
   ],
   "source": [
    "bdata = dj.create_virtual_module('new_acquisition', 'bdatatest')\n",
    "session_key = {'sessid': 881918}\n",
    "peh_blob = (bdata.ParsedEvents & session_key).fetch(as_dict=True)"
   ]
  },
  {
   "cell_type": "markdown",
   "metadata": {},
   "source": []
  },
  {
   "cell_type": "code",
   "execution_count": 4,
   "metadata": {},
   "outputs": [],
   "source": [
    "n_sessions = 1\n",
    "peh_dict = bt.transform_blob(peh_blob[n_sessions-1]['peh'])\n",
    "n_trials = len(peh_dict)"
   ]
  },
  {
   "cell_type": "markdown",
   "metadata": {},
   "source": [
    "### Pokes"
   ]
  },
  {
   "cell_type": "code",
   "execution_count": 5,
   "metadata": {},
   "outputs": [
    {
     "data": {
      "text/plain": [
       "{'C': array([[498.043904, 498.140904],\n",
       "        [504.694404, 504.848804],\n",
       "        [505.149804, 505.187504]]),\n",
       " 'L': array([[496.349804, 496.529304],\n",
       "        [496.548704, 496.734404],\n",
       "        [496.804004, 497.236404],\n",
       "        [499.535904, 499.686704],\n",
       "        [503.657904, 504.344204]]),\n",
       " 'R': array([[498.539004, 499.202904],\n",
       "        [505.425804, 505.920504]]),\n",
       " 'starting_state': {'C': 'out', 'L': 'out', 'R': 'out'},\n",
       " 'ending_state': {'C': 'out', 'L': 'out', 'R': 'out'}}"
      ]
     },
     "execution_count": 5,
     "metadata": {},
     "output_type": "execute_result"
    }
   ],
   "source": [
    "itrial = 0\n",
    "\n",
    "peh_dict[itrial]['pokes']"
   ]
  },
  {
   "cell_type": "markdown",
   "metadata": {},
   "source": [
    "### States"
   ]
  },
  {
   "cell_type": "code",
   "execution_count": 6,
   "metadata": {},
   "outputs": [
    {
     "data": {
      "text/plain": [
       "dict_keys(['state_0', 'check_next_trial_ready', 'wait_for_cpoke', 'cpoke', 'wait_for_sounds_to_end', 'early_spoke_state', 'give_reward', 'wait_for_spoke', 'hit_state', 'drink_state', 'temp_error_state', 'wait_for_spoke_retry', 'retry_hit_state', 'error_state', 'violation_state', 'violation_penalty_state', 'general_final_state', 'hit_final_state', 'error_final_state', 'violation_final_state', 'starting_state', 'ending_state'])"
      ]
     },
     "execution_count": 6,
     "metadata": {},
     "output_type": "execute_result"
    }
   ],
   "source": [
    "peh_dict[itrial]['states'].keys()"
   ]
  },
  {
   "cell_type": "code",
   "execution_count": 58,
   "metadata": {},
   "outputs": [
    {
     "data": {
      "text/plain": [
       "0"
      ]
     },
     "execution_count": 58,
     "metadata": {},
     "output_type": "execute_result"
    }
   ],
   "source": [
    "peh_dict[itrial]['states']['hit_state'].size"
   ]
  },
  {
   "cell_type": "code",
   "execution_count": 88,
   "metadata": {},
   "outputs": [],
   "source": [
    "\n",
    "keys = ['t_start', 't_end', 'cpoke_in', 'cpoke_out', 'spoke_in']\n",
    "peh_trials_dict = {key : (np.nan * np.ones((n_trials))) for key in keys }\n",
    "\n",
    "for it in range(n_trials):\n",
    "    \n",
    "    # renaming to keep the lines of code shorter\n",
    "    trial_states = peh_dict[it]['states']\n",
    "    trial_pokes = peh_dict[it]['pokes']\n",
    "\n",
    "    # trial start and end time indicated by state 0 for all protocols\n",
    "    peh_trials_dict['t_start'][it] = trial_states['state_0'][0][1]\n",
    "    peh_trials_dict['t_end'][it] = trial_states['state_0'][1][0]\n",
    "\n",
    "    # cpoke that initiated the trial\n",
    "    peh_trials_dict['cpoke_in'][it], peh_trials_dict['cpoke_out'][it] = fetch_trial_start_cpoke(trial_states)\n",
    "    # first spoke after trial initialization\n",
    "    peh_trials_dict['spoke_in'][it] = fetch_first_spoke(trial_states)\n",
    "    "
   ]
  },
  {
   "cell_type": "code",
   "execution_count": 90,
   "metadata": {},
   "outputs": [
    {
     "data": {
      "text/plain": [
       "(array([204.,  13.,   6.,   4.,   1.,  34.,   1.,   2.,   2.,   3.]),\n",
       " array([0.7002 , 0.75918, 0.81816, 0.87714, 0.93612, 0.9951 , 1.05408,\n",
       "        1.11306, 1.17204, 1.23102, 1.29   ]),\n",
       " <BarContainer object of 10 artists>)"
      ]
     },
     "execution_count": 90,
     "metadata": {},
     "output_type": "execute_result"
    },
    {
     "data": {
      "image/png": "[encoded data removed]",
      "text/plain": [
       "<Figure size 640x480 with 1 Axes>"
      ]
     },
     "metadata": {},
     "output_type": "display_data"
    }
   ],
   "source": [
    "plt.hist(peh_trials_dict['spoke_in'] - peh_trials_dict['cpoke_in'])"
   ]
  },
  {
   "cell_type": "markdown",
   "metadata": {},
   "source": [
    "### Waves"
   ]
  },
  {
   "cell_type": "code",
   "execution_count": null,
   "metadata": {},
   "outputs": [],
   "source": [
    "peh[itrial]"
   ]
  },
  {
   "cell_type": "code",
   "execution_count": 47,
   "metadata": {},
   "outputs": [
    {
     "data": {
      "text/plain": [
       "dict"
      ]
     },
     "execution_count": 47,
     "metadata": {},
     "output_type": "execute_result"
    }
   ],
   "source": [
    "type(peh_dict[itrial]['waves'])"
   ]
  },
  {
   "cell_type": "markdown",
   "metadata": {},
   "source": [
    "##### Checking if empty"
   ]
  },
  {
   "cell_type": "code",
   "execution_count": 35,
   "metadata": {},
   "outputs": [
    {
     "data": {
      "text/plain": [
       "0"
      ]
     },
     "execution_count": 35,
     "metadata": {},
     "output_type": "execute_result"
    }
   ],
   "source": [
    "len(peh_dict[itrial]['states']['early_spoke_state'])"
   ]
  },
  {
   "cell_type": "code",
   "execution_count": 38,
   "metadata": {},
   "outputs": [
    {
     "data": {
      "text/plain": [
       "0"
      ]
     },
     "execution_count": 38,
     "metadata": {},
     "output_type": "execute_result"
    }
   ],
   "source": [
    "peh_dict[itrial]['states'].get('early_spoke_state').size"
   ]
  },
  {
   "cell_type": "code",
   "execution_count": 76,
   "metadata": {},
   "outputs": [
    {
     "data": {
      "text/plain": [
       "2"
      ]
     },
     "execution_count": 76,
     "metadata": {},
     "output_type": "execute_result"
    }
   ],
   "source": [
    "peh_dict[1]['states']['cpoke'].size"
   ]
  },
  {
   "cell_type": "code",
   "execution_count": 53,
   "metadata": {},
   "outputs": [
    {
     "data": {
      "text/plain": [
       "505.42580399999997"
      ]
     },
     "execution_count": 53,
     "metadata": {},
     "output_type": "execute_result"
    }
   ],
   "source": [
    "peh_dict[itrial]['states']['wait_for_spoke'][1]"
   ]
  },
  {
   "cell_type": "markdown",
   "metadata": {},
   "source": [
    "#### average early spoke time"
   ]
  },
  {
   "cell_type": "code",
   "execution_count": 81,
   "metadata": {},
   "outputs": [],
   "source": [
    "time_to_side_poke = []\n",
    "trial_length = []\n",
    "\n",
    "for itrial in range(n_trials):\n",
    "    spoke_time = peh_dict[itrial]['states']['wait_for_spoke'][1]\n",
    "    if peh_dict[itrial]['states']['cpoke'].size > 2:\n",
    "        cpoke_time = peh_dict[itrial]['states']['cpoke'][-1][0]\n",
    "    else:\n",
    "        cpoke_time = peh_dict[itrial]['states']['cpoke'][0]\n",
    "    gosound_time = peh_dict[itrial]['waves']['go_sound_wave'][0]\n",
    "    time_to_side_poke.append(spoke_time - cpoke_time)\n",
    "    trial_length.append(gosound_time- cpoke_time)\n",
    "\n",
    "time_to_side_poke = np.array(time_to_side_poke)\n",
    "trial_length = np.array(trial_length)\n",
    "\n"
   ]
  },
  {
   "cell_type": "code",
   "execution_count": 82,
   "metadata": {},
   "outputs": [],
   "source": [
    "diff = trial_length - time_to_side_poke"
   ]
  },
  {
   "cell_type": "code",
   "execution_count": 85,
   "metadata": {},
   "outputs": [
    {
     "data": {
      "text/plain": [
       "(array([204.,  13.,   6.,   4.,   1.,  34.,   1.,   2.,   2.,   3.]),\n",
       " array([0.7002 , 0.75918, 0.81816, 0.87714, 0.93612, 0.9951 , 1.05408,\n",
       "        1.11306, 1.17204, 1.23102, 1.29   ]),\n",
       " <BarContainer object of 10 artists>)"
      ]
     },
     "execution_count": 85,
     "metadata": {},
     "output_type": "execute_result"
    },
    {
     "data": {
      "image/png": "[encoded data removed]",
      "text/plain": [
       "<Figure size 432x288 with 1 Axes>"
      ]
     },
     "metadata": {
      "needs_background": "light"
     },
     "output_type": "display_data"
    }
   ],
   "source": [
    "plt.hist(time_to_side_poke)"
   ]
  },
  {
   "cell_type": "markdown",
   "metadata": {},
   "source": [
    "### Waves"
   ]
  },
  {
   "cell_type": "code",
   "execution_count": 43,
   "metadata": {},
   "outputs": [
    {
     "data": {
      "text/plain": [
       "dict_keys(['cp_fixation_wave', 'sa_sound_wave', 'sb_sound_wave', 'go_sound_wave', 'starting_state', 'ending_state'])"
      ]
     },
     "execution_count": 43,
     "metadata": {},
     "output_type": "execute_result"
    }
   ],
   "source": [
    "peh_dict[itrial]['waves'].keys()"
   ]
  },
  {
   "cell_type": "code",
   "execution_count": 54,
   "metadata": {},
   "outputs": [
    {
     "data": {
      "text/plain": [
       "array([], shape=(0, 2), dtype=float64)"
      ]
     },
     "execution_count": 54,
     "metadata": {},
     "output_type": "execute_result"
    }
   ],
   "source": [
    "peh_dict[itrial]['waves']['cp_fixation_wave']"
   ]
  },
  {
   "cell_type": "markdown",
   "metadata": {},
   "source": []
  },
  {
   "cell_type": "code",
   "execution_count": 56,
   "metadata": {},
   "outputs": [
    {
     "name": "stdout",
     "output_type": "stream",
     "text": [
      "505.394404\n",
      "505.394404\n",
      "505.394404\n",
      "505.394404\n",
      "505.394404\n",
      "505.394404\n",
      "505.394404\n",
      "505.394404\n",
      "505.394404\n",
      "505.394404\n",
      "505.394404\n",
      "505.394404\n",
      "505.394404\n",
      "505.394404\n",
      "505.394404\n",
      "505.394404\n",
      "505.394404\n",
      "505.394404\n",
      "505.394404\n",
      "505.394404\n",
      "505.394404\n",
      "505.394404\n",
      "505.394404\n",
      "505.394404\n",
      "505.394404\n",
      "505.394404\n",
      "505.394404\n",
      "505.394404\n",
      "505.394404\n",
      "505.394404\n",
      "505.394404\n",
      "505.394404\n",
      "505.394404\n",
      "505.394404\n",
      "505.394404\n",
      "505.394404\n",
      "505.394404\n",
      "505.394404\n",
      "505.394404\n",
      "505.394404\n",
      "505.394404\n",
      "505.394404\n",
      "505.394404\n",
      "505.394404\n",
      "505.394404\n",
      "505.394404\n",
      "505.394404\n",
      "505.394404\n",
      "505.394404\n",
      "505.394404\n",
      "505.394404\n",
      "505.394404\n",
      "505.394404\n",
      "505.394404\n",
      "505.394404\n",
      "505.394404\n",
      "505.394404\n",
      "505.394404\n",
      "505.394404\n",
      "505.394404\n",
      "505.394404\n",
      "505.394404\n",
      "505.394404\n",
      "505.394404\n",
      "505.394404\n",
      "505.394404\n",
      "505.394404\n",
      "505.394404\n",
      "505.394404\n",
      "505.394404\n",
      "505.394404\n",
      "505.394404\n",
      "505.394404\n",
      "505.394404\n",
      "505.394404\n",
      "505.394404\n",
      "505.394404\n",
      "505.394404\n",
      "505.394404\n",
      "505.394404\n",
      "505.394404\n",
      "505.394404\n",
      "505.394404\n",
      "505.394404\n",
      "505.394404\n",
      "505.394404\n",
      "505.394404\n",
      "505.394404\n",
      "505.394404\n",
      "505.394404\n",
      "505.394404\n",
      "505.394404\n",
      "505.394404\n",
      "505.394404\n",
      "505.394404\n",
      "505.394404\n",
      "505.394404\n",
      "505.394404\n",
      "505.394404\n",
      "505.394404\n",
      "505.394404\n",
      "505.394404\n",
      "505.394404\n",
      "505.394404\n",
      "505.394404\n",
      "505.394404\n",
      "505.394404\n",
      "505.394404\n",
      "505.394404\n",
      "505.394404\n",
      "505.394404\n",
      "505.394404\n",
      "505.394404\n",
      "505.394404\n",
      "505.394404\n",
      "505.394404\n",
      "505.394404\n",
      "505.394404\n",
      "505.394404\n",
      "505.394404\n",
      "505.394404\n",
      "505.394404\n",
      "505.394404\n",
      "505.394404\n",
      "505.394404\n",
      "505.394404\n",
      "505.394404\n",
      "505.394404\n",
      "505.394404\n",
      "505.394404\n",
      "505.394404\n",
      "505.394404\n",
      "505.394404\n",
      "505.394404\n",
      "505.394404\n",
      "505.394404\n",
      "505.394404\n",
      "505.394404\n",
      "505.394404\n",
      "505.394404\n",
      "505.394404\n",
      "505.394404\n",
      "505.394404\n",
      "505.394404\n",
      "505.394404\n",
      "505.394404\n",
      "505.394404\n",
      "505.394404\n",
      "505.394404\n",
      "505.394404\n",
      "505.394404\n",
      "505.394404\n",
      "505.394404\n",
      "505.394404\n",
      "505.394404\n",
      "505.394404\n",
      "505.394404\n",
      "505.394404\n",
      "505.394404\n",
      "505.394404\n",
      "505.394404\n",
      "505.394404\n",
      "505.394404\n",
      "505.394404\n",
      "505.394404\n",
      "505.394404\n",
      "505.394404\n",
      "505.394404\n",
      "505.394404\n",
      "505.394404\n",
      "505.394404\n",
      "505.394404\n",
      "505.394404\n",
      "505.394404\n",
      "505.394404\n",
      "505.394404\n",
      "505.394404\n",
      "505.394404\n",
      "505.394404\n",
      "505.394404\n",
      "505.394404\n",
      "505.394404\n",
      "505.394404\n",
      "505.394404\n",
      "505.394404\n",
      "505.394404\n",
      "505.394404\n",
      "505.394404\n",
      "505.394404\n",
      "505.394404\n",
      "505.394404\n",
      "505.394404\n",
      "505.394404\n",
      "505.394404\n",
      "505.394404\n",
      "505.394404\n",
      "505.394404\n",
      "505.394404\n",
      "505.394404\n",
      "505.394404\n",
      "505.394404\n",
      "505.394404\n",
      "505.394404\n",
      "505.394404\n",
      "505.394404\n",
      "505.394404\n",
      "505.394404\n",
      "505.394404\n",
      "505.394404\n",
      "505.394404\n",
      "505.394404\n",
      "505.394404\n",
      "505.394404\n",
      "505.394404\n",
      "505.394404\n",
      "505.394404\n",
      "505.394404\n",
      "505.394404\n",
      "505.394404\n",
      "505.394404\n",
      "505.394404\n",
      "505.394404\n",
      "505.394404\n",
      "505.394404\n",
      "505.394404\n",
      "505.394404\n",
      "505.394404\n",
      "505.394404\n",
      "505.394404\n",
      "505.394404\n",
      "505.394404\n",
      "505.394404\n",
      "505.394404\n",
      "505.394404\n",
      "505.394404\n",
      "505.394404\n",
      "505.394404\n",
      "505.394404\n",
      "505.394404\n",
      "505.394404\n",
      "505.394404\n",
      "505.394404\n",
      "505.394404\n",
      "505.394404\n",
      "505.394404\n",
      "505.394404\n",
      "505.394404\n",
      "505.394404\n",
      "505.394404\n",
      "505.394404\n",
      "505.394404\n",
      "505.394404\n",
      "505.394404\n",
      "505.394404\n",
      "505.394404\n",
      "505.394404\n",
      "505.394404\n",
      "505.394404\n",
      "505.394404\n",
      "505.394404\n",
      "505.394404\n",
      "505.394404\n",
      "505.394404\n",
      "505.394404\n",
      "505.394404\n",
      "505.394404\n",
      "505.394404\n",
      "505.394404\n",
      "505.394404\n",
      "505.394404\n"
     ]
    }
   ],
   "source": [
    "for i in range(n_trials):\n",
    "    print(peh_dict[itrial]['waves']['go_sound_wave'][0])\n"
   ]
  },
  {
   "cell_type": "code",
   "execution_count": null,
   "metadata": {},
   "outputs": [],
   "source": []
  }
 ],
 "metadata": {
  "kernelspec": {
   "display_name": "Python 3.7.0 ('bl_pipeline_python_env')",
   "language": "python",
   "name": "python3"
  },
  "language_info": {
   "codemirror_mode": {
    "name": "ipython",
    "version": 3
   },
   "file_extension": ".py",
   "mimetype": "text/x-python",
   "name": "python",
   "nbconvert_exporter": "python",
   "pygments_lexer": "ipython3",
   "version": "3.7.0"
  },
  "orig_nbformat": 4,
  "vscode": {
   "interpreter": {
    "hash": "f41b55e5fead9e9a8fb8fcacb08d930242807f37791b56087b8eaf9641757196"
   }
  }
 },
 "nbformat": 4,
 "nbformat_minor": 2
}
