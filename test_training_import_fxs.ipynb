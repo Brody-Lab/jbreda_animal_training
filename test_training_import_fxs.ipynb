{
 "cells": [
  {
   "cell_type": "code",
   "execution_count": 48,
   "metadata": {},
   "outputs": [
    {
     "name": "stdout",
     "output_type": "stream",
     "text": [
      "The autoreload extension is already loaded. To reload it, use:\n",
      "  %reload_ext autoreload\n"
     ]
    }
   ],
   "source": [
    "import numpy as np\n",
    "import matplotlib.pyplot as plt\n",
    "import datajoint as dj\n",
    "import pandas as pd\n",
    "import pandas as pd\n",
    "from pathlib import Path\n",
    "# import logging\n",
    "# log = logging.getLogger()\n",
    "# log.setLevel(logging.DEBUG)\n",
    "\n",
    "from io_utils import *\n",
    "from peh_utils import * \n",
    "%load_ext autoreload\n",
    "%autoreload 2\n",
    "dj.blob.use_32bit_dims = True # necessary for pd.blob read"
   ]
  },
  {
   "cell_type": "code",
   "execution_count": 49,
   "metadata": {},
   "outputs": [
    {
     "name": "stdout",
     "output_type": "stream",
     "text": [
      "dropping 1 sessions of 93\n",
      "dropping 0 sessions of 92\n"
     ]
    }
   ],
   "source": [
    "#### MULTI SESSION\n",
    "\n",
    "animal_id = 'R600'\n",
    "bdata = dj.create_virtual_module(\"new_acquisition\", \"bdatatest\")\n",
    "subject_session_key = {\"ratname\": animal_id}\n",
    "\n",
    "pd_blobs = (bdata.Sessions & subject_session_key).fetch(\n",
    "    \"protocol_data\", as_dict=True\n",
    ")\n",
    "\n",
    "sess_ids, dates, trials = (bdata.Sessions & subject_session_key).fetch(\n",
    "    \"sessid\", \"sessiondate\", \"n_done_trials\"\n",
    ")\n",
    "\n",
    "peh_blobs = (bdata.ParsedEvents * bdata.Sessions & subject_session_key).fetch('peh', as_dict=True)\n",
    "\n",
    "trial_filter = (trials != 0) & (trials != 1)\n",
    "pd_blobs, peh_blobs, trials, sess_ids, dates = drop_sessions(\n",
    "    pd_blobs, peh_blobs, trials, sess_ids, dates, trial_filter\n",
    ")\n",
    "\n",
    "\n",
    "pd_dicts = convert_to_dict(pd_blobs)\n",
    "reformat_pd_dict(pd_dicts)\n",
    "\n",
    "peh_dicts = convert_to_dict(peh_blobs)\n",
    "\n",
    "assert len(pd_dicts) == len(peh_dicts) == len(trials) == len(sess_ids) == len(dates) , (\n",
    "    \"number of sessions does not match, assumptions of code below are broken!\"\n",
    ")\n",
    "\n",
    "peh_dicts, peh_dicts, trials, sess_ids, dates = find_and_fix_len_errors(\n",
    "    pd_dicts, peh_dicts, trials, sess_ids, dates\n",
    ")\n",
    "\n",
    "\n",
    "peh_dicts_for_df = get_peh_vars_for_df(peh_dicts, trials, sess_ids)\n",
    "\n",
    "df = generate_trials_df(animal_id, pd_dicts, peh_dicts_for_df, trials, sess_ids, dates)\n",
    "\n"
   ]
  },
  {
   "cell_type": "code",
   "execution_count": 3,
   "metadata": {},
   "outputs": [],
   "source": [
    "\n",
    "# #### SINGLE SESSION ####\n",
    "# session_key = {'sessid': 884257}\n",
    "\n",
    "# prb = (bdata.Sessions & session_key).fetch(\n",
    "#     \"protocol_data\", as_dict=True\n",
    "# )\n",
    "\n",
    "# s_id, d, t = (bdata.Sessions & session_key).fetch(\n",
    "#     \"sessid\", \"sessiondate\", \"n_done_trials\"\n",
    "# )\n",
    "# prd = convert_to_dict(prb)\n",
    "# pd_prepare_dict_for_df(prd)\n",
    "# session_key = {'sessid': s_id[0]}\n",
    "# pehb = (bdata.ParsedEvents & session_key).fetch(\"peh\", as_dict=True)\n",
    "# pehd = bt.transform_blob(pehb[0]['peh'])\n",
    "\n"
   ]
  }
 ],
 "metadata": {
  "kernelspec": {
   "display_name": "Python 3.7.0 ('bl_pipeline_python_env')",
   "language": "python",
   "name": "python3"
  },
  "language_info": {
   "codemirror_mode": {
    "name": "ipython",
    "version": 3
   },
   "file_extension": ".py",
   "mimetype": "text/x-python",
   "name": "python",
   "nbconvert_exporter": "python",
   "pygments_lexer": "ipython3",
   "version": "3.7.0"
  },
  "orig_nbformat": 4,
  "vscode": {
   "interpreter": {
    "hash": "0ec6688778bd9047196320f397d807773899ee0db7462e335e13c74021d5b49d"
   }
  }
 },
 "nbformat": 4,
 "nbformat_minor": 2
}
