{
 "cells": [
  {
   "cell_type": "code",
   "execution_count": 7,
   "metadata": {},
   "outputs": [
    {
     "name": "stdout",
     "output_type": "stream",
     "text": [
      "The autoreload extension is already loaded. To reload it, use:\n",
      "  %reload_ext autoreload\n"
     ]
    }
   ],
   "source": [
    "import numpy as np\n",
    "import matplotlib.pyplot as plt\n",
    "import datajoint as dj\n",
    "import pandas as pd\n",
    "import pandas as pd\n",
    "from pathlib import Path\n",
    "\n",
    "from io_utils import *\n",
    "%load_ext autoreload\n",
    "%autoreload 2\n",
    "dj.blob.use_32bit_dims = True # necessary for pd.blob read"
   ]
  },
  {
   "cell_type": "code",
   "execution_count": 36,
   "metadata": {},
   "outputs": [],
   "source": [
    "#### MULTI SESSION\n",
    "animal_id = 'R502'\n",
    "bdata = dj.create_virtual_module(\"new_acquisition\", \"bdatatest\")\n",
    "subject_session_key = {\"ratname\": animal_id}\n",
    "\n",
    "\n",
    "protocol_blobs = (bdata.Sessions & subject_session_key).fetch(\n",
    "    \"protocol_data\", as_dict=True\n",
    ")\n",
    "\n",
    "sess_ids, dates, trials = (bdata.Sessions & subject_session_key).fetch(\n",
    "    \"sessid\", \"sessiondate\", \"n_done_trials\"\n",
    ")\n",
    "\n",
    "protocol_blobs, sess_ids, dates, trials = drop_empty_sessions(\n",
    "    protocol_blobs, sess_ids, dates, trials\n",
    ")\n",
    "\n",
    "protocol_dicts = pd_convert_to_dict(protocol_blobs)\n",
    "pd_prepare_dict_for_df(protocol_dicts)\n",
    "\n",
    "#### SINGLE SESSION ####\n",
    "session_key = {'sessid': 884257}\n",
    "\n",
    "prb = (bdata.Sessions & session_key).fetch(\n",
    "    \"protocol_data\", as_dict=True\n",
    ")\n",
    "\n",
    "s_id, d, t = (bdata.Sessions & session_key).fetch(\n",
    "    \"sessid\", \"sessiondate\", \"n_done_trials\"\n",
    ")\n",
    "prd = pd_convert_to_dict(prb)\n",
    "pd_prepare_dict_for_df(prd)\n",
    "session_key = {'sessid': s_id[0]}\n",
    "pehb = (bdata.ParsedEvents & session_key).fetch(\"peh\", as_dict=True)\n",
    "pehd = bt.transform_blob(pehb[0]['peh'])\n",
    "\n"
   ]
  },
  {
   "cell_type": "markdown",
   "metadata": {},
   "source": [
    "## Next steps\n",
    "1. Working with single session peh & pd\n",
    "* ~~load in peh given session_id~~\n",
    "* ~~convert peh_blob to dict~~\n",
    "* ensure the lengths of protocol data and peh are the same\n",
    "* Iterate over trials to grab the peh information & append into new dict\n",
    "  * maybe validate the sizes again?\n",
    "* merge new peh and pd dicts together\n",
    "* convert to df (not cleaned yet)\n",
    "2. Extend the steps above to be for multiple sessions\n",
    "\n",
    "3. Write functions that merge peh & pd appropriately \n",
    "* test with Training_Progress read in\n",
    "4. Finally, once working smoothly, clean the df for peh vars\n",
    "\n",
    "5. Add in additional peh vars\n",
    "\n"
   ]
  },
  {
   "cell_type": "code",
   "execution_count": null,
   "metadata": {},
   "outputs": [],
   "source": []
  }
 ],
 "metadata": {
  "kernelspec": {
   "display_name": "Python 3.7.0 ('bl_pipeline_python_env')",
   "language": "python",
   "name": "python3"
  },
  "language_info": {
   "codemirror_mode": {
    "name": "ipython",
    "version": 3
   },
   "file_extension": ".py",
   "mimetype": "text/x-python",
   "name": "python",
   "nbconvert_exporter": "python",
   "pygments_lexer": "ipython3",
   "version": "3.7.0"
  },
  "orig_nbformat": 4,
  "vscode": {
   "interpreter": {
    "hash": "0ec6688778bd9047196320f397d807773899ee0db7462e335e13c74021d5b49d"
   }
  }
 },
 "nbformat": 4,
 "nbformat_minor": 2
}
